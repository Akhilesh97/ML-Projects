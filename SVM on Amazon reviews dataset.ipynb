{
 "cells": [
  {
   "cell_type": "markdown",
   "metadata": {},
   "source": [
    "# Amazon Fine Food Reviews Analysis\n",
    "Data Source: https://www.kaggle.com/snap/amazon-fine-food-reviews\n",
    "The Amazon Fine Food Reviews dataset consists of reviews of fine foods from Amazon.<br>\n",
    "\n",
    "Number of reviews: 568,454<br>\n",
    "Number of users: 256,059<br>\n",
    "Number of products: 74,258<br>\n",
    "Timespan: Oct 1999 - Oct 2012<br>\n",
    "Number of Attributes/Columns in data: 10 \n",
    "\n",
    "Attribute Information:\n",
    "\n",
    "1. Id\n",
    "2. ProductId - unique identifier for the product\n",
    "3. UserId - unqiue identifier for the user\n",
    "4. ProfileName\n",
    "5. HelpfulnessNumerator - number of users who found the review helpful\n",
    "6. HelpfulnessDenominator - number of users who indicated whether they found the review helpful or not\n",
    "7. Score - rating between 1 and 5\n",
    "8. Time - timestamp for the review\n",
    "9. Summary - brief summary of the review\n",
    "10. Text - text of the review\n",
    "\n",
    "\n",
    "#### Objective:\n",
    "Given a review, determine whether the review is positive (Rating of 4 or 5) or negative (rating of 1 or 2).\n"
   ]
  },
  {
   "cell_type": "code",
   "execution_count": 58,
   "metadata": {},
   "outputs": [
    {
     "name": "stdout",
     "output_type": "stream",
     "text": [
      "Requirement already up-to-date: ipython[all] in /opt/conda/envs/py3.6/lib/python3.6/site-packages (6.4.0)\n",
      "Requirement not upgraded as not directly required: jedi>=0.10 in /opt/conda/envs/py3.6/lib/python3.6/site-packages (from ipython[all]) (0.11.0)\n",
      "Requirement not upgraded as not directly required: simplegeneric>0.8 in /opt/conda/envs/py3.6/lib/python3.6/site-packages (from ipython[all]) (0.8.1)\n",
      "Requirement not upgraded as not directly required: pickleshare in /opt/conda/envs/py3.6/lib/python3.6/site-packages (from ipython[all]) (0.7.4)\n",
      "Requirement not upgraded as not directly required: prompt-toolkit<2.0.0,>=1.0.15 in /opt/conda/envs/py3.6/lib/python3.6/site-packages (from ipython[all]) (1.0.15)\n",
      "Requirement not upgraded as not directly required: backcall in /opt/conda/envs/py3.6/lib/python3.6/site-packages (from ipython[all]) (0.1.0)\n",
      "Requirement not upgraded as not directly required: pexpect; sys_platform != \"win32\" in /opt/conda/envs/py3.6/lib/python3.6/site-packages (from ipython[all]) (4.3.0)\n",
      "Requirement not upgraded as not directly required: setuptools>=18.5 in /opt/conda/envs/py3.6/lib/python3.6/site-packages (from ipython[all]) (36.4.0)\n",
      "Requirement not upgraded as not directly required: traitlets>=4.2 in /opt/conda/envs/py3.6/lib/python3.6/site-packages (from ipython[all]) (4.3.2)\n",
      "Requirement not upgraded as not directly required: decorator in /opt/conda/envs/py3.6/lib/python3.6/site-packages (from ipython[all]) (4.3.0)\n",
      "Requirement not upgraded as not directly required: pygments in /opt/conda/envs/py3.6/lib/python3.6/site-packages (from ipython[all]) (2.2.0)\n",
      "Requirement not upgraded as not directly required: qtconsole; extra == \"all\" in /opt/conda/envs/py3.6/lib/python3.6/site-packages (from ipython[all]) (4.3.1)\n",
      "Requirement not upgraded as not directly required: testpath; extra == \"all\" in /opt/conda/envs/py3.6/lib/python3.6/site-packages (from ipython[all]) (0.3.1)\n",
      "Requirement not upgraded as not directly required: Sphinx>=1.3; extra == \"all\" in /opt/conda/envs/py3.6/lib/python3.6/site-packages (from ipython[all]) (1.7.6)\n",
      "Requirement not upgraded as not directly required: notebook; extra == \"all\" in /opt/conda/envs/py3.6/lib/python3.6/site-packages (from ipython[all]) (5.5.0)\n",
      "Requirement not upgraded as not directly required: ipykernel; extra == \"all\" in /opt/conda/envs/py3.6/lib/python3.6/site-packages (from ipython[all]) (4.8.0)\n",
      "Requirement not upgraded as not directly required: nbconvert; extra == \"all\" in /opt/conda/envs/py3.6/lib/python3.6/site-packages (from ipython[all]) (5.3.1)\n",
      "Requirement not upgraded as not directly required: nbformat; extra == \"all\" in /opt/conda/envs/py3.6/lib/python3.6/site-packages (from ipython[all]) (4.4.0)\n",
      "Requirement not upgraded as not directly required: ipyparallel; extra == \"all\" in /opt/conda/envs/py3.6/lib/python3.6/site-packages (from ipython[all]) (6.2.2)\n",
      "Requirement not upgraded as not directly required: nose>=0.10.1; extra == \"all\" in /opt/conda/envs/py3.6/lib/python3.6/site-packages (from ipython[all]) (1.3.7)\n",
      "Requirement not upgraded as not directly required: requests; extra == \"all\" in /opt/conda/envs/py3.6/lib/python3.6/site-packages (from ipython[all]) (2.18.4)\n",
      "Requirement not upgraded as not directly required: ipywidgets; extra == \"all\" in /opt/conda/envs/py3.6/lib/python3.6/site-packages (from ipython[all]) (7.0.3)\n",
      "Requirement not upgraded as not directly required: parso==0.1.* in /opt/conda/envs/py3.6/lib/python3.6/site-packages (from jedi>=0.10->ipython[all]) (0.1.1)\n",
      "Requirement not upgraded as not directly required: six>=1.9.0 in /opt/conda/envs/py3.6/lib/python3.6/site-packages (from prompt-toolkit<2.0.0,>=1.0.15->ipython[all]) (1.11.0)\n",
      "Requirement not upgraded as not directly required: wcwidth in /opt/conda/envs/py3.6/lib/python3.6/site-packages (from prompt-toolkit<2.0.0,>=1.0.15->ipython[all]) (0.1.7)\n",
      "Requirement not upgraded as not directly required: ipython_genutils in /opt/conda/envs/py3.6/lib/python3.6/site-packages (from traitlets>=4.2->ipython[all]) (0.2.0)\n",
      "Requirement not upgraded as not directly required: jupyter-client>=4.1 in /opt/conda/envs/py3.6/lib/python3.6/site-packages (from qtconsole; extra == \"all\"->ipython[all]) (5.2.3)\n",
      "Requirement not upgraded as not directly required: jupyter-core in /opt/conda/envs/py3.6/lib/python3.6/site-packages (from qtconsole; extra == \"all\"->ipython[all]) (4.4.0)\n",
      "Requirement not upgraded as not directly required: babel!=2.0,>=1.3 in /opt/conda/envs/py3.6/lib/python3.6/site-packages (from Sphinx>=1.3; extra == \"all\"->ipython[all]) (2.6.0)\n",
      "Requirement not upgraded as not directly required: imagesize in /opt/conda/envs/py3.6/lib/python3.6/site-packages (from Sphinx>=1.3; extra == \"all\"->ipython[all]) (1.0.0)\n",
      "Requirement not upgraded as not directly required: sphinxcontrib-websupport in /opt/conda/envs/py3.6/lib/python3.6/site-packages (from Sphinx>=1.3; extra == \"all\"->ipython[all]) (1.1.0)\n",
      "Requirement not upgraded as not directly required: alabaster<0.8,>=0.7 in /opt/conda/envs/py3.6/lib/python3.6/site-packages (from Sphinx>=1.3; extra == \"all\"->ipython[all]) (0.7.11)\n",
      "Requirement not upgraded as not directly required: docutils>=0.11 in /opt/conda/envs/py3.6/lib/python3.6/site-packages (from Sphinx>=1.3; extra == \"all\"->ipython[all]) (0.14)\n",
      "Requirement not upgraded as not directly required: packaging in /opt/conda/envs/py3.6/lib/python3.6/site-packages (from Sphinx>=1.3; extra == \"all\"->ipython[all]) (17.1)\n",
      "Requirement not upgraded as not directly required: Jinja2>=2.3 in /opt/conda/envs/py3.6/lib/python3.6/site-packages (from Sphinx>=1.3; extra == \"all\"->ipython[all]) (2.10)\n",
      "Requirement not upgraded as not directly required: snowballstemmer>=1.1 in /opt/conda/envs/py3.6/lib/python3.6/site-packages (from Sphinx>=1.3; extra == \"all\"->ipython[all]) (1.2.1)\n",
      "Requirement not upgraded as not directly required: Send2Trash in /opt/conda/envs/py3.6/lib/python3.6/site-packages (from notebook; extra == \"all\"->ipython[all]) (1.5.0)\n",
      "Requirement not upgraded as not directly required: pyzmq>=17 in /opt/conda/envs/py3.6/lib/python3.6/site-packages (from notebook; extra == \"all\"->ipython[all]) (17.0.0)\n",
      "Requirement not upgraded as not directly required: tornado>=4 in /opt/conda/envs/py3.6/lib/python3.6/site-packages (from notebook; extra == \"all\"->ipython[all]) (5.0.2)\n",
      "Requirement not upgraded as not directly required: terminado>=0.8.1 in /opt/conda/envs/py3.6/lib/python3.6/site-packages (from notebook; extra == \"all\"->ipython[all]) (0.8.1)\n",
      "Requirement not upgraded as not directly required: entrypoints>=0.2.2 in /opt/conda/envs/py3.6/lib/python3.6/site-packages (from nbconvert; extra == \"all\"->ipython[all]) (0.2.3)\n",
      "Requirement not upgraded as not directly required: pandocfilters>=1.4.1 in /opt/conda/envs/py3.6/lib/python3.6/site-packages (from nbconvert; extra == \"all\"->ipython[all]) (1.4.2)\n",
      "Requirement not upgraded as not directly required: mistune>=0.7.4 in /opt/conda/envs/py3.6/lib/python3.6/site-packages (from nbconvert; extra == \"all\"->ipython[all]) (0.8.3)\n",
      "Requirement not upgraded as not directly required: bleach in /opt/conda/envs/py3.6/lib/python3.6/site-packages (from nbconvert; extra == \"all\"->ipython[all]) (1.5.0)\n",
      "Requirement not upgraded as not directly required: jsonschema!=2.5.0,>=2.4 in /opt/conda/envs/py3.6/lib/python3.6/site-packages (from nbformat; extra == \"all\"->ipython[all]) (2.6.0)\n",
      "Requirement not upgraded as not directly required: python-dateutil>=2.1 in /opt/conda/envs/py3.6/lib/python3.6/site-packages (from ipyparallel; extra == \"all\"->ipython[all]) (2.7.3)\n",
      "Requirement not upgraded as not directly required: chardet<3.1.0,>=3.0.2 in /opt/conda/envs/py3.6/lib/python3.6/site-packages (from requests; extra == \"all\"->ipython[all]) (3.0.4)\n",
      "Requirement not upgraded as not directly required: idna<2.7,>=2.5 in /opt/conda/envs/py3.6/lib/python3.6/site-packages (from requests; extra == \"all\"->ipython[all]) (2.6)\n",
      "Requirement not upgraded as not directly required: urllib3<1.23,>=1.21.1 in /opt/conda/envs/py3.6/lib/python3.6/site-packages (from requests; extra == \"all\"->ipython[all]) (1.22)\n",
      "Requirement not upgraded as not directly required: certifi>=2017.4.17 in /opt/conda/envs/py3.6/lib/python3.6/site-packages (from requests; extra == \"all\"->ipython[all]) (2018.4.16)\n",
      "Requirement not upgraded as not directly required: widgetsnbextension~=3.0.0 in /opt/conda/envs/py3.6/lib/python3.6/site-packages (from ipywidgets; extra == \"all\"->ipython[all]) (3.0.8)\n",
      "Requirement not upgraded as not directly required: pytz>=0a in /opt/conda/envs/py3.6/lib/python3.6/site-packages (from babel!=2.0,>=1.3->Sphinx>=1.3; extra == \"all\"->ipython[all]) (2018.4)\n",
      "Requirement not upgraded as not directly required: pyparsing>=2.0.2 in /opt/conda/envs/py3.6/lib/python3.6/site-packages (from packaging->Sphinx>=1.3; extra == \"all\"->ipython[all]) (2.2.0)\n",
      "Requirement not upgraded as not directly required: MarkupSafe>=0.23 in /opt/conda/envs/py3.6/lib/python3.6/site-packages (from Jinja2>=2.3->Sphinx>=1.3; extra == \"all\"->ipython[all]) (1.0)\n"
     ]
    },
    {
     "name": "stdout",
     "output_type": "stream",
     "text": [
      "Requirement not upgraded as not directly required: html5lib!=0.9999,!=0.99999,<0.99999999,>=0.999 in /opt/conda/envs/py3.6/lib/python3.6/site-packages (from bleach->nbconvert; extra == \"all\"->ipython[all]) (0.9999999)\r\n"
     ]
    }
   ],
   "source": [
    "!pip install --upgrade \"ipython[all]\""
   ]
  },
  {
   "cell_type": "code",
   "execution_count": 2,
   "metadata": {},
   "outputs": [
    {
     "name": "stdout",
     "output_type": "stream",
     "text": [
      "Requirement already satisfied: pydrive in /opt/conda/envs/py3.6/lib/python3.6/site-packages (1.3.1)\n",
      "Requirement already satisfied: google-api-python-client>=1.2 in /opt/conda/envs/py3.6/lib/python3.6/site-packages (from pydrive) (1.7.4)\n",
      "Requirement already satisfied: PyYAML>=3.0 in /opt/conda/envs/py3.6/lib/python3.6/site-packages (from pydrive) (3.13)\n",
      "Requirement already satisfied: oauth2client>=4.0.0 in /opt/conda/envs/py3.6/lib/python3.6/site-packages (from pydrive) (4.1.2)\n",
      "Requirement already satisfied: google-auth-httplib2>=0.0.3 in /opt/conda/envs/py3.6/lib/python3.6/site-packages (from google-api-python-client>=1.2->pydrive) (0.0.3)\n",
      "Requirement already satisfied: google-auth>=1.4.1 in /opt/conda/envs/py3.6/lib/python3.6/site-packages (from google-api-python-client>=1.2->pydrive) (1.5.0)\n",
      "Requirement already satisfied: six<2dev,>=1.6.1 in /opt/conda/envs/py3.6/lib/python3.6/site-packages (from google-api-python-client>=1.2->pydrive) (1.11.0)\n",
      "Requirement already satisfied: uritemplate<4dev,>=3.0.0 in /opt/conda/envs/py3.6/lib/python3.6/site-packages (from google-api-python-client>=1.2->pydrive) (3.0.0)\n",
      "Requirement already satisfied: httplib2<1dev,>=0.9.2 in /opt/conda/envs/py3.6/lib/python3.6/site-packages (from google-api-python-client>=1.2->pydrive) (0.11.3)\n",
      "Requirement already satisfied: rsa>=3.1.4 in /opt/conda/envs/py3.6/lib/python3.6/site-packages (from oauth2client>=4.0.0->pydrive) (3.4.2)\n",
      "Requirement already satisfied: pyasn1>=0.1.7 in /opt/conda/envs/py3.6/lib/python3.6/site-packages (from oauth2client>=4.0.0->pydrive) (0.4.3)\n",
      "Requirement already satisfied: pyasn1-modules>=0.0.5 in /opt/conda/envs/py3.6/lib/python3.6/site-packages (from oauth2client>=4.0.0->pydrive) (0.2.2)\n",
      "Requirement already satisfied: cachetools>=2.0.0 in /opt/conda/envs/py3.6/lib/python3.6/site-packages (from google-auth>=1.4.1->google-api-python-client>=1.2->pydrive) (2.1.0)\n",
      "Requirement already satisfied: gensim in /opt/conda/envs/py3.6/lib/python3.6/site-packages (3.5.0)\n",
      "Requirement already satisfied: scipy>=0.18.1 in /opt/conda/envs/py3.6/lib/python3.6/site-packages (from gensim) (0.19.1)\n",
      "Requirement already satisfied: numpy>=1.11.3 in /opt/conda/envs/py3.6/lib/python3.6/site-packages (from gensim) (1.12.1)\n",
      "Requirement already satisfied: smart-open>=1.2.1 in /opt/conda/envs/py3.6/lib/python3.6/site-packages (from gensim) (1.6.0)\n",
      "Requirement already satisfied: six>=1.5.0 in /opt/conda/envs/py3.6/lib/python3.6/site-packages (from gensim) (1.11.0)\n",
      "Requirement already satisfied: boto>=2.32 in /opt/conda/envs/py3.6/lib/python3.6/site-packages (from smart-open>=1.2.1->gensim) (2.49.0)\n",
      "Requirement already satisfied: boto3 in /opt/conda/envs/py3.6/lib/python3.6/site-packages (from smart-open>=1.2.1->gensim) (1.7.62)\n",
      "Requirement already satisfied: bz2file in /opt/conda/envs/py3.6/lib/python3.6/site-packages (from smart-open>=1.2.1->gensim) (0.98)\n",
      "Requirement already satisfied: requests in /opt/conda/envs/py3.6/lib/python3.6/site-packages (from smart-open>=1.2.1->gensim) (2.18.4)\n",
      "Requirement already satisfied: botocore<1.11.0,>=1.10.62 in /opt/conda/envs/py3.6/lib/python3.6/site-packages (from boto3->smart-open>=1.2.1->gensim) (1.10.62)\n",
      "Requirement already satisfied: s3transfer<0.2.0,>=0.1.10 in /opt/conda/envs/py3.6/lib/python3.6/site-packages (from boto3->smart-open>=1.2.1->gensim) (0.1.13)\n",
      "Requirement already satisfied: jmespath<1.0.0,>=0.7.1 in /opt/conda/envs/py3.6/lib/python3.6/site-packages (from boto3->smart-open>=1.2.1->gensim) (0.9.3)\n",
      "Requirement already satisfied: chardet<3.1.0,>=3.0.2 in /opt/conda/envs/py3.6/lib/python3.6/site-packages (from requests->smart-open>=1.2.1->gensim) (3.0.4)\n",
      "Requirement already satisfied: idna<2.7,>=2.5 in /opt/conda/envs/py3.6/lib/python3.6/site-packages (from requests->smart-open>=1.2.1->gensim) (2.6)\n",
      "Requirement already satisfied: urllib3<1.23,>=1.21.1 in /opt/conda/envs/py3.6/lib/python3.6/site-packages (from requests->smart-open>=1.2.1->gensim) (1.22)\n",
      "Requirement already satisfied: certifi>=2017.4.17 in /opt/conda/envs/py3.6/lib/python3.6/site-packages (from requests->smart-open>=1.2.1->gensim) (2018.4.16)\n",
      "Requirement already satisfied: docutils>=0.10 in /opt/conda/envs/py3.6/lib/python3.6/site-packages (from botocore<1.11.0,>=1.10.62->boto3->smart-open>=1.2.1->gensim) (0.14)\n",
      "Requirement already satisfied: python-dateutil<3.0.0,>=2.1; python_version >= \"2.7\" in /opt/conda/envs/py3.6/lib/python3.6/site-packages (from botocore<1.11.0,>=1.10.62->boto3->smart-open>=1.2.1->gensim) (2.7.3)\n",
      "Requirement already satisfied: nltk in /opt/conda/envs/py3.6/lib/python3.6/site-packages (3.3)\n",
      "Requirement already satisfied: six in /opt/conda/envs/py3.6/lib/python3.6/site-packages (from nltk) (1.11.0)\n",
      "Requirement already satisfied: seaborn in /opt/conda/envs/py3.6/lib/python3.6/site-packages (0.9.0)\n",
      "Requirement already satisfied: numpy>=1.9.3 in /opt/conda/envs/py3.6/lib/python3.6/site-packages (from seaborn) (1.12.1)\n",
      "Requirement already satisfied: matplotlib>=1.4.3 in /opt/conda/envs/py3.6/lib/python3.6/site-packages (from seaborn) (2.1.2)\n",
      "Requirement already satisfied: scipy>=0.14.0 in /opt/conda/envs/py3.6/lib/python3.6/site-packages (from seaborn) (0.19.1)\n",
      "Requirement already satisfied: pandas>=0.15.2 in /opt/conda/envs/py3.6/lib/python3.6/site-packages (from seaborn) (0.20.3)\n",
      "Requirement already satisfied: six>=1.10 in /opt/conda/envs/py3.6/lib/python3.6/site-packages (from matplotlib>=1.4.3->seaborn) (1.11.0)\n",
      "Requirement already satisfied: python-dateutil>=2.1 in /opt/conda/envs/py3.6/lib/python3.6/site-packages (from matplotlib>=1.4.3->seaborn) (2.7.3)\n",
      "Requirement already satisfied: pytz in /opt/conda/envs/py3.6/lib/python3.6/site-packages (from matplotlib>=1.4.3->seaborn) (2018.4)\n",
      "Requirement already satisfied: cycler>=0.10 in /opt/conda/envs/py3.6/lib/python3.6/site-packages (from matplotlib>=1.4.3->seaborn) (0.10.0)\n",
      "Requirement already satisfied: pyparsing!=2.0.4,!=2.1.2,!=2.1.6,>=2.0.1 in /opt/conda/envs/py3.6/lib/python3.6/site-packages (from matplotlib>=1.4.3->seaborn) (2.2.0)\n",
      "Requirement already satisfied: xgboost in /opt/conda/envs/py3.6/lib/python3.6/site-packages (0.72.1)\n",
      "Requirement already satisfied: scipy in /opt/conda/envs/py3.6/lib/python3.6/site-packages (from xgboost) (0.19.1)\n",
      "Requirement already satisfied: numpy in /opt/conda/envs/py3.6/lib/python3.6/site-packages (from xgboost) (1.12.1)\n",
      "--2018-07-21 10:04:11--  https://doc-14-34-docs.googleusercontent.com/docs/securesc/sr3ne958tilodvhhec79bitjd2u2bnlr/t4ul11orpkbo7g1j7a551rv07qf911pf/1531468800000/09929041593969215305/09929041593969215305/1cZS7OUXVft4KTZ1AzZPu95hSgWzu3aC8?e=download\n",
      "Resolving doc-14-34-docs.googleusercontent.com (doc-14-34-docs.googleusercontent.com)... 172.217.10.33, 2607:f8b0:4006:803::2001\n",
      "Connecting to doc-14-34-docs.googleusercontent.com (doc-14-34-docs.googleusercontent.com)|172.217.10.33|:443... connected.\n",
      "HTTP request sent, awaiting response... 403 Forbidden\n",
      "2018-07-21 10:04:11 ERROR 403: Forbidden.\n",
      "\n"
     ]
    }
   ],
   "source": [
    "!pip install pydrive\n",
    "!pip install gensim\n",
    "!pip install nltk\n",
    "!pip install seaborn\n",
    "!pip install xgboost\n",
    "!wget --header='Host: doc-14-34-docs.googleusercontent.com' --header='User-Agent: Mozilla/5.0 (Macintosh; Intel Mac OS X 10_13_6) AppleWebKit/537.36 (KHTML, like Gecko) Chrome/67.0.3396.99 Safari/537.36' --header='Accept: text/html,application/xhtml+xml,application/xml;q=0.9,image/webp,image/apng,*/*;q=0.8' --header='Accept-Language: en-US,en;q=0.9' --header='Cookie: AUTH_sl8scr3r78dtlbjs5mvoco4ilf6h1a3b=09929041593969215305|1531468800000|u59ib6rmr97ctn3dvalen1hqiaup4fhq; NID=130=LXZwJ_B1s7OlagMooX3o0cdKaSHL3frN5ha4lIftM8TuGzoTCmfcWXpJ3cNRIcbkyUPqb3Jy-XQmP9UHSogzUlrWBiowlnwfwg3Cx-F6T5acQOD-gO27Uk1dFzgik3yZ' --header='Connection: keep-alive' 'https://doc-14-34-docs.googleusercontent.com/docs/securesc/sr3ne958tilodvhhec79bitjd2u2bnlr/t4ul11orpkbo7g1j7a551rv07qf911pf/1531468800000/09929041593969215305/09929041593969215305/1cZS7OUXVft4KTZ1AzZPu95hSgWzu3aC8?e=download' -O 'final.sqlite' -c"
   ]
  },
  {
   "cell_type": "code",
   "execution_count": 3,
   "metadata": {},
   "outputs": [],
   "source": [
    "# loading libraries and data\n",
    "\n",
    "%matplotlib inline\n",
    "\n",
    "import sqlite3                          # for sql database\n",
    "import pandas as pd\n",
    "import numpy as np\n",
    "import nltk                             # nltk:- Natural Language Processing Toolkit\n",
    "import string\n",
    "import re\n",
    "import io\n",
    "import matplotlib.pyplot as plt\n",
    "import seaborn as sns\n",
    "from sklearn.feature_extraction.text import TfidfTransformer\n",
    "from sklearn.feature_extraction.text import CountVectorizer\n",
    "from sklearn.metrics import confusion_matrix\n",
    "from sklearn import metrics\n",
    "from sklearn.metrics import roc_curve, auc\n",
    "from nltk.stem.porter import PorterStemmer\n",
    "from sklearn.decomposition import TruncatedSVD\n",
    "from sklearn.preprocessing import StandardScaler\n",
    "from sklearn.preprocessing import Normalizer\n",
    "from sklearn.manifold import TSNE\n",
    "from sklearn.feature_extraction.text import CountVectorizer\n",
    "from sklearn.feature_extraction.text import TfidfVectorizer\n",
    "from sklearn.neighbors import KNeighborsClassifier\n",
    "from sklearn.naive_bayes import MultinomialNB\n",
    "from sklearn.naive_bayes import GaussianNB\n",
    "from sklearn.linear_model import LogisticRegression\n",
    "from sklearn.svm import SVC\n",
    "from sklearn.tree import DecisionTreeClassifier\n",
    "from sklearn.ensemble import RandomForestClassifier\n",
    "from xgboost import XGBClassifier\n",
    "from sklearn.cluster import KMeans\n",
    "from sklearn.cluster import AgglomerativeClustering\n",
    "from sklearn.model_selection import train_test_split\n",
    "from sklearn.model_selection import GridSearchCV\n",
    "from sklearn.model_selection import RandomizedSearchCV\n",
    "from sklearn.model_selection import cross_val_score\n",
    "from sklearn.metrics import classification_report\n",
    "from sklearn.metrics import accuracy_score\n",
    "from sklearn.metrics import confusion_matrix\n",
    "\n",
    "\n",
    "import pickle\n",
    "def saveindisk(obj,filename):\n",
    "    pickle.dump(obj,open(filename+\".p\",\"wb\"), protocol=4)\n",
    "def openfromdisk(filename):\n",
    "    temp = pickle.load(open(filename+\".p\",\"rb\"))\n",
    "    return temp\n",
    "\n",
    "con = sqlite3.connect(\"final.sqlite\")\n",
    "\n",
    "# Filtering only positive and negative reviews that is\n",
    "# not taking into consideration those reviews with score = 3\n",
    "df = pd.read_sql_query(\"\"\"\n",
    "SELECT *\n",
    "FROM Reviews\n",
    "\"\"\", con)"
   ]
  },
  {
   "cell_type": "code",
   "execution_count": 4,
   "metadata": {},
   "outputs": [
    {
     "data": {
      "text/html": [
       "<div>\n",
       "<style>\n",
       "    .dataframe thead tr:only-child th {\n",
       "        text-align: right;\n",
       "    }\n",
       "\n",
       "    .dataframe thead th {\n",
       "        text-align: left;\n",
       "    }\n",
       "\n",
       "    .dataframe tbody tr th {\n",
       "        vertical-align: top;\n",
       "    }\n",
       "</style>\n",
       "<table border=\"1\" class=\"dataframe\">\n",
       "  <thead>\n",
       "    <tr style=\"text-align: right;\">\n",
       "      <th></th>\n",
       "      <th>index</th>\n",
       "      <th>Id</th>\n",
       "      <th>ProductId</th>\n",
       "      <th>UserId</th>\n",
       "      <th>ProfileName</th>\n",
       "      <th>HelpfulnessNumerator</th>\n",
       "      <th>HelpfulnessDenominator</th>\n",
       "      <th>Score</th>\n",
       "      <th>Time</th>\n",
       "      <th>Summary</th>\n",
       "      <th>Text</th>\n",
       "      <th>CleanedText</th>\n",
       "      <th>CleanedText_NoStem</th>\n",
       "    </tr>\n",
       "  </thead>\n",
       "  <tbody>\n",
       "    <tr>\n",
       "      <th>0</th>\n",
       "      <td>0</td>\n",
       "      <td>1</td>\n",
       "      <td>B001E4KFG0</td>\n",
       "      <td>A3SGXH7AUHU8GW</td>\n",
       "      <td>delmartian</td>\n",
       "      <td>1</td>\n",
       "      <td>1</td>\n",
       "      <td>Positive</td>\n",
       "      <td>1303862400</td>\n",
       "      <td>Good Quality Dog Food</td>\n",
       "      <td>I have bought several of the Vitality canned d...</td>\n",
       "      <td>b'bought sever vital can dog food product foun...</td>\n",
       "      <td>b'bought several vitality canned dog food prod...</td>\n",
       "    </tr>\n",
       "    <tr>\n",
       "      <th>1</th>\n",
       "      <td>1</td>\n",
       "      <td>2</td>\n",
       "      <td>B00813GRG4</td>\n",
       "      <td>A1D87F6ZCVE5NK</td>\n",
       "      <td>dll pa</td>\n",
       "      <td>0</td>\n",
       "      <td>0</td>\n",
       "      <td>Negative</td>\n",
       "      <td>1346976000</td>\n",
       "      <td>Not as Advertised</td>\n",
       "      <td>Product arrived labeled as Jumbo Salted Peanut...</td>\n",
       "      <td>b'product arriv label jumbo salt peanut peanut...</td>\n",
       "      <td>b'product arrived labeled jumbo salted peanuts...</td>\n",
       "    </tr>\n",
       "    <tr>\n",
       "      <th>2</th>\n",
       "      <td>2</td>\n",
       "      <td>3</td>\n",
       "      <td>B000LQOCH0</td>\n",
       "      <td>ABXLMWJIXXAIN</td>\n",
       "      <td>Natalia Corres \"Natalia Corres\"</td>\n",
       "      <td>1</td>\n",
       "      <td>1</td>\n",
       "      <td>Positive</td>\n",
       "      <td>1219017600</td>\n",
       "      <td>\"Delight\" says it all</td>\n",
       "      <td>This is a confection that has been around a fe...</td>\n",
       "      <td>b'confect around centuri light pillowi citrus ...</td>\n",
       "      <td>b'confection around centuries light pillowy ci...</td>\n",
       "    </tr>\n",
       "    <tr>\n",
       "      <th>3</th>\n",
       "      <td>3</td>\n",
       "      <td>4</td>\n",
       "      <td>B000UA0QIQ</td>\n",
       "      <td>A395BORC6FGVXV</td>\n",
       "      <td>Karl</td>\n",
       "      <td>3</td>\n",
       "      <td>3</td>\n",
       "      <td>Negative</td>\n",
       "      <td>1307923200</td>\n",
       "      <td>Cough Medicine</td>\n",
       "      <td>If you are looking for the secret ingredient i...</td>\n",
       "      <td>b'look secret ingredi robitussin believ found ...</td>\n",
       "      <td>b'looking secret ingredient robitussin believe...</td>\n",
       "    </tr>\n",
       "    <tr>\n",
       "      <th>4</th>\n",
       "      <td>4</td>\n",
       "      <td>5</td>\n",
       "      <td>B006K2ZZ7K</td>\n",
       "      <td>A1UQRSCLF8GW1T</td>\n",
       "      <td>Michael D. Bigham \"M. Wassir\"</td>\n",
       "      <td>0</td>\n",
       "      <td>0</td>\n",
       "      <td>Positive</td>\n",
       "      <td>1350777600</td>\n",
       "      <td>Great taffy</td>\n",
       "      <td>Great taffy at a great price.  There was a wid...</td>\n",
       "      <td>b'great taffi great price wide assort yummi ta...</td>\n",
       "      <td>b'great taffy great price wide assortment yumm...</td>\n",
       "    </tr>\n",
       "  </tbody>\n",
       "</table>\n",
       "</div>"
      ],
      "text/plain": [
       "   index  Id   ProductId          UserId                      ProfileName  \\\n",
       "0      0   1  B001E4KFG0  A3SGXH7AUHU8GW                       delmartian   \n",
       "1      1   2  B00813GRG4  A1D87F6ZCVE5NK                           dll pa   \n",
       "2      2   3  B000LQOCH0   ABXLMWJIXXAIN  Natalia Corres \"Natalia Corres\"   \n",
       "3      3   4  B000UA0QIQ  A395BORC6FGVXV                             Karl   \n",
       "4      4   5  B006K2ZZ7K  A1UQRSCLF8GW1T    Michael D. Bigham \"M. Wassir\"   \n",
       "\n",
       "   HelpfulnessNumerator  HelpfulnessDenominator     Score        Time  \\\n",
       "0                     1                       1  Positive  1303862400   \n",
       "1                     0                       0  Negative  1346976000   \n",
       "2                     1                       1  Positive  1219017600   \n",
       "3                     3                       3  Negative  1307923200   \n",
       "4                     0                       0  Positive  1350777600   \n",
       "\n",
       "                 Summary                                               Text  \\\n",
       "0  Good Quality Dog Food  I have bought several of the Vitality canned d...   \n",
       "1      Not as Advertised  Product arrived labeled as Jumbo Salted Peanut...   \n",
       "2  \"Delight\" says it all  This is a confection that has been around a fe...   \n",
       "3         Cough Medicine  If you are looking for the secret ingredient i...   \n",
       "4            Great taffy  Great taffy at a great price.  There was a wid...   \n",
       "\n",
       "                                         CleanedText  \\\n",
       "0  b'bought sever vital can dog food product foun...   \n",
       "1  b'product arriv label jumbo salt peanut peanut...   \n",
       "2  b'confect around centuri light pillowi citrus ...   \n",
       "3  b'look secret ingredi robitussin believ found ...   \n",
       "4  b'great taffi great price wide assort yummi ta...   \n",
       "\n",
       "                                  CleanedText_NoStem  \n",
       "0  b'bought several vitality canned dog food prod...  \n",
       "1  b'product arrived labeled jumbo salted peanuts...  \n",
       "2  b'confection around centuries light pillowy ci...  \n",
       "3  b'looking secret ingredient robitussin believe...  \n",
       "4  b'great taffy great price wide assortment yumm...  "
      ]
     },
     "execution_count": 4,
     "metadata": {},
     "output_type": "execute_result"
    }
   ],
   "source": [
    "df.head()"
   ]
  },
  {
   "cell_type": "code",
   "execution_count": 5,
   "metadata": {},
   "outputs": [
    {
     "data": {
      "text/html": [
       "<div>\n",
       "<style>\n",
       "    .dataframe thead tr:only-child th {\n",
       "        text-align: right;\n",
       "    }\n",
       "\n",
       "    .dataframe thead th {\n",
       "        text-align: left;\n",
       "    }\n",
       "\n",
       "    .dataframe tbody tr th {\n",
       "        vertical-align: top;\n",
       "    }\n",
       "</style>\n",
       "<table border=\"1\" class=\"dataframe\">\n",
       "  <thead>\n",
       "    <tr style=\"text-align: right;\">\n",
       "      <th></th>\n",
       "      <th>index</th>\n",
       "      <th>Id</th>\n",
       "      <th>HelpfulnessNumerator</th>\n",
       "      <th>HelpfulnessDenominator</th>\n",
       "      <th>Time</th>\n",
       "    </tr>\n",
       "  </thead>\n",
       "  <tbody>\n",
       "    <tr>\n",
       "      <th>count</th>\n",
       "      <td>364171.000000</td>\n",
       "      <td>364171.000000</td>\n",
       "      <td>364171.000000</td>\n",
       "      <td>364171.000000</td>\n",
       "      <td>3.641710e+05</td>\n",
       "    </tr>\n",
       "    <tr>\n",
       "      <th>mean</th>\n",
       "      <td>241825.377603</td>\n",
       "      <td>261814.561014</td>\n",
       "      <td>1.739021</td>\n",
       "      <td>2.186841</td>\n",
       "      <td>1.296135e+09</td>\n",
       "    </tr>\n",
       "    <tr>\n",
       "      <th>std</th>\n",
       "      <td>154519.869452</td>\n",
       "      <td>166958.768333</td>\n",
       "      <td>6.723921</td>\n",
       "      <td>7.348482</td>\n",
       "      <td>4.864772e+07</td>\n",
       "    </tr>\n",
       "    <tr>\n",
       "      <th>min</th>\n",
       "      <td>0.000000</td>\n",
       "      <td>1.000000</td>\n",
       "      <td>0.000000</td>\n",
       "      <td>0.000000</td>\n",
       "      <td>9.393408e+08</td>\n",
       "    </tr>\n",
       "    <tr>\n",
       "      <th>25%</th>\n",
       "      <td>104427.500000</td>\n",
       "      <td>113379.500000</td>\n",
       "      <td>0.000000</td>\n",
       "      <td>0.000000</td>\n",
       "      <td>1.270858e+09</td>\n",
       "    </tr>\n",
       "    <tr>\n",
       "      <th>50%</th>\n",
       "      <td>230033.000000</td>\n",
       "      <td>249445.000000</td>\n",
       "      <td>0.000000</td>\n",
       "      <td>1.000000</td>\n",
       "      <td>1.311379e+09</td>\n",
       "    </tr>\n",
       "    <tr>\n",
       "      <th>75%</th>\n",
       "      <td>376763.500000</td>\n",
       "      <td>407408.500000</td>\n",
       "      <td>2.000000</td>\n",
       "      <td>2.000000</td>\n",
       "      <td>1.332893e+09</td>\n",
       "    </tr>\n",
       "    <tr>\n",
       "      <th>max</th>\n",
       "      <td>525813.000000</td>\n",
       "      <td>568454.000000</td>\n",
       "      <td>866.000000</td>\n",
       "      <td>878.000000</td>\n",
       "      <td>1.351210e+09</td>\n",
       "    </tr>\n",
       "  </tbody>\n",
       "</table>\n",
       "</div>"
      ],
      "text/plain": [
       "               index             Id  HelpfulnessNumerator  \\\n",
       "count  364171.000000  364171.000000         364171.000000   \n",
       "mean   241825.377603  261814.561014              1.739021   \n",
       "std    154519.869452  166958.768333              6.723921   \n",
       "min         0.000000       1.000000              0.000000   \n",
       "25%    104427.500000  113379.500000              0.000000   \n",
       "50%    230033.000000  249445.000000              0.000000   \n",
       "75%    376763.500000  407408.500000              2.000000   \n",
       "max    525813.000000  568454.000000            866.000000   \n",
       "\n",
       "       HelpfulnessDenominator          Time  \n",
       "count           364171.000000  3.641710e+05  \n",
       "mean                 2.186841  1.296135e+09  \n",
       "std                  7.348482  4.864772e+07  \n",
       "min                  0.000000  9.393408e+08  \n",
       "25%                  0.000000  1.270858e+09  \n",
       "50%                  1.000000  1.311379e+09  \n",
       "75%                  2.000000  1.332893e+09  \n",
       "max                878.000000  1.351210e+09  "
      ]
     },
     "execution_count": 5,
     "metadata": {},
     "output_type": "execute_result"
    }
   ],
   "source": [
    "df.describe()"
   ]
  },
  {
   "cell_type": "code",
   "execution_count": 6,
   "metadata": {},
   "outputs": [
    {
     "data": {
      "text/plain": [
       "(364171, 13)"
      ]
     },
     "execution_count": 6,
     "metadata": {},
     "output_type": "execute_result"
    }
   ],
   "source": [
    "df.shape"
   ]
  },
  {
   "cell_type": "code",
   "execution_count": 7,
   "metadata": {},
   "outputs": [
    {
     "data": {
      "text/plain": [
       "364171"
      ]
     },
     "execution_count": 7,
     "metadata": {},
     "output_type": "execute_result"
    }
   ],
   "source": [
    "df['Score'].size"
   ]
  },
  {
   "cell_type": "code",
   "execution_count": 8,
   "metadata": {},
   "outputs": [
    {
     "data": {
      "text/html": [
       "<div>\n",
       "<style>\n",
       "    .dataframe thead tr:only-child th {\n",
       "        text-align: right;\n",
       "    }\n",
       "\n",
       "    .dataframe thead th {\n",
       "        text-align: left;\n",
       "    }\n",
       "\n",
       "    .dataframe tbody tr th {\n",
       "        vertical-align: top;\n",
       "    }\n",
       "</style>\n",
       "<table border=\"1\" class=\"dataframe\">\n",
       "  <thead>\n",
       "    <tr style=\"text-align: right;\">\n",
       "      <th></th>\n",
       "      <th>index</th>\n",
       "      <th>Id</th>\n",
       "      <th>ProductId</th>\n",
       "      <th>UserId</th>\n",
       "      <th>ProfileName</th>\n",
       "      <th>HelpfulnessNumerator</th>\n",
       "      <th>HelpfulnessDenominator</th>\n",
       "      <th>Score</th>\n",
       "      <th>Time</th>\n",
       "      <th>Summary</th>\n",
       "      <th>Text</th>\n",
       "      <th>CleanedText</th>\n",
       "      <th>CleanedText_NoStem</th>\n",
       "    </tr>\n",
       "  </thead>\n",
       "  <tbody>\n",
       "    <tr>\n",
       "      <th>117901</th>\n",
       "      <td>138683</td>\n",
       "      <td>150501</td>\n",
       "      <td>0006641040</td>\n",
       "      <td>AJ46FKXOVC7NR</td>\n",
       "      <td>Nicholas A Mesiano</td>\n",
       "      <td>2</td>\n",
       "      <td>2</td>\n",
       "      <td>Positive</td>\n",
       "      <td>940809600</td>\n",
       "      <td>This whole series is great way to spend time w...</td>\n",
       "      <td>I can remember seeing the show when it aired o...</td>\n",
       "      <td>b'rememb see show air televis year ago child s...</td>\n",
       "      <td>b'remember seeing show aired television years ...</td>\n",
       "    </tr>\n",
       "    <tr>\n",
       "      <th>104684</th>\n",
       "      <td>121041</td>\n",
       "      <td>131217</td>\n",
       "      <td>B00004RAMX</td>\n",
       "      <td>A5NQLNC6QPGSI</td>\n",
       "      <td>Kim Nason</td>\n",
       "      <td>7</td>\n",
       "      <td>8</td>\n",
       "      <td>Positive</td>\n",
       "      <td>965001600</td>\n",
       "      <td>End your Gopher Problems</td>\n",
       "      <td>I have just recently purchased the Woodstream ...</td>\n",
       "      <td>b'recent purchas woodstream corp gopher trap w...</td>\n",
       "      <td>b'recently purchased woodstream corp gopher tr...</td>\n",
       "    </tr>\n",
       "    <tr>\n",
       "      <th>169304</th>\n",
       "      <td>212495</td>\n",
       "      <td>230309</td>\n",
       "      <td>B00004RYGX</td>\n",
       "      <td>A34NBH479RB0E</td>\n",
       "      <td>\"dmab6395\"</td>\n",
       "      <td>0</td>\n",
       "      <td>1</td>\n",
       "      <td>Positive</td>\n",
       "      <td>977184000</td>\n",
       "      <td>FUNNY</td>\n",
       "      <td>I THOUGHT THIS MOVIE WAS SO FUNNY, MICHAEL KEA...</td>\n",
       "      <td>b'thought movi funni michael keaton beetlejuic...</td>\n",
       "      <td>b'thought movie funny michael keaton beetlejui...</td>\n",
       "    </tr>\n",
       "    <tr>\n",
       "      <th>316051</th>\n",
       "      <td>443667</td>\n",
       "      <td>479728</td>\n",
       "      <td>B00005U2FA</td>\n",
       "      <td>AR5RRP9N2UXDJ</td>\n",
       "      <td>Boraxo \"Boraxo\"</td>\n",
       "      <td>21</td>\n",
       "      <td>23</td>\n",
       "      <td>Positive</td>\n",
       "      <td>1029196800</td>\n",
       "      <td>It really works</td>\n",
       "      <td>I was very skeptical when I bought this item, ...</td>\n",
       "      <td>b'skeptic bought item imagin amaz discov actua...</td>\n",
       "      <td>b'skeptical bought item imagine amazement disc...</td>\n",
       "    </tr>\n",
       "    <tr>\n",
       "      <th>332204</th>\n",
       "      <td>473032</td>\n",
       "      <td>511568</td>\n",
       "      <td>B0000D94PG</td>\n",
       "      <td>A2801SG8XA9LNX</td>\n",
       "      <td>PACW</td>\n",
       "      <td>8</td>\n",
       "      <td>8</td>\n",
       "      <td>Positive</td>\n",
       "      <td>1069113600</td>\n",
       "      <td>Almost wonderful</td>\n",
       "      <td>I have relied on these cake mixes for a few ye...</td>\n",
       "      <td>b'reli cake mix year find handi tast fine suga...</td>\n",
       "      <td>b'relied cake mixes years find handy taste fin...</td>\n",
       "    </tr>\n",
       "  </tbody>\n",
       "</table>\n",
       "</div>"
      ],
      "text/plain": [
       "         index      Id   ProductId          UserId         ProfileName  \\\n",
       "117901  138683  150501  0006641040   AJ46FKXOVC7NR  Nicholas A Mesiano   \n",
       "104684  121041  131217  B00004RAMX   A5NQLNC6QPGSI           Kim Nason   \n",
       "169304  212495  230309  B00004RYGX   A34NBH479RB0E          \"dmab6395\"   \n",
       "316051  443667  479728  B00005U2FA   AR5RRP9N2UXDJ     Boraxo \"Boraxo\"   \n",
       "332204  473032  511568  B0000D94PG  A2801SG8XA9LNX                PACW   \n",
       "\n",
       "        HelpfulnessNumerator  HelpfulnessDenominator     Score        Time  \\\n",
       "117901                     2                       2  Positive   940809600   \n",
       "104684                     7                       8  Positive   965001600   \n",
       "169304                     0                       1  Positive   977184000   \n",
       "316051                    21                      23  Positive  1029196800   \n",
       "332204                     8                       8  Positive  1069113600   \n",
       "\n",
       "                                                  Summary  \\\n",
       "117901  This whole series is great way to spend time w...   \n",
       "104684                           End your Gopher Problems   \n",
       "169304                                              FUNNY   \n",
       "316051                                    It really works   \n",
       "332204                                   Almost wonderful   \n",
       "\n",
       "                                                     Text  \\\n",
       "117901  I can remember seeing the show when it aired o...   \n",
       "104684  I have just recently purchased the Woodstream ...   \n",
       "169304  I THOUGHT THIS MOVIE WAS SO FUNNY, MICHAEL KEA...   \n",
       "316051  I was very skeptical when I bought this item, ...   \n",
       "332204  I have relied on these cake mixes for a few ye...   \n",
       "\n",
       "                                              CleanedText  \\\n",
       "117901  b'rememb see show air televis year ago child s...   \n",
       "104684  b'recent purchas woodstream corp gopher trap w...   \n",
       "169304  b'thought movi funni michael keaton beetlejuic...   \n",
       "316051  b'skeptic bought item imagin amaz discov actua...   \n",
       "332204  b'reli cake mix year find handi tast fine suga...   \n",
       "\n",
       "                                       CleanedText_NoStem  \n",
       "117901  b'remember seeing show aired television years ...  \n",
       "104684  b'recently purchased woodstream corp gopher tr...  \n",
       "169304  b'thought movie funny michael keaton beetlejui...  \n",
       "316051  b'skeptical bought item imagine amazement disc...  \n",
       "332204  b'relied cake mixes years find handy taste fin...  "
      ]
     },
     "execution_count": 8,
     "metadata": {},
     "output_type": "execute_result"
    }
   ],
   "source": [
    "# Taking Sample Datapoints\n",
    "n_samples = 15000\n",
    "df_sample = df.sample(n_samples)\n",
    "df_sample.sort_values('Time', inplace=True) #Sorting with respect to time\n",
    "df_sample.head()"
   ]
  },
  {
   "cell_type": "code",
   "execution_count": 9,
   "metadata": {},
   "outputs": [],
   "source": [
    "def polarity(x):\n",
    "    if x == \"Positive\":\n",
    "        return 0\n",
    "    else:\n",
    "        return 1\n",
    "df_sample['Score'] = df_sample['Score'].map(polarity)"
   ]
  },
  {
   "cell_type": "markdown",
   "metadata": {},
   "source": [
    "# Applying the Support Vector Machine on the different Vectorizing Techniques\n",
    "\n",
    "\n",
    "## Bag of Word(BOW)"
   ]
  },
  {
   "cell_type": "markdown",
   "metadata": {},
   "source": [
    "<img src=\"https://aitrends.com/wp-content/uploads/2018/01/1-19SVM-2.jpg\">"
   ]
  },
  {
   "cell_type": "code",
   "execution_count": 10,
   "metadata": {},
   "outputs": [],
   "source": [
    "from sklearn.feature_extraction.text import CountVectorizer\n",
    "from sklearn.model_selection import train_test_split\n",
    "from sklearn import preprocessing\n",
    "\n",
    "#Breaking into Train and test\n",
    "X_train, X_test, y_train, y_test = train_test_split(df_sample['CleanedText'].values,df_sample['Score'].values,test_size=0.3,shuffle=False)\n",
    "\n",
    "bi_gram = CountVectorizer() \n",
    "X_train = bi_gram.fit_transform(X_train)\n",
    "X_train = preprocessing.normalize(X_train)\n",
    "\n",
    "X_test = bi_gram.transform(X_test)\n",
    "X_test = preprocessing.normalize(X_test)"
   ]
  },
  {
   "cell_type": "code",
   "execution_count": 11,
   "metadata": {},
   "outputs": [
    {
     "name": "stdout",
     "output_type": "stream",
     "text": [
      "Fitting 10 folds for each of 16 candidates, totalling 160 fits\n"
     ]
    },
    {
     "name": "stderr",
     "output_type": "stream",
     "text": [
      "[Parallel(n_jobs=-1)]: Done  10 tasks      | elapsed:    4.5s\n",
      "[Parallel(n_jobs=-1)]: Done 160 out of 160 | elapsed:  1.4min finished\n"
     ]
    },
    {
     "name": "stdout",
     "output_type": "stream",
     "text": [
      "Best HyperParameter:  {'C': 1, 'gamma': 1}\n",
      "Best Accuracy: 86.92%\n"
     ]
    }
   ],
   "source": [
    "# GridSearch\n",
    "from sklearn.model_selection import GridSearchCV\n",
    "from sklearn.svm import SVC\n",
    "from sklearn.model_selection import TimeSeriesSplit\n",
    "\n",
    "clf = SVC()\n",
    "param_grid = {'gamma':[1,0.5,0.1,0.05],\n",
    "             'C':[1,0.5,0.1,0.05]} # params we need to try on classifier\n",
    "tscv = TimeSeriesSplit(n_splits=10) # For time based splitting\n",
    "gsv = GridSearchCV(clf,param_grid,cv=tscv,verbose=1,n_jobs=-1)\n",
    "gsv.fit(X_train,y_train)\n",
    "print(\"Best HyperParameter: \",gsv.best_params_)\n",
    "print(\"Best Accuracy: %.2f%%\"%(gsv.best_score_*100))"
   ]
  },
  {
   "cell_type": "code",
   "execution_count": 12,
   "metadata": {},
   "outputs": [
    {
     "name": "stdout",
     "output_type": "stream",
     "text": [
      "                 Classification Report Test Data\n",
      "             precision    recall  f1-score   support\n",
      "\n",
      "          0       0.89      0.99      0.93      3750\n",
      "          1       0.86      0.37      0.52       750\n",
      "\n",
      "avg / total       0.88      0.88      0.87      4500\n",
      "\n"
     ]
    }
   ],
   "source": [
    "from sklearn.metrics import classification_report\n",
    "from sklearn.metrics import accuracy_score\n",
    "from sklearn.metrics import confusion_matrix\n",
    "\n",
    "print(\"                 Classification Report Test Data\")\n",
    "print(classification_report(y_test, gsv.predict(X_test)))"
   ]
  },
  {
   "cell_type": "code",
   "execution_count": 13,
   "metadata": {},
   "outputs": [
    {
     "data": {
      "text/plain": [
       "<matplotlib.axes._subplots.AxesSubplot at 0x3ffefad27978>"
      ]
     },
     "execution_count": 13,
     "metadata": {},
     "output_type": "execute_result"
    },
    {
     "data": {
      "image/png": "[encoded data removed]",
      "text/plain": [
       "<matplotlib.figure.Figure at 0x3fff002f2f98>"
      ]
     },
     "metadata": {},
     "output_type": "display_data"
    }
   ],
   "source": [
    "clf = SVC(C=50, gamma=0.05)\n",
    "clf.fit(X_train,y_train)\n",
    "y_pred = clf.predict(X_test)\n",
    "df_cm = pd.DataFrame(confusion_matrix(y_test, y_pred), range(2),range(2))\n",
    "sns.set(font_scale=1.4) # for label size\n",
    "sns.heatmap(df_cm, annot=True,annot_kws={\"size\": 16})"
   ]
  },
  {
   "cell_type": "code",
   "execution_count": 15,
   "metadata": {},
   "outputs": [
    {
     "name": "stdout",
     "output_type": "stream",
     "text": [
      "Fitting 10 folds for each of 10 candidates, totalling 100 fits\n"
     ]
    },
    {
     "name": "stderr",
     "output_type": "stream",
     "text": [
      "[Parallel(n_jobs=-1)]: Done  10 tasks      | elapsed:    4.2s\n",
      "[Parallel(n_jobs=-1)]: Done 100 out of 100 | elapsed:   58.8s finished\n"
     ]
    },
    {
     "name": "stdout",
     "output_type": "stream",
     "text": [
      "Best HyperParameter:  {'gamma': 1, 'C': 1}\n",
      "Best Accuracy: 86.92%\n"
     ]
    }
   ],
   "source": [
    "# RandomSearch\n",
    "from sklearn.model_selection import GridSearchCV\n",
    "from sklearn.svm import SVC\n",
    "from sklearn.model_selection import TimeSeriesSplit\n",
    "\n",
    "clf = SVC()\n",
    "param_grid = {'gamma':[1,0.5,0.1,0.05],\n",
    "             'C':[1,0.5,0.1,0.05]} # params we need to try on classifier\n",
    "tscv = TimeSeriesSplit(n_splits=10) # For time based splitting\n",
    "gsv = RandomizedSearchCV(clf,param_grid,cv=tscv,verbose=1,n_jobs=-1)\n",
    "gsv.fit(X_train,y_train)\n",
    "print(\"Best HyperParameter: \",gsv.best_params_)\n",
    "print(\"Best Accuracy: %.2f%%\"%(gsv.best_score_*100))"
   ]
  },
  {
   "cell_type": "code",
   "execution_count": 16,
   "metadata": {},
   "outputs": [
    {
     "name": "stdout",
     "output_type": "stream",
     "text": [
      "                 Classification Report Test Data\n",
      "             precision    recall  f1-score   support\n",
      "\n",
      "          0       0.89      0.99      0.93      3750\n",
      "          1       0.86      0.37      0.52       750\n",
      "\n",
      "avg / total       0.88      0.88      0.87      4500\n",
      "\n"
     ]
    }
   ],
   "source": [
    "from sklearn.metrics import classification_report\n",
    "from sklearn.metrics import accuracy_score\n",
    "from sklearn.metrics import confusion_matrix\n",
    "\n",
    "print(\"                 Classification Report Test Data\")\n",
    "print(classification_report(y_test, gsv.predict(X_test)))"
   ]
  },
  {
   "cell_type": "code",
   "execution_count": 17,
   "metadata": {},
   "outputs": [
    {
     "data": {
      "text/plain": [
       "<matplotlib.axes._subplots.AxesSubplot at 0x3ffefba03c50>"
      ]
     },
     "execution_count": 17,
     "metadata": {},
     "output_type": "execute_result"
    },
    {
     "data": {
      "image/png": "[encoded data removed]",
      "text/plain": [
       "<matplotlib.figure.Figure at 0x3ffefba03438>"
      ]
     },
     "metadata": {},
     "output_type": "display_data"
    }
   ],
   "source": [
    "clf = SVC(C=50, gamma=0.05)\n",
    "clf.fit(X_train,y_train)\n",
    "y_pred = clf.predict(X_test)\n",
    "df_cm = pd.DataFrame(confusion_matrix(y_test, y_pred), range(2),range(2))\n",
    "sns.set(font_scale=1.4) # for label size\n",
    "sns.heatmap(df_cm, annot=True,annot_kws={\"size\": 16})"
   ]
  },
  {
   "cell_type": "code",
   "execution_count": 18,
   "metadata": {},
   "outputs": [
    {
     "data": {
      "text/plain": [
       "array([0, 1, 1, ..., 0, 0, 0])"
      ]
     },
     "execution_count": 18,
     "metadata": {},
     "output_type": "execute_result"
    }
   ],
   "source": [
    "y_pred"
   ]
  },
  {
   "cell_type": "markdown",
   "metadata": {},
   "source": [
    "## Using SGDClassifier with hingloss"
   ]
  },
  {
   "cell_type": "code",
   "execution_count": 20,
   "metadata": {},
   "outputs": [
    {
     "name": "stderr",
     "output_type": "stream",
     "text": [
      "/opt/conda/envs/py3.6/lib/python3.6/site-packages/sklearn/linear_model/stochastic_gradient.py:84: FutureWarning: max_iter and tol parameters have been added in <class 'sklearn.linear_model.stochastic_gradient.SGDClassifier'> in 0.19. If both are left unset, they default to max_iter=5 and tol=None. If tol is not None, max_iter defaults to max_iter=1000. From 0.21, default max_iter will be 1000, and default tol will be 1e-3.\n",
      "  \"and default tol will be 1e-3.\" % type(self), FutureWarning)\n"
     ]
    },
    {
     "name": "stdout",
     "output_type": "stream",
     "text": [
      "Fitting 10 folds for each of 8 candidates, totalling 80 fits\n",
      "Best HyperParameter:  {'alpha': 0.5, 'penalty': 'l1'}\n",
      "Best Accuracy: 84.11%\n"
     ]
    },
    {
     "name": "stderr",
     "output_type": "stream",
     "text": [
      "[Parallel(n_jobs=1)]: Done  80 out of  80 | elapsed:    1.1s finished\n"
     ]
    }
   ],
   "source": [
    "# hinge-loss\n",
    "from sklearn.linear_model import SGDClassifier\n",
    "clf = SGDClassifier(loss='hinge')\n",
    "param_dist = {'penalty':['l1','l2'],\n",
    "             'alpha':[0.5,0.1,0.05,0.01]} \n",
    "tscv = TimeSeriesSplit(n_splits=10) # For time based splitting\n",
    "gsv = GridSearchCV(clf,param_dist,cv=tscv,verbose=1)\n",
    "gsv.fit(X_train,y_train)\n",
    "print(\"Best HyperParameter: \",gsv.best_params_)\n",
    "print(\"Best Accuracy: %.2f%%\"%(gsv.best_score_*100))"
   ]
  },
  {
   "cell_type": "code",
   "execution_count": 21,
   "metadata": {},
   "outputs": [
    {
     "name": "stderr",
     "output_type": "stream",
     "text": [
      "/opt/conda/envs/py3.6/lib/python3.6/site-packages/sklearn/linear_model/stochastic_gradient.py:84: FutureWarning: max_iter and tol parameters have been added in <class 'sklearn.linear_model.stochastic_gradient.SGDClassifier'> in 0.19. If both are left unset, they default to max_iter=5 and tol=None. If tol is not None, max_iter defaults to max_iter=1000. From 0.21, default max_iter will be 1000, and default tol will be 1e-3.\n",
      "  \"and default tol will be 1e-3.\" % type(self), FutureWarning)\n"
     ]
    },
    {
     "data": {
      "text/plain": [
       "<matplotlib.axes._subplots.AxesSubplot at 0x3ffef89964a8>"
      ]
     },
     "execution_count": 21,
     "metadata": {},
     "output_type": "execute_result"
    },
    {
     "data": {
      "image/png": "[encoded data removed]",
      "text/plain": [
       "<matplotlib.figure.Figure at 0x3ffefa86ce80>"
      ]
     },
     "metadata": {},
     "output_type": "display_data"
    }
   ],
   "source": [
    "clf = SGDClassifier(alpha=0.5,penalty='l1', loss='hinge')\n",
    "clf.fit(X_train,y_train)\n",
    "y_pred = clf.predict(X_test)\n",
    "df_cm = pd.DataFrame(confusion_matrix(y_test, y_pred), range(2),range(2))\n",
    "sns.set(font_scale=1.4) # for label size\n",
    "sns.heatmap(df_cm, annot=True,annot_kws={\"size\": 16})"
   ]
  },
  {
   "cell_type": "code",
   "execution_count": 22,
   "metadata": {},
   "outputs": [
    {
     "name": "stdout",
     "output_type": "stream",
     "text": [
      "                 Classification Report Test Data\n",
      "             precision    recall  f1-score   support\n",
      "\n",
      "          0       0.83      1.00      0.91      3750\n",
      "          1       0.00      0.00      0.00       750\n",
      "\n",
      "avg / total       0.69      0.83      0.76      4500\n",
      "\n"
     ]
    },
    {
     "name": "stderr",
     "output_type": "stream",
     "text": [
      "/opt/conda/envs/py3.6/lib/python3.6/site-packages/sklearn/metrics/classification.py:1135: UndefinedMetricWarning: Precision and F-score are ill-defined and being set to 0.0 in labels with no predicted samples.\n",
      "  'precision', 'predicted', average, warn_for)\n"
     ]
    }
   ],
   "source": [
    "print(\"                 Classification Report Test Data\")\n",
    "print(classification_report(y_test, gsv.predict(X_test)))"
   ]
  },
  {
   "cell_type": "code",
   "execution_count": 23,
   "metadata": {},
   "outputs": [
    {
     "name": "stdout",
     "output_type": "stream",
     "text": [
      "0.5\n"
     ]
    }
   ],
   "source": [
    "# Area under curve error\n",
    "from sklearn.metrics import auc\n",
    "fpr, tpr, thresholds = metrics.roc_curve(y_test, y_pred)\n",
    "area = auc(fpr, tpr)\n",
    "print(area)"
   ]
  },
  {
   "cell_type": "markdown",
   "metadata": {},
   "source": [
    "# Tf-Idf Features"
   ]
  },
  {
   "cell_type": "markdown",
   "metadata": {},
   "source": [
    "### Random Forest"
   ]
  },
  {
   "cell_type": "code",
   "execution_count": 24,
   "metadata": {},
   "outputs": [],
   "source": [
    "X_train, X_test, y_train, y_test = train_test_split(df_sample['CleanedText'].values,df_sample['Score'].values,test_size=0.3,shuffle=False)"
   ]
  },
  {
   "cell_type": "code",
   "execution_count": 25,
   "metadata": {},
   "outputs": [
    {
     "name": "stdout",
     "output_type": "stream",
     "text": [
      "Train Data Size:  (10500, 239969)\n",
      "Test Data Size:  (4500, 239969)\n"
     ]
    }
   ],
   "source": [
    "tfidf = TfidfVectorizer(ngram_range=(1,2))\n",
    "X_train = tfidf.fit_transform(X_train)\n",
    "\n",
    "X_train = preprocessing.normalize(X_train)\n",
    "print(\"Train Data Size: \",X_train.shape)\n",
    "X_test = tfidf.transform(X_test)\n",
    "\n",
    "X_test = preprocessing.normalize(X_test)\n",
    "print(\"Test Data Size: \",X_test.shape)"
   ]
  },
  {
   "cell_type": "code",
   "execution_count": 26,
   "metadata": {},
   "outputs": [
    {
     "name": "stdout",
     "output_type": "stream",
     "text": [
      "Accuracy: 0.833333333333\n"
     ]
    }
   ],
   "source": [
    "clf = SVC()\n",
    "clf.fit(X_train, y_train)\n",
    "\n",
    "print('Accuracy:', clf.score(X_test, y_test))"
   ]
  },
  {
   "cell_type": "code",
   "execution_count": 27,
   "metadata": {},
   "outputs": [
    {
     "name": "stdout",
     "output_type": "stream",
     "text": [
      "Fitting 10 folds for each of 16 candidates, totalling 160 fits\n"
     ]
    },
    {
     "name": "stderr",
     "output_type": "stream",
     "text": [
      "[Parallel(n_jobs=-1)]: Done  10 tasks      | elapsed:   13.3s\n",
      "[Parallel(n_jobs=-1)]: Done 160 out of 160 | elapsed:  3.8min finished\n"
     ]
    },
    {
     "name": "stdout",
     "output_type": "stream",
     "text": [
      "Best HyperParameter:  {'C': 1, 'gamma': 0.5}\n",
      "Best Accuracy: 84.54%\n"
     ]
    }
   ],
   "source": [
    "clf = SVC()\n",
    "param_grid = {'gamma':[1,0.5,0.1,0.05],\n",
    "             'C':[1,0.5,0.1,0.05]} # params we need to try on classifier\n",
    "tscv = TimeSeriesSplit(n_splits=10) # For time based splitting\n",
    "gsv = GridSearchCV(clf,param_grid,cv=tscv,verbose=1,n_jobs=-1)\n",
    "gsv.fit(X_train,y_train)\n",
    "print(\"Best HyperParameter: \",gsv.best_params_)\n",
    "print(\"Best Accuracy: %.2f%%\"%(gsv.best_score_*100))"
   ]
  },
  {
   "cell_type": "code",
   "execution_count": 28,
   "metadata": {},
   "outputs": [
    {
     "name": "stdout",
     "output_type": "stream",
     "text": [
      "                 Classification Report Test Data\n",
      "             precision    recall  f1-score   support\n",
      "\n",
      "          0       0.87      1.00      0.93      3750\n",
      "          1       0.96      0.22      0.36       750\n",
      "\n",
      "avg / total       0.88      0.87      0.83      4500\n",
      "\n"
     ]
    },
    {
     "data": {
      "text/plain": [
       "<matplotlib.axes._subplots.AxesSubplot at 0x3ffefa8a1550>"
      ]
     },
     "execution_count": 28,
     "metadata": {},
     "output_type": "execute_result"
    },
    {
     "data": {
      "image/png": "[encoded data removed]",
      "text/plain": [
       "<matplotlib.figure.Figure at 0x3fff7a3a2668>"
      ]
     },
     "metadata": {},
     "output_type": "display_data"
    }
   ],
   "source": [
    "print(\"                 Classification Report Test Data\")\n",
    "print(classification_report(y_test, gsv.predict(X_test)))\n",
    "clf = SVC(C=50, gamma=0.05)\n",
    "clf.fit(X_train,y_train)\n",
    "y_pred = clf.predict(X_test)\n",
    "df_cm = pd.DataFrame(confusion_matrix(y_test, y_pred), range(2),range(2))\n",
    "sns.set(font_scale=1.4) # for label size\n",
    "sns.heatmap(df_cm, annot=True,annot_kws={\"size\": 16})"
   ]
  },
  {
   "cell_type": "code",
   "execution_count": 29,
   "metadata": {},
   "outputs": [
    {
     "name": "stdout",
     "output_type": "stream",
     "text": [
      "Fitting 10 folds for each of 10 candidates, totalling 100 fits\n"
     ]
    },
    {
     "name": "stderr",
     "output_type": "stream",
     "text": [
      "[Parallel(n_jobs=-1)]: Done  10 tasks      | elapsed:   11.5s\n",
      "[Parallel(n_jobs=-1)]: Done 100 out of 100 | elapsed:  2.5min finished\n"
     ]
    },
    {
     "name": "stdout",
     "output_type": "stream",
     "text": [
      "Best HyperParameter:  {'gamma': 0.5, 'C': 1}\n",
      "Best Accuracy: 84.54%\n"
     ]
    }
   ],
   "source": [
    "# RandomSearch\n",
    "from sklearn.model_selection import GridSearchCV\n",
    "from sklearn.svm import SVC\n",
    "from sklearn.model_selection import TimeSeriesSplit\n",
    "\n",
    "clf = SVC()\n",
    "param_grid = {'gamma':[1,0.5,0.1,0.05],\n",
    "             'C':[1,0.5,0.1,0.05]} # params we need to try on classifier\n",
    "tscv = TimeSeriesSplit(n_splits=10) # For time based splitting\n",
    "gsv = RandomizedSearchCV(clf,param_grid,cv=tscv,verbose=1,n_jobs=-1)\n",
    "gsv.fit(X_train,y_train)\n",
    "print(\"Best HyperParameter: \",gsv.best_params_)\n",
    "print(\"Best Accuracy: %.2f%%\"%(gsv.best_score_*100))"
   ]
  },
  {
   "cell_type": "code",
   "execution_count": 30,
   "metadata": {},
   "outputs": [
    {
     "name": "stdout",
     "output_type": "stream",
     "text": [
      "                 Classification Report Test Data\n",
      "             precision    recall  f1-score   support\n",
      "\n",
      "          0       0.87      1.00      0.93      3750\n",
      "          1       0.96      0.22      0.36       750\n",
      "\n",
      "avg / total       0.88      0.87      0.83      4500\n",
      "\n"
     ]
    }
   ],
   "source": [
    "print(\"                 Classification Report Test Data\")\n",
    "print(classification_report(y_test, gsv.predict(X_test)))"
   ]
  },
  {
   "cell_type": "code",
   "execution_count": 31,
   "metadata": {},
   "outputs": [
    {
     "data": {
      "text/plain": [
       "<matplotlib.axes._subplots.AxesSubplot at 0x3ffef0ea19e8>"
      ]
     },
     "execution_count": 31,
     "metadata": {},
     "output_type": "execute_result"
    },
    {
     "data": {
      "image/png": "[encoded data removed]",
      "text/plain": [
       "<matplotlib.figure.Figure at 0x3ffef7312550>"
      ]
     },
     "metadata": {},
     "output_type": "display_data"
    }
   ],
   "source": [
    "clf = SVC(C=50, gamma=0.05)\n",
    "clf.fit(X_train,y_train)\n",
    "y_pred = clf.predict(X_test)\n",
    "df_cm = pd.DataFrame(confusion_matrix(y_test, y_pred), range(2),range(2))\n",
    "sns.set(font_scale=1.4) # for label size\n",
    "sns.heatmap(df_cm, annot=True,annot_kws={\"size\": 16})"
   ]
  },
  {
   "cell_type": "code",
   "execution_count": 32,
   "metadata": {},
   "outputs": [
    {
     "name": "stdout",
     "output_type": "stream",
     "text": [
      "Area under curve: 0.773866666667\n"
     ]
    }
   ],
   "source": [
    "# Area under curve error\n",
    "from sklearn.metrics import auc\n",
    "fpr, tpr, thresholds = metrics.roc_curve(y_test, y_pred)\n",
    "area = auc(fpr, tpr)\n",
    "print(\"Area under curve:\", area)"
   ]
  },
  {
   "cell_type": "markdown",
   "metadata": {},
   "source": [
    "# Avg Word2Vec"
   ]
  },
  {
   "cell_type": "code",
   "execution_count": 33,
   "metadata": {},
   "outputs": [],
   "source": [
    "list_corpus = df_sample[\"Text\"].tolist()\n",
    "list_labels = df_sample[\"Score\"].tolist()"
   ]
  },
  {
   "cell_type": "code",
   "execution_count": 34,
   "metadata": {},
   "outputs": [
    {
     "name": "stdout",
     "output_type": "stream",
     "text": [
      "--2018-07-21 10:22:58--  https://s3.amazonaws.com/dl4j-distribution/GoogleNews-vectors-negative300.bin.gz\n",
      "Resolving s3.amazonaws.com (s3.amazonaws.com)... 52.216.81.19\n",
      "Connecting to s3.amazonaws.com (s3.amazonaws.com)|52.216.81.19|:443... connected.\n",
      "HTTP request sent, awaiting response... 416 Requested Range Not Satisfiable\n",
      "\n",
      "    The file is already fully retrieved; nothing to do.\n",
      "\n"
     ]
    }
   ],
   "source": [
    "from gensim.models import KeyedVectors\n",
    "!wget -c \"https://s3.amazonaws.com/dl4j-distribution/GoogleNews-vectors-negative300.bin.gz\"\n",
    "w2v_model_google = KeyedVectors.load_word2vec_format('GoogleNews-vectors-negative300.bin.gz', binary=True)"
   ]
  },
  {
   "cell_type": "code",
   "execution_count": 35,
   "metadata": {},
   "outputs": [],
   "source": [
    "def get_average_word2vec(tokens_list, vector, generate_missing=False, k=300):\n",
    "    if len(tokens_list)<1:\n",
    "        return np.zeros(k)\n",
    "    if generate_missing:\n",
    "        vectorized = [vector[word] if word in vector else np.random.rand(k) for word in tokens_list]\n",
    "    else:\n",
    "        vectorized = [vector[word] if word in vector else np.zeros(k) for word in tokens_list]\n",
    "    length = len(vectorized)\n",
    "    summed = np.sum(vectorized, axis=0)\n",
    "    averaged = np.divide(summed, length)\n",
    "    return averaged\n",
    "\n",
    "def get_word2vec_embeddings(vectors, clean_questions, generate_missing=False):\n",
    "    embeddings = clean_questions['CleanedText'].apply(lambda x: get_average_word2vec(x, vectors, \n",
    "                                                                                generate_missing=generate_missing))\n",
    "    return list(embeddings)"
   ]
  },
  {
   "cell_type": "code",
   "execution_count": 36,
   "metadata": {},
   "outputs": [],
   "source": [
    "embeddings = get_word2vec_embeddings(w2v_model_google, df_sample)\n",
    "X_sample, _, y_sample, _ = train_test_split(embeddings, list_labels, test_size=0.15)\n",
    "X_train, X_test, y_train, y_test = train_test_split(X_sample, y_sample)"
   ]
  },
  {
   "cell_type": "code",
   "execution_count": 37,
   "metadata": {},
   "outputs": [
    {
     "name": "stdout",
     "output_type": "stream",
     "text": [
      "Accuracy: 0.846298619824\n"
     ]
    }
   ],
   "source": [
    "clf = SVC()\n",
    "clf.fit(X_train, y_train)\n",
    "\n",
    "print('Accuracy:', clf.score(X_test, y_test))"
   ]
  },
  {
   "cell_type": "code",
   "execution_count": 38,
   "metadata": {},
   "outputs": [
    {
     "name": "stdout",
     "output_type": "stream",
     "text": [
      "Fitting 10 folds for each of 16 candidates, totalling 160 fits\n"
     ]
    },
    {
     "name": "stderr",
     "output_type": "stream",
     "text": [
      "[Parallel(n_jobs=-1)]: Done  10 tasks      | elapsed:    8.7s\n",
      "[Parallel(n_jobs=-1)]: Done 160 out of 160 | elapsed:  2.0min finished\n"
     ]
    },
    {
     "name": "stdout",
     "output_type": "stream",
     "text": [
      "Best HyperParameter:  {'C': 1, 'gamma': 1}\n",
      "Best Accuracy: 84.00%\n"
     ]
    }
   ],
   "source": [
    "clf = SVC()\n",
    "param_grid = {'gamma':[1,0.5,0.1,0.05],\n",
    "             'C':[1,0.5,0.1,0.05]} # params we need to try on classifier\n",
    "tscv = TimeSeriesSplit(n_splits=10) # For time based splitting\n",
    "gsv = GridSearchCV(clf,param_grid,cv=tscv,verbose=1,n_jobs=-1)\n",
    "gsv.fit(X_train,y_train)\n",
    "print(\"Best HyperParameter: \",gsv.best_params_)\n",
    "print(\"Best Accuracy: %.2f%%\"%(gsv.best_score_*100))"
   ]
  },
  {
   "cell_type": "code",
   "execution_count": 39,
   "metadata": {},
   "outputs": [
    {
     "name": "stdout",
     "output_type": "stream",
     "text": [
      "                 Classification Report Test Data\n"
     ]
    },
    {
     "name": "stderr",
     "output_type": "stream",
     "text": [
      "/opt/conda/envs/py3.6/lib/python3.6/site-packages/sklearn/metrics/classification.py:1135: UndefinedMetricWarning: Precision and F-score are ill-defined and being set to 0.0 in labels with no predicted samples.\n",
      "  'precision', 'predicted', average, warn_for)\n"
     ]
    },
    {
     "name": "stdout",
     "output_type": "stream",
     "text": [
      "             precision    recall  f1-score   support\n",
      "\n",
      "          0       0.85      1.00      0.92      2698\n",
      "          1       0.00      0.00      0.00       490\n",
      "\n",
      "avg / total       0.72      0.85      0.78      3188\n",
      "\n"
     ]
    },
    {
     "data": {
      "text/plain": [
       "<matplotlib.axes._subplots.AxesSubplot at 0x3ffdd4e26160>"
      ]
     },
     "execution_count": 39,
     "metadata": {},
     "output_type": "execute_result"
    },
    {
     "data": {
      "image/png": "[encoded data removed]",
      "text/plain": [
       "<matplotlib.figure.Figure at 0x3fff7a3b34e0>"
      ]
     },
     "metadata": {},
     "output_type": "display_data"
    }
   ],
   "source": [
    "print(\"                 Classification Report Test Data\")\n",
    "print(classification_report(y_test, gsv.predict(X_test)))\n",
    "clf = SVC(C=50, gamma=0.05)\n",
    "clf.fit(X_train,y_train)\n",
    "y_pred = clf.predict(X_test)\n",
    "df_cm = pd.DataFrame(confusion_matrix(y_test, y_pred), range(2),range(2))\n",
    "sns.set(font_scale=1.4) # for label size\n",
    "sns.heatmap(df_cm, annot=True,annot_kws={\"size\": 16})"
   ]
  },
  {
   "cell_type": "code",
   "execution_count": 40,
   "metadata": {},
   "outputs": [
    {
     "name": "stdout",
     "output_type": "stream",
     "text": [
      "Fitting 10 folds for each of 10 candidates, totalling 100 fits\n"
     ]
    },
    {
     "name": "stderr",
     "output_type": "stream",
     "text": [
      "[Parallel(n_jobs=-1)]: Done  10 tasks      | elapsed:    8.8s\n",
      "[Parallel(n_jobs=-1)]: Done 100 out of 100 | elapsed:  1.4min finished\n"
     ]
    },
    {
     "name": "stdout",
     "output_type": "stream",
     "text": [
      "Best HyperParameter:  {'gamma': 0.05, 'C': 1}\n",
      "Best Accuracy: 84.00%\n"
     ]
    }
   ],
   "source": [
    "# RandomSearch\n",
    "from sklearn.model_selection import GridSearchCV\n",
    "from sklearn.svm import SVC\n",
    "from sklearn.model_selection import TimeSeriesSplit\n",
    "\n",
    "clf = SVC()\n",
    "param_grid = {'gamma':[1,0.5,0.1,0.05],\n",
    "             'C':[1,0.5,0.1,0.05]} # params we need to try on classifier\n",
    "tscv = TimeSeriesSplit(n_splits=10) # For time based splitting\n",
    "gsv = RandomizedSearchCV(clf,param_grid,cv=tscv,verbose=1,n_jobs=-1)\n",
    "gsv.fit(X_train,y_train)\n",
    "print(\"Best HyperParameter: \",gsv.best_params_)\n",
    "print(\"Best Accuracy: %.2f%%\"%(gsv.best_score_*100))"
   ]
  },
  {
   "cell_type": "code",
   "execution_count": 41,
   "metadata": {},
   "outputs": [
    {
     "name": "stdout",
     "output_type": "stream",
     "text": [
      "                 Classification Report Test Data\n",
      "             precision    recall  f1-score   support\n",
      "\n",
      "          0       0.85      1.00      0.92      2698\n",
      "          1       0.00      0.00      0.00       490\n",
      "\n",
      "avg / total       0.72      0.85      0.78      3188\n",
      "\n"
     ]
    },
    {
     "name": "stderr",
     "output_type": "stream",
     "text": [
      "/opt/conda/envs/py3.6/lib/python3.6/site-packages/sklearn/metrics/classification.py:1135: UndefinedMetricWarning: Precision and F-score are ill-defined and being set to 0.0 in labels with no predicted samples.\n",
      "  'precision', 'predicted', average, warn_for)\n"
     ]
    }
   ],
   "source": [
    "print(\"                 Classification Report Test Data\")\n",
    "print(classification_report(y_test, gsv.predict(X_test)))"
   ]
  },
  {
   "cell_type": "code",
   "execution_count": 42,
   "metadata": {},
   "outputs": [
    {
     "data": {
      "text/plain": [
       "<matplotlib.axes._subplots.AxesSubplot at 0x3ffdd4df9860>"
      ]
     },
     "execution_count": 42,
     "metadata": {},
     "output_type": "execute_result"
    },
    {
     "data": {
      "image/png": "[encoded data removed]",
      "text/plain": [
       "<matplotlib.figure.Figure at 0x3ffdd4e624e0>"
      ]
     },
     "metadata": {},
     "output_type": "display_data"
    }
   ],
   "source": [
    "clf = SVC(C=50, gamma=0.05)\n",
    "clf.fit(X_train,y_train)\n",
    "y_pred = clf.predict(X_test)\n",
    "df_cm = pd.DataFrame(confusion_matrix(y_test, y_pred), range(2),range(2))\n",
    "sns.set(font_scale=1.4) # for label size\n",
    "sns.heatmap(df_cm, annot=True,annot_kws={\"size\": 16})"
   ]
  },
  {
   "cell_type": "code",
   "execution_count": 43,
   "metadata": {},
   "outputs": [
    {
     "name": "stdout",
     "output_type": "stream",
     "text": [
      "Area under curve: 0.5\n"
     ]
    }
   ],
   "source": [
    "# Area under curve error\n",
    "from sklearn.metrics import auc\n",
    "fpr, tpr, thresholds = metrics.roc_curve(y_test, y_pred)\n",
    "area = auc(fpr, tpr)\n",
    "print(\"Area under curve:\", area)"
   ]
  },
  {
   "cell_type": "markdown",
   "metadata": {},
   "source": [
    "# Tf-IDF Word2vec"
   ]
  },
  {
   "cell_type": "code",
   "execution_count": 44,
   "metadata": {},
   "outputs": [
    {
     "name": "stdout",
     "output_type": "stream",
     "text": [
      "(5000, 149273)\n"
     ]
    }
   ],
   "source": [
    "n_samples = 5000\n",
    "df_sample_new = df_sample.sample(n_samples)\n",
    "df_sample_new.sort_values('Time',inplace=True) \n",
    "\n",
    "from sklearn.feature_extraction.text import TfidfVectorizer\n",
    "tfidf = TfidfVectorizer(ngram_range=(1,2)) # Using bi-grams\n",
    "tfidf_vec_new = tfidf.fit_transform(df_sample_new['CleanedText_NoStem'].values)\n",
    "print(tfidf_vec_new.shape)\n",
    "features = tfidf.get_feature_names()"
   ]
  },
  {
   "cell_type": "code",
   "execution_count": 45,
   "metadata": {},
   "outputs": [],
   "source": [
    "tfidf_w2v_vec_google = openfromdisk('tfidf_w2v_vec_google')"
   ]
  },
  {
   "cell_type": "code",
   "execution_count": 46,
   "metadata": {},
   "outputs": [],
   "source": [
    "tfidfw2v_vecs_norm = preprocessing.normalize(tfidf_w2v_vec_google)"
   ]
  },
  {
   "cell_type": "code",
   "execution_count": 47,
   "metadata": {},
   "outputs": [],
   "source": [
    "X_sample, _, y_sample, _  = train_test_split(tfidfw2v_vecs_norm, df_sample_new['Score'], test_size=0.15)\n",
    "X_train, X_test, y_train, y_test = train_test_split(X_sample, y_sample)"
   ]
  },
  {
   "cell_type": "code",
   "execution_count": 48,
   "metadata": {},
   "outputs": [
    {
     "name": "stdout",
     "output_type": "stream",
     "text": [
      "Accuracy: 0.839134524929\n"
     ]
    }
   ],
   "source": [
    "clf = SVC()\n",
    "clf.fit(X_train, y_train)\n",
    "\n",
    "print('Accuracy:', clf.score(X_test, y_test))"
   ]
  },
  {
   "cell_type": "code",
   "execution_count": 49,
   "metadata": {},
   "outputs": [
    {
     "name": "stdout",
     "output_type": "stream",
     "text": [
      "Fitting 10 folds for each of 16 candidates, totalling 160 fits\n"
     ]
    },
    {
     "name": "stderr",
     "output_type": "stream",
     "text": [
      "[Parallel(n_jobs=-1)]: Done  10 tasks      | elapsed:    1.4s\n",
      "[Parallel(n_jobs=-1)]: Done 160 out of 160 | elapsed:   21.7s finished\n"
     ]
    },
    {
     "name": "stdout",
     "output_type": "stream",
     "text": [
      "Best HyperParameter:  {'C': 1, 'gamma': 1}\n",
      "Best Accuracy: 84.78%\n"
     ]
    }
   ],
   "source": [
    "clf = SVC()\n",
    "param_grid = {'gamma':[1,0.5,0.1,0.05],\n",
    "             'C':[1,0.5,0.1,0.05]} # params we need to try on classifier\n",
    "tscv = TimeSeriesSplit(n_splits=10) # For time based splitting\n",
    "gsv = GridSearchCV(clf,param_grid,cv=tscv,verbose=1,n_jobs=-1)\n",
    "gsv.fit(X_train,y_train)\n",
    "print(\"Best HyperParameter: \",gsv.best_params_)\n",
    "print(\"Best Accuracy: %.2f%%\"%(gsv.best_score_*100))"
   ]
  },
  {
   "cell_type": "code",
   "execution_count": 50,
   "metadata": {},
   "outputs": [
    {
     "name": "stdout",
     "output_type": "stream",
     "text": [
      "                 Classification Report Test Data\n"
     ]
    },
    {
     "name": "stderr",
     "output_type": "stream",
     "text": [
      "/opt/conda/envs/py3.6/lib/python3.6/site-packages/sklearn/metrics/classification.py:1135: UndefinedMetricWarning: Precision and F-score are ill-defined and being set to 0.0 in labels with no predicted samples.\n",
      "  'precision', 'predicted', average, warn_for)\n"
     ]
    },
    {
     "name": "stdout",
     "output_type": "stream",
     "text": [
      "             precision    recall  f1-score   support\n",
      "\n",
      "          0       0.84      1.00      0.91       892\n",
      "          1       0.00      0.00      0.00       171\n",
      "\n",
      "avg / total       0.70      0.84      0.77      1063\n",
      "\n"
     ]
    },
    {
     "data": {
      "text/plain": [
       "<matplotlib.axes._subplots.AxesSubplot at 0x3ffdd4df49b0>"
      ]
     },
     "execution_count": 50,
     "metadata": {},
     "output_type": "execute_result"
    },
    {
     "data": {
      "image/png": "[encoded data removed]",
      "text/plain": [
       "<matplotlib.figure.Figure at 0x3ffdd4e62e80>"
      ]
     },
     "metadata": {},
     "output_type": "display_data"
    }
   ],
   "source": [
    "print(\"                 Classification Report Test Data\")\n",
    "print(classification_report(y_test, gsv.predict(X_test)))\n",
    "clf = SVC(C=50, gamma=0.05)\n",
    "clf.fit(X_train,y_train)\n",
    "y_pred = clf.predict(X_test)\n",
    "df_cm = pd.DataFrame(confusion_matrix(y_test, y_pred), range(2),range(2))\n",
    "sns.set(font_scale=1.4) # for label size\n",
    "sns.heatmap(df_cm, annot=True,annot_kws={\"size\": 16})"
   ]
  },
  {
   "cell_type": "code",
   "execution_count": 51,
   "metadata": {},
   "outputs": [
    {
     "name": "stdout",
     "output_type": "stream",
     "text": [
      "Fitting 10 folds for each of 10 candidates, totalling 100 fits\n"
     ]
    },
    {
     "name": "stderr",
     "output_type": "stream",
     "text": [
      "[Parallel(n_jobs=-1)]: Done  10 tasks      | elapsed:    1.4s\n",
      "[Parallel(n_jobs=-1)]: Done 100 out of 100 | elapsed:   18.6s finished\n"
     ]
    },
    {
     "name": "stdout",
     "output_type": "stream",
     "text": [
      "Best HyperParameter:  {'gamma': 1, 'C': 0.1}\n",
      "Best Accuracy: 84.78%\n"
     ]
    }
   ],
   "source": [
    "# RandomSearch\n",
    "from sklearn.model_selection import GridSearchCV\n",
    "from sklearn.svm import SVC\n",
    "from sklearn.model_selection import TimeSeriesSplit\n",
    "\n",
    "clf = SVC()\n",
    "param_grid = {'gamma':[1,0.5,0.1,0.05],\n",
    "             'C':[1,0.5,0.1,0.05]} # params we need to try on classifier\n",
    "tscv = TimeSeriesSplit(n_splits=10) # For time based splitting\n",
    "gsv = RandomizedSearchCV(clf,param_grid,cv=tscv,verbose=1,n_jobs=-1)\n",
    "gsv.fit(X_train,y_train)\n",
    "print(\"Best HyperParameter: \",gsv.best_params_)\n",
    "print(\"Best Accuracy: %.2f%%\"%(gsv.best_score_*100))"
   ]
  },
  {
   "cell_type": "code",
   "execution_count": 52,
   "metadata": {},
   "outputs": [
    {
     "name": "stdout",
     "output_type": "stream",
     "text": [
      "                 Classification Report Test Data\n",
      "             precision    recall  f1-score   support\n",
      "\n",
      "          0       0.84      1.00      0.91       892\n",
      "          1       0.00      0.00      0.00       171\n",
      "\n",
      "avg / total       0.70      0.84      0.77      1063\n",
      "\n"
     ]
    },
    {
     "name": "stderr",
     "output_type": "stream",
     "text": [
      "/opt/conda/envs/py3.6/lib/python3.6/site-packages/sklearn/metrics/classification.py:1135: UndefinedMetricWarning: Precision and F-score are ill-defined and being set to 0.0 in labels with no predicted samples.\n",
      "  'precision', 'predicted', average, warn_for)\n"
     ]
    }
   ],
   "source": [
    "print(\"                 Classification Report Test Data\")\n",
    "print(classification_report(y_test, gsv.predict(X_test)))"
   ]
  },
  {
   "cell_type": "code",
   "execution_count": 53,
   "metadata": {},
   "outputs": [
    {
     "data": {
      "text/plain": [
       "<matplotlib.axes._subplots.AxesSubplot at 0x3ffdd4df8518>"
      ]
     },
     "execution_count": 53,
     "metadata": {},
     "output_type": "execute_result"
    },
    {
     "data": {
      "image/png": "[encoded data removed]",
      "text/plain": [
       "<matplotlib.figure.Figure at 0x3ffdd4debe48>"
      ]
     },
     "metadata": {},
     "output_type": "display_data"
    }
   ],
   "source": [
    "clf = SVC(C=50, gamma=0.05)\n",
    "clf.fit(X_train,y_train)\n",
    "y_pred = clf.predict(X_test)\n",
    "df_cm = pd.DataFrame(confusion_matrix(y_test, y_pred), range(2),range(2))\n",
    "sns.set(font_scale=1.4) # for label size\n",
    "sns.heatmap(df_cm, annot=True,annot_kws={\"size\": 16})"
   ]
  },
  {
   "cell_type": "code",
   "execution_count": 54,
   "metadata": {},
   "outputs": [
    {
     "name": "stdout",
     "output_type": "stream",
     "text": [
      "Area under curve: 0.5\n"
     ]
    }
   ],
   "source": [
    "# Area under curve error\n",
    "from sklearn.metrics import auc\n",
    "fpr, tpr, thresholds = metrics.roc_curve(y_test, y_pred)\n",
    "area = auc(fpr, tpr)\n",
    "print(\"Area under curve:\", area)"
   ]
  },
  {
   "cell_type": "code",
   "execution_count": 57,
   "metadata": {},
   "outputs": [
    {
     "data": {
      "image/png": "[encoded data removed]",
      "text/plain": [
       "<matplotlib.figure.Figure at 0x3ffef37c10b8>"
      ]
     },
     "metadata": {},
     "output_type": "display_data"
    }
   ],
   "source": [
    "SVM_model_accuracy = {\n",
    "    'BoW': 0.8692,\n",
    "    'Tf-Idf':0.8454,\n",
    "    'Avg-W2V': 0.8400,\n",
    "    'Tf-Idf-W2V': 0.8478\n",
    "}\n",
    "\n",
    "pd.Series(SVM_model_accuracy).plot(kind='bar', color='bgry')\n",
    "plt.ylabel('Accuracy Score')\n",
    "plt.ylim((0.80, 0.90));"
   ]
  },
  {
   "cell_type": "markdown",
   "metadata": {},
   "source": [
    "# Conclusion:\n",
    "* From the above bar graph we can say that BOW has given the best accuracy compare to the other using support vector machine."
   ]
  },
  {
   "cell_type": "code",
   "execution_count": null,
   "metadata": {},
   "outputs": [],
   "source": []
  }
 ],
 "metadata": {
  "celltoolbar": "Attachments",
  "kernelspec": {
   "display_name": "Python 3",
   "language": "python",
   "name": "python3"
  },
  "language_info": {
   "codemirror_mode": {
    "name": "ipython",
    "version": 3
   },
   "file_extension": ".py",
   "mimetype": "text/x-python",
   "name": "python",
   "nbconvert_exporter": "python",
   "pygments_lexer": "ipython3",
   "version": "3.6.5"
  }
 },
 "nbformat": 4,
 "nbformat_minor": 2
}
