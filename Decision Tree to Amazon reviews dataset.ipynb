{
 "cells": [
  {
   "cell_type": "markdown",
   "metadata": {
    "colab_type": "text",
    "id": "VjItkJE-5ntv"
   },
   "source": [
    "# Amazon Fine Food Reviews Analysis\n",
    "Data Source: https://www.kaggle.com/snap/amazon-fine-food-reviews\n",
    "The Amazon Fine Food Reviews dataset consists of reviews of fine foods from Amazon.<br>\n",
    "\n",
    "Number of reviews: 568,454<br>\n",
    "Number of users: 256,059<br>\n",
    "Number of products: 74,258<br>\n",
    "Timespan: Oct 1999 - Oct 2012<br>\n",
    "Number of Attributes/Columns in data: 10 \n",
    "\n",
    "Attribute Information:\n",
    "\n",
    "1. Id\n",
    "2. ProductId - unique identifier for the product\n",
    "3. UserId - unqiue identifier for the user\n",
    "4. ProfileName\n",
    "5. HelpfulnessNumerator - number of users who found the review helpful\n",
    "6. HelpfulnessDenominator - number of users who indicated whether they found the review helpful or not\n",
    "7. Score - rating between 1 and 5\n",
    "8. Time - timestamp for the review\n",
    "9. Summary - brief summary of the review\n",
    "10. Text - text of the review\n",
    "\n",
    "\n",
    "#### Objective:\n",
    "Given a review, determine whether the review is positive (Rating of 4 or 5) or negative (rating of 1 or 2).\n"
   ]
  },
  {
   "cell_type": "markdown",
   "metadata": {},
   "source": [
    "<img src=\"https://i1.wp.com/www.jerseygirltalk.com/wp-content/uploads/2017/10/Amazon-Fresh.png?w=560\">"
   ]
  },
  {
   "cell_type": "code",
   "execution_count": 1,
   "metadata": {
    "colab": {
     "autoexec": {
      "startup": false,
      "wait_interval": 0
     },
     "base_uri": "https://localhost:8080/",
     "height": 1067
    },
    "colab_type": "code",
    "executionInfo": {
     "elapsed": 3686,
     "status": "ok",
     "timestamp": 1532421222059,
     "user": {
      "displayName": "Vijay Bhati",
      "photoUrl": "//lh6.googleusercontent.com/-8eiDzCxazcQ/AAAAAAAAAAI/AAAAAAAAETg/em_yQO7VCzk/s50-c-k-no/photo.jpg",
      "userId": "111311313461951215577"
     },
     "user_tz": -330
    },
    "id": "utrlOHL95ntw",
    "outputId": "3c01930a-0e41-48f4-e667-8e1b8d37a2fe"
   },
   "outputs": [
    {
     "name": "stdout",
     "output_type": "stream",
     "text": [
      "Requirement already up-to-date: ipython[all] in /usr/local/lib/python3.6/dist-packages (6.4.0)\n",
      "Requirement not upgraded as not directly required: pexpect; sys_platform != \"win32\" in /usr/local/lib/python3.6/dist-packages (from ipython[all]) (4.6.0)\n",
      "Requirement not upgraded as not directly required: traitlets>=4.2 in /usr/local/lib/python3.6/dist-packages (from ipython[all]) (4.3.2)\n",
      "Requirement not upgraded as not directly required: jedi>=0.10 in /usr/local/lib/python3.6/dist-packages (from ipython[all]) (0.12.1)\n",
      "Requirement not upgraded as not directly required: decorator in /usr/local/lib/python3.6/dist-packages (from ipython[all]) (4.3.0)\n",
      "Requirement not upgraded as not directly required: setuptools>=18.5 in /usr/local/lib/python3.6/dist-packages (from ipython[all]) (39.1.0)\n",
      "Requirement not upgraded as not directly required: simplegeneric>0.8 in /usr/local/lib/python3.6/dist-packages (from ipython[all]) (0.8.1)\n",
      "Requirement not upgraded as not directly required: pygments in /usr/local/lib/python3.6/dist-packages (from ipython[all]) (2.1.3)\n",
      "Requirement not upgraded as not directly required: pickleshare in /usr/local/lib/python3.6/dist-packages (from ipython[all]) (0.7.4)\n",
      "Requirement not upgraded as not directly required: backcall in /usr/local/lib/python3.6/dist-packages (from ipython[all]) (0.1.0)\n",
      "Requirement not upgraded as not directly required: prompt-toolkit<2.0.0,>=1.0.15 in /usr/local/lib/python3.6/dist-packages (from ipython[all]) (1.0.15)\n",
      "Requirement not upgraded as not directly required: testpath; extra == \"all\" in /usr/local/lib/python3.6/dist-packages (from ipython[all]) (0.3.1)\n",
      "Requirement not upgraded as not directly required: nbconvert; extra == \"all\" in /usr/local/lib/python3.6/dist-packages (from ipython[all]) (5.3.1)\n",
      "Requirement not upgraded as not directly required: notebook; extra == \"all\" in /usr/local/lib/python3.6/dist-packages (from ipython[all]) (5.2.2)\n",
      "Requirement not upgraded as not directly required: qtconsole; extra == \"all\" in /usr/local/lib/python3.6/dist-packages (from ipython[all]) (4.3.1)\n",
      "Requirement not upgraded as not directly required: requests; extra == \"all\" in /usr/local/lib/python3.6/dist-packages (from ipython[all]) (2.18.4)\n",
      "Requirement not upgraded as not directly required: ipyparallel; extra == \"all\" in /usr/local/lib/python3.6/dist-packages (from ipython[all]) (6.2.2)\n",
      "Requirement not upgraded as not directly required: ipykernel; extra == \"all\" in /usr/local/lib/python3.6/dist-packages (from ipython[all]) (4.6.1)\n",
      "Requirement not upgraded as not directly required: Sphinx>=1.3; extra == \"all\" in /usr/local/lib/python3.6/dist-packages (from ipython[all]) (1.7.6)\n",
      "Requirement not upgraded as not directly required: nbformat; extra == \"all\" in /usr/local/lib/python3.6/dist-packages (from ipython[all]) (4.4.0)\n",
      "Requirement not upgraded as not directly required: nose>=0.10.1; extra == \"all\" in /usr/local/lib/python3.6/dist-packages (from ipython[all]) (1.3.7)\n",
      "Requirement not upgraded as not directly required: ipywidgets; extra == \"all\" in /usr/local/lib/python3.6/dist-packages (from ipython[all]) (7.3.0)\n",
      "Requirement not upgraded as not directly required: ptyprocess>=0.5 in /usr/local/lib/python3.6/dist-packages (from pexpect; sys_platform != \"win32\"->ipython[all]) (0.6.0)\n",
      "Requirement not upgraded as not directly required: six in /usr/local/lib/python3.6/dist-packages (from traitlets>=4.2->ipython[all]) (1.11.0)\n",
      "Requirement not upgraded as not directly required: ipython-genutils in /usr/local/lib/python3.6/dist-packages (from traitlets>=4.2->ipython[all]) (0.2.0)\n",
      "Requirement not upgraded as not directly required: parso>=0.3.0 in /usr/local/lib/python3.6/dist-packages (from jedi>=0.10->ipython[all]) (0.3.1)\n",
      "Requirement not upgraded as not directly required: wcwidth in /usr/local/lib/python3.6/dist-packages (from prompt-toolkit<2.0.0,>=1.0.15->ipython[all]) (0.1.7)\n",
      "Requirement not upgraded as not directly required: mistune>=0.7.4 in /usr/local/lib/python3.6/dist-packages (from nbconvert; extra == \"all\"->ipython[all]) (0.8.3)\n",
      "Requirement not upgraded as not directly required: entrypoints>=0.2.2 in /usr/local/lib/python3.6/dist-packages (from nbconvert; extra == \"all\"->ipython[all]) (0.2.3)\n",
      "Requirement not upgraded as not directly required: jinja2 in /usr/local/lib/python3.6/dist-packages (from nbconvert; extra == \"all\"->ipython[all]) (2.10)\n",
      "Requirement not upgraded as not directly required: pandocfilters>=1.4.1 in /usr/local/lib/python3.6/dist-packages (from nbconvert; extra == \"all\"->ipython[all]) (1.4.2)\n",
      "Requirement not upgraded as not directly required: bleach in /usr/local/lib/python3.6/dist-packages (from nbconvert; extra == \"all\"->ipython[all]) (2.1.3)\n",
      "Requirement not upgraded as not directly required: jupyter-core in /usr/local/lib/python3.6/dist-packages (from nbconvert; extra == \"all\"->ipython[all]) (4.4.0)\n",
      "Requirement not upgraded as not directly required: jupyter-client in /usr/local/lib/python3.6/dist-packages (from notebook; extra == \"all\"->ipython[all]) (5.2.3)\n",
      "Requirement not upgraded as not directly required: tornado>=4 in /usr/local/lib/python3.6/dist-packages (from notebook; extra == \"all\"->ipython[all]) (4.5.3)\n",
      "Requirement not upgraded as not directly required: terminado>=0.3.3; sys_platform != \"win32\" in /usr/local/lib/python3.6/dist-packages (from notebook; extra == \"all\"->ipython[all]) (0.8.1)\n",
      "Requirement not upgraded as not directly required: certifi>=2017.4.17 in /usr/local/lib/python3.6/dist-packages (from requests; extra == \"all\"->ipython[all]) (2018.4.16)\n",
      "Requirement not upgraded as not directly required: idna<2.7,>=2.5 in /usr/local/lib/python3.6/dist-packages (from requests; extra == \"all\"->ipython[all]) (2.6)\n",
      "Requirement not upgraded as not directly required: chardet<3.1.0,>=3.0.2 in /usr/local/lib/python3.6/dist-packages (from requests; extra == \"all\"->ipython[all]) (3.0.4)\n",
      "Requirement not upgraded as not directly required: urllib3<1.23,>=1.21.1 in /usr/local/lib/python3.6/dist-packages (from requests; extra == \"all\"->ipython[all]) (1.22)\n",
      "Requirement not upgraded as not directly required: python-dateutil>=2.1 in /usr/local/lib/python3.6/dist-packages (from ipyparallel; extra == \"all\"->ipython[all]) (2.5.3)\n",
      "Requirement not upgraded as not directly required: pyzmq>=13 in /usr/local/lib/python3.6/dist-packages (from ipyparallel; extra == \"all\"->ipython[all]) (16.0.4)\n",
      "Requirement not upgraded as not directly required: sphinxcontrib-websupport in /usr/local/lib/python3.6/dist-packages (from Sphinx>=1.3; extra == \"all\"->ipython[all]) (1.1.0)\n",
      "Requirement not upgraded as not directly required: babel!=2.0,>=1.3 in /usr/local/lib/python3.6/dist-packages (from Sphinx>=1.3; extra == \"all\"->ipython[all]) (2.6.0)\n",
      "Requirement not upgraded as not directly required: packaging in /usr/local/lib/python3.6/dist-packages (from Sphinx>=1.3; extra == \"all\"->ipython[all]) (17.1)\n",
      "Requirement not upgraded as not directly required: imagesize in /usr/local/lib/python3.6/dist-packages (from Sphinx>=1.3; extra == \"all\"->ipython[all]) (1.0.0)\n",
      "Requirement not upgraded as not directly required: alabaster<0.8,>=0.7 in /usr/local/lib/python3.6/dist-packages (from Sphinx>=1.3; extra == \"all\"->ipython[all]) (0.7.11)\n",
      "Requirement not upgraded as not directly required: docutils>=0.11 in /usr/local/lib/python3.6/dist-packages (from Sphinx>=1.3; extra == \"all\"->ipython[all]) (0.14)\n",
      "Requirement not upgraded as not directly required: snowballstemmer>=1.1 in /usr/local/lib/python3.6/dist-packages (from Sphinx>=1.3; extra == \"all\"->ipython[all]) (1.2.1)\n",
      "Requirement not upgraded as not directly required: jsonschema!=2.5.0,>=2.4 in /usr/local/lib/python3.6/dist-packages (from nbformat; extra == \"all\"->ipython[all]) (2.6.0)\n",
      "Requirement not upgraded as not directly required: widgetsnbextension~=3.3.0 in /usr/local/lib/python3.6/dist-packages (from ipywidgets; extra == \"all\"->ipython[all]) (3.3.0)\n",
      "Requirement not upgraded as not directly required: MarkupSafe>=0.23 in /usr/local/lib/python3.6/dist-packages (from jinja2->nbconvert; extra == \"all\"->ipython[all]) (1.0)\n",
      "Requirement not upgraded as not directly required: html5lib!=1.0b1,!=1.0b2,!=1.0b3,!=1.0b4,!=1.0b5,!=1.0b6,!=1.0b7,!=1.0b8,>=0.99999999pre in /usr/local/lib/python3.6/dist-packages (from bleach->nbconvert; extra == \"all\"->ipython[all]) (1.0.1)\n",
      "Requirement not upgraded as not directly required: pytz>=0a in /usr/local/lib/python3.6/dist-packages (from babel!=2.0,>=1.3->Sphinx>=1.3; extra == \"all\"->ipython[all]) (2018.5)\n",
      "Requirement not upgraded as not directly required: pyparsing>=2.0.2 in /usr/local/lib/python3.6/dist-packages (from packaging->Sphinx>=1.3; extra == \"all\"->ipython[all]) (2.2.0)\n",
      "Requirement not upgraded as not directly required: webencodings in /usr/local/lib/python3.6/dist-packages (from html5lib!=1.0b1,!=1.0b2,!=1.0b3,!=1.0b4,!=1.0b5,!=1.0b6,!=1.0b7,!=1.0b8,>=0.99999999pre->bleach->nbconvert; extra == \"all\"->ipython[all]) (0.5.1)\n",
      "\u001b[33mYou are using pip version 10.0.1, however version 18.0 is available.\n",
      "You should consider upgrading via the 'pip install --upgrade pip' command.\u001b[0m\n"
     ]
    }
   ],
   "source": [
    "!pip install --upgrade \"ipython[all]\""
   ]
  },
  {
   "cell_type": "code",
   "execution_count": 2,
   "metadata": {
    "colab": {
     "autoexec": {
      "startup": false,
      "wait_interval": 0
     },
     "base_uri": "https://localhost:8080/",
     "height": 925
    },
    "colab_type": "code",
    "executionInfo": {
     "elapsed": 14717,
     "status": "ok",
     "timestamp": 1532421236884,
     "user": {
      "displayName": "Vijay Bhati",
      "photoUrl": "//lh6.googleusercontent.com/-8eiDzCxazcQ/AAAAAAAAAAI/AAAAAAAAETg/em_yQO7VCzk/s50-c-k-no/photo.jpg",
      "userId": "111311313461951215577"
     },
     "user_tz": -330
    },
    "id": "9LYg8l0x5nt3",
    "outputId": "a6ddbdea-5db6-4261-ecbd-de9aaeaada14"
   },
   "outputs": [
    {
     "name": "stdout",
     "output_type": "stream",
     "text": [
      "Requirement already satisfied: pydrive in /usr/local/lib/python3.6/dist-packages (1.3.1)\r\n",
      "Requirement already satisfied: oauth2client>=4.0.0 in /usr/local/lib/python3.6/dist-packages (from pydrive) (4.1.2)\r\n",
      "Requirement already satisfied: PyYAML>=3.0 in /usr/local/lib/python3.6/dist-packages (from pydrive) (3.13)\r\n",
      "Requirement already satisfied: google-api-python-client>=1.2 in /usr/local/lib/python3.6/dist-packages (from pydrive) (1.6.7)\r\n",
      "Requirement already satisfied: six>=1.6.1 in /usr/local/lib/python3.6/dist-packages (from oauth2client>=4.0.0->pydrive) (1.11.0)\r\n",
      "Requirement already satisfied: rsa>=3.1.4 in /usr/local/lib/python3.6/dist-packages (from oauth2client>=4.0.0->pydrive) (3.4.2)\r\n",
      "Requirement already satisfied: httplib2>=0.9.1 in /usr/local/lib/python3.6/dist-packages (from oauth2client>=4.0.0->pydrive) (0.11.3)\r\n",
      "Requirement already satisfied: pyasn1>=0.1.7 in /usr/local/lib/python3.6/dist-packages (from oauth2client>=4.0.0->pydrive) (0.4.3)\r\n",
      "Requirement already satisfied: pyasn1-modules>=0.0.5 in /usr/local/lib/python3.6/dist-packages (from oauth2client>=4.0.0->pydrive) (0.2.2)\r\n",
      "Requirement already satisfied: uritemplate<4dev,>=3.0.0 in /usr/local/lib/python3.6/dist-packages (from google-api-python-client>=1.2->pydrive) (3.0.0)\n",
      "\u001b[33mYou are using pip version 10.0.1, however version 18.0 is available.\n",
      "You should consider upgrading via the 'pip install --upgrade pip' command.\u001b[0m\n",
      "Requirement already satisfied: gensim in /usr/local/lib/python3.6/dist-packages (3.5.0)\n",
      "Requirement already satisfied: six>=1.5.0 in /usr/local/lib/python3.6/dist-packages (from gensim) (1.11.0)\n",
      "Requirement already satisfied: scipy>=0.18.1 in /usr/local/lib/python3.6/dist-packages (from gensim) (0.19.1)\n",
      "Requirement already satisfied: smart-open>=1.2.1 in /usr/local/lib/python3.6/dist-packages (from gensim) (1.6.0)\n",
      "Requirement already satisfied: numpy>=1.11.3 in /usr/local/lib/python3.6/dist-packages (from gensim) (1.14.5)\n",
      "Requirement already satisfied: boto>=2.32 in /usr/local/lib/python3.6/dist-packages (from smart-open>=1.2.1->gensim) (2.49.0)\n",
      "Requirement already satisfied: bz2file in /usr/local/lib/python3.6/dist-packages (from smart-open>=1.2.1->gensim) (0.98)\n",
      "Requirement already satisfied: boto3 in /usr/local/lib/python3.6/dist-packages (from smart-open>=1.2.1->gensim) (1.7.62)\n",
      "Requirement already satisfied: requests in /usr/local/lib/python3.6/dist-packages (from smart-open>=1.2.1->gensim) (2.18.4)\n",
      "Requirement already satisfied: jmespath<1.0.0,>=0.7.1 in /usr/local/lib/python3.6/dist-packages (from boto3->smart-open>=1.2.1->gensim) (0.9.3)\n",
      "Requirement already satisfied: botocore<1.11.0,>=1.10.62 in /usr/local/lib/python3.6/dist-packages (from boto3->smart-open>=1.2.1->gensim) (1.10.62)\n",
      "Requirement already satisfied: s3transfer<0.2.0,>=0.1.10 in /usr/local/lib/python3.6/dist-packages (from boto3->smart-open>=1.2.1->gensim) (0.1.13)\n",
      "Requirement already satisfied: chardet<3.1.0,>=3.0.2 in /usr/local/lib/python3.6/dist-packages (from requests->smart-open>=1.2.1->gensim) (3.0.4)\n",
      "Requirement already satisfied: urllib3<1.23,>=1.21.1 in /usr/local/lib/python3.6/dist-packages (from requests->smart-open>=1.2.1->gensim) (1.22)\n",
      "Requirement already satisfied: idna<2.7,>=2.5 in /usr/local/lib/python3.6/dist-packages (from requests->smart-open>=1.2.1->gensim) (2.6)\n",
      "Requirement already satisfied: certifi>=2017.4.17 in /usr/local/lib/python3.6/dist-packages (from requests->smart-open>=1.2.1->gensim) (2018.4.16)\n",
      "Requirement already satisfied: docutils>=0.10 in /usr/local/lib/python3.6/dist-packages (from botocore<1.11.0,>=1.10.62->boto3->smart-open>=1.2.1->gensim) (0.14)\n",
      "Requirement already satisfied: python-dateutil<3.0.0,>=2.1; python_version >= \"2.7\" in /usr/local/lib/python3.6/dist-packages (from botocore<1.11.0,>=1.10.62->boto3->smart-open>=1.2.1->gensim) (2.5.3)\n",
      "\u001b[33mYou are using pip version 10.0.1, however version 18.0 is available.\n",
      "You should consider upgrading via the 'pip install --upgrade pip' command.\u001b[0m\n",
      "Requirement already satisfied: nltk in /usr/local/lib/python3.6/dist-packages (3.2.5)\n",
      "Requirement already satisfied: six in /usr/local/lib/python3.6/dist-packages (from nltk) (1.11.0)\n",
      "\u001b[33mYou are using pip version 10.0.1, however version 18.0 is available.\n",
      "You should consider upgrading via the 'pip install --upgrade pip' command.\u001b[0m\n",
      "Requirement already satisfied: seaborn in /usr/local/lib/python3.6/dist-packages (0.7.1)\n",
      "\u001b[33mYou are using pip version 10.0.1, however version 18.0 is available.\n",
      "You should consider upgrading via the 'pip install --upgrade pip' command.\u001b[0m\n",
      "Requirement already satisfied: xgboost in /usr/local/lib/python3.6/dist-packages (0.7.post4)\n",
      "Requirement already satisfied: numpy in /usr/local/lib/python3.6/dist-packages (from xgboost) (1.14.5)\n",
      "Requirement already satisfied: scipy in /usr/local/lib/python3.6/dist-packages (from xgboost) (0.19.1)\n",
      "\u001b[33mYou are using pip version 10.0.1, however version 18.0 is available.\n",
      "You should consider upgrading via the 'pip install --upgrade pip' command.\u001b[0m\n",
      "--2018-07-24 08:33:55--  https://doc-14-34-docs.googleusercontent.com/docs/securesc/sr3ne958tilodvhhec79bitjd2u2bnlr/t4ul11orpkbo7g1j7a551rv07qf911pf/1531468800000/09929041593969215305/09929041593969215305/1cZS7OUXVft4KTZ1AzZPu95hSgWzu3aC8?e=download\n",
      "Resolving doc-14-34-docs.googleusercontent.com (doc-14-34-docs.googleusercontent.com)... 74.125.28.132, 2607:f8b0:400e:c03::84\n",
      "Connecting to doc-14-34-docs.googleusercontent.com (doc-14-34-docs.googleusercontent.com)|74.125.28.132|:443... connected.\n",
      "HTTP request sent, awaiting response... 403 Forbidden\n",
      "2018-07-24 08:33:55 ERROR 403: Forbidden.\n",
      "\n"
     ]
    }
   ],
   "source": [
    "!pip install pydrive\n",
    "!pip install gensim\n",
    "!pip install nltk\n",
    "!pip install seaborn\n",
    "!pip install xgboost\n",
    "!wget --header='Host: doc-14-34-docs.googleusercontent.com' --header='User-Agent: Mozilla/5.0 (Macintosh; Intel Mac OS X 10_13_6) AppleWebKit/537.36 (KHTML, like Gecko) Chrome/67.0.3396.99 Safari/537.36' --header='Accept: text/html,application/xhtml+xml,application/xml;q=0.9,image/webp,image/apng,*/*;q=0.8' --header='Accept-Language: en-US,en;q=0.9' --header='Cookie: AUTH_sl8scr3r78dtlbjs5mvoco4ilf6h1a3b=09929041593969215305|1531468800000|u59ib6rmr97ctn3dvalen1hqiaup4fhq; NID=130=LXZwJ_B1s7OlagMooX3o0cdKaSHL3frN5ha4lIftM8TuGzoTCmfcWXpJ3cNRIcbkyUPqb3Jy-XQmP9UHSogzUlrWBiowlnwfwg3Cx-F6T5acQOD-gO27Uk1dFzgik3yZ' --header='Connection: keep-alive' 'https://doc-14-34-docs.googleusercontent.com/docs/securesc/sr3ne958tilodvhhec79bitjd2u2bnlr/t4ul11orpkbo7g1j7a551rv07qf911pf/1531468800000/09929041593969215305/09929041593969215305/1cZS7OUXVft4KTZ1AzZPu95hSgWzu3aC8?e=download' -O 'final.sqlite' -c"
   ]
  },
  {
   "cell_type": "code",
   "execution_count": 3,
   "metadata": {
    "colab": {
     "autoexec": {
      "startup": false,
      "wait_interval": 0
     },
     "base_uri": "https://localhost:8080/",
     "height": 605
    },
    "colab_type": "code",
    "executionInfo": {
     "elapsed": 9167,
     "status": "ok",
     "timestamp": 1532421246165,
     "user": {
      "displayName": "Vijay Bhati",
      "photoUrl": "//lh6.googleusercontent.com/-8eiDzCxazcQ/AAAAAAAAAAI/AAAAAAAAETg/em_yQO7VCzk/s50-c-k-no/photo.jpg",
      "userId": "111311313461951215577"
     },
     "user_tz": -330
    },
    "id": "gfR7mo2C_0c6",
    "outputId": "58cad6c4-4013-43ef-d720-0ac2f7eaf650"
   },
   "outputs": [
    {
     "name": "stdout",
     "output_type": "stream",
     "text": [
      "Requirement already satisfied: pydrive in /usr/local/lib/python3.6/dist-packages (1.3.1)\r\n",
      "Requirement already satisfied: google-api-python-client>=1.2 in /usr/local/lib/python3.6/dist-packages (from pydrive) (1.6.7)\r\n",
      "Requirement already satisfied: oauth2client>=4.0.0 in /usr/local/lib/python3.6/dist-packages (from pydrive) (4.1.2)\r\n",
      "Requirement already satisfied: PyYAML>=3.0 in /usr/local/lib/python3.6/dist-packages (from pydrive) (3.13)\r\n",
      "Requirement already satisfied: httplib2<1dev,>=0.9.2 in /usr/local/lib/python3.6/dist-packages (from google-api-python-client>=1.2->pydrive) (0.11.3)\r\n",
      "Requirement already satisfied: six<2dev,>=1.6.1 in /usr/local/lib/python3.6/dist-packages (from google-api-python-client>=1.2->pydrive) (1.11.0)\r\n",
      "Requirement already satisfied: uritemplate<4dev,>=3.0.0 in /usr/local/lib/python3.6/dist-packages (from google-api-python-client>=1.2->pydrive) (3.0.0)\r\n",
      "Requirement already satisfied: pyasn1>=0.1.7 in /usr/local/lib/python3.6/dist-packages (from oauth2client>=4.0.0->pydrive) (0.4.3)\r\n",
      "Requirement already satisfied: pyasn1-modules>=0.0.5 in /usr/local/lib/python3.6/dist-packages (from oauth2client>=4.0.0->pydrive) (0.2.2)\r\n",
      "Requirement already satisfied: rsa>=3.1.4 in /usr/local/lib/python3.6/dist-packages (from oauth2client>=4.0.0->pydrive) (3.4.2)\n",
      "\u001b[33mYou are using pip version 10.0.1, however version 18.0 is available.\n",
      "You should consider upgrading via the 'pip install --upgrade pip' command.\u001b[0m\n",
      "Requirement already satisfied: gensim in /usr/local/lib/python3.6/dist-packages (3.5.0)\n",
      "Requirement already satisfied: six>=1.5.0 in /usr/local/lib/python3.6/dist-packages (from gensim) (1.11.0)\n",
      "Requirement already satisfied: smart-open>=1.2.1 in /usr/local/lib/python3.6/dist-packages (from gensim) (1.6.0)\n",
      "Requirement already satisfied: scipy>=0.18.1 in /usr/local/lib/python3.6/dist-packages (from gensim) (0.19.1)\n",
      "Requirement already satisfied: numpy>=1.11.3 in /usr/local/lib/python3.6/dist-packages (from gensim) (1.14.5)\n",
      "Requirement already satisfied: boto3 in /usr/local/lib/python3.6/dist-packages (from smart-open>=1.2.1->gensim) (1.7.62)\n",
      "Requirement already satisfied: boto>=2.32 in /usr/local/lib/python3.6/dist-packages (from smart-open>=1.2.1->gensim) (2.49.0)\n",
      "Requirement already satisfied: bz2file in /usr/local/lib/python3.6/dist-packages (from smart-open>=1.2.1->gensim) (0.98)\n",
      "Requirement already satisfied: requests in /usr/local/lib/python3.6/dist-packages (from smart-open>=1.2.1->gensim) (2.18.4)\n",
      "Requirement already satisfied: botocore<1.11.0,>=1.10.62 in /usr/local/lib/python3.6/dist-packages (from boto3->smart-open>=1.2.1->gensim) (1.10.62)\n",
      "Requirement already satisfied: s3transfer<0.2.0,>=0.1.10 in /usr/local/lib/python3.6/dist-packages (from boto3->smart-open>=1.2.1->gensim) (0.1.13)\n",
      "Requirement already satisfied: jmespath<1.0.0,>=0.7.1 in /usr/local/lib/python3.6/dist-packages (from boto3->smart-open>=1.2.1->gensim) (0.9.3)\n",
      "Requirement already satisfied: idna<2.7,>=2.5 in /usr/local/lib/python3.6/dist-packages (from requests->smart-open>=1.2.1->gensim) (2.6)\n",
      "Requirement already satisfied: certifi>=2017.4.17 in /usr/local/lib/python3.6/dist-packages (from requests->smart-open>=1.2.1->gensim) (2018.4.16)\n",
      "Requirement already satisfied: urllib3<1.23,>=1.21.1 in /usr/local/lib/python3.6/dist-packages (from requests->smart-open>=1.2.1->gensim) (1.22)\n",
      "Requirement already satisfied: chardet<3.1.0,>=3.0.2 in /usr/local/lib/python3.6/dist-packages (from requests->smart-open>=1.2.1->gensim) (3.0.4)\n",
      "Requirement already satisfied: docutils>=0.10 in /usr/local/lib/python3.6/dist-packages (from botocore<1.11.0,>=1.10.62->boto3->smart-open>=1.2.1->gensim) (0.14)\n",
      "Requirement already satisfied: python-dateutil<3.0.0,>=2.1; python_version >= \"2.7\" in /usr/local/lib/python3.6/dist-packages (from botocore<1.11.0,>=1.10.62->boto3->smart-open>=1.2.1->gensim) (2.5.3)\n",
      "\u001b[33mYou are using pip version 10.0.1, however version 18.0 is available.\n",
      "You should consider upgrading via the 'pip install --upgrade pip' command.\u001b[0m\n"
     ]
    }
   ],
   "source": [
    "!pip install pydrive\n",
    "!pip install gensim\n",
    "from pydrive.auth import GoogleAuth\n",
    "from pydrive.drive import GoogleDrive\n",
    "from google.colab import auth\n",
    "from oauth2client.client import GoogleCredentials\n",
    " \n",
    "# 1. Authenticate and create the PyDrive client.\n",
    "auth.authenticate_user()\n",
    "gauth = GoogleAuth()\n",
    "gauth.credentials = GoogleCredentials.get_application_default()\n",
    "drive = GoogleDrive(gauth)"
   ]
  },
  {
   "cell_type": "code",
   "execution_count": 0,
   "metadata": {
    "colab": {
     "autoexec": {
      "startup": false,
      "wait_interval": 0
     }
    },
    "colab_type": "code",
    "id": "DDcuPm9G_3pq"
   },
   "outputs": [],
   "source": [
    "downloaded = drive.CreateFile({'id':'1cZS7OUXVft4KTZ1AzZPu95hSgWzu3aC8'}) # replace the id with id of file you want to access\n",
    "downloaded.GetContentFile('final.sqlite')"
   ]
  },
  {
   "cell_type": "code",
   "execution_count": 0,
   "metadata": {
    "colab": {
     "autoexec": {
      "startup": false,
      "wait_interval": 0
     }
    },
    "colab_type": "code",
    "id": "_va9rJx05nt7"
   },
   "outputs": [],
   "source": [
    "# loading libraries and data\n",
    "\n",
    "%matplotlib inline\n",
    "\n",
    "import sqlite3                          # for sql database\n",
    "import pandas as pd\n",
    "import numpy as np\n",
    "import nltk                             # nltk:- Natural Language Processing Toolkit\n",
    "import string\n",
    "import re\n",
    "import io\n",
    "import matplotlib.pyplot as plt\n",
    "import seaborn as sns\n",
    "from sklearn.feature_extraction.text import TfidfTransformer\n",
    "from sklearn.feature_extraction.text import CountVectorizer\n",
    "from sklearn.metrics import confusion_matrix\n",
    "from sklearn import metrics\n",
    "from sklearn.metrics import roc_curve, auc\n",
    "from nltk.stem.porter import PorterStemmer\n",
    "from sklearn.decomposition import TruncatedSVD\n",
    "from sklearn.preprocessing import StandardScaler\n",
    "from sklearn.preprocessing import Normalizer\n",
    "from sklearn.manifold import TSNE\n",
    "from sklearn.feature_extraction.text import CountVectorizer\n",
    "from sklearn.feature_extraction.text import TfidfVectorizer\n",
    "from sklearn.neighbors import KNeighborsClassifier\n",
    "from sklearn.naive_bayes import MultinomialNB\n",
    "from sklearn.naive_bayes import GaussianNB\n",
    "from sklearn.linear_model import LogisticRegression\n",
    "from sklearn.svm import SVC\n",
    "from sklearn.tree import DecisionTreeClassifier\n",
    "from sklearn.ensemble import RandomForestClassifier\n",
    "from xgboost import XGBClassifier\n",
    "from sklearn.cluster import KMeans\n",
    "from sklearn.cluster import AgglomerativeClustering\n",
    "from sklearn.model_selection import train_test_split\n",
    "from sklearn.model_selection import GridSearchCV\n",
    "from sklearn.model_selection import RandomizedSearchCV\n",
    "from sklearn.model_selection import cross_val_score\n",
    "from sklearn.metrics import classification_report\n",
    "from sklearn.metrics import accuracy_score\n",
    "from sklearn.metrics import confusion_matrix\n",
    "\n",
    "\n",
    "import pickle\n",
    "def saveindisk(obj,filename):\n",
    "    pickle.dump(obj,open(filename+\".p\",\"wb\"), protocol=4)\n",
    "def openfromdisk(filename):\n",
    "    temp = pickle.load(open(filename+\".p\",\"rb\"))\n",
    "    return temp\n",
    "\n",
    "\n",
    "con = sqlite3.connect(\"final.sqlite\")\n",
    "\n",
    "# Filtering only positive and negative reviews that is\n",
    "# not taking into consideration those reviews with score = 3\n",
    "df = pd.read_sql_query(\"\"\"\n",
    "SELECT *\n",
    "FROM Reviews\n",
    "\"\"\", con)"
   ]
  },
  {
   "cell_type": "code",
   "execution_count": 6,
   "metadata": {
    "colab": {
     "autoexec": {
      "startup": false,
      "wait_interval": 0
     },
     "base_uri": "https://localhost:8080/",
     "height": 547
    },
    "colab_type": "code",
    "executionInfo": {
     "elapsed": 1020,
     "status": "ok",
     "timestamp": 1532421259284,
     "user": {
      "displayName": "Vijay Bhati",
      "photoUrl": "//lh6.googleusercontent.com/-8eiDzCxazcQ/AAAAAAAAAAI/AAAAAAAAETg/em_yQO7VCzk/s50-c-k-no/photo.jpg",
      "userId": "111311313461951215577"
     },
     "user_tz": -330
    },
    "id": "8Z3InElJ5nt_",
    "outputId": "da0d7eaa-fcb8-41cb-dc45-c7f17e9cae7d"
   },
   "outputs": [
    {
     "data": {
      "text/html": [
       "<div>\n",
       "<style scoped>\n",
       "    .dataframe tbody tr th:only-of-type {\n",
       "        vertical-align: middle;\n",
       "    }\n",
       "\n",
       "    .dataframe tbody tr th {\n",
       "        vertical-align: top;\n",
       "    }\n",
       "\n",
       "    .dataframe thead th {\n",
       "        text-align: right;\n",
       "    }\n",
       "</style>\n",
       "<table border=\"1\" class=\"dataframe\">\n",
       "  <thead>\n",
       "    <tr style=\"text-align: right;\">\n",
       "      <th></th>\n",
       "      <th>index</th>\n",
       "      <th>Id</th>\n",
       "      <th>ProductId</th>\n",
       "      <th>UserId</th>\n",
       "      <th>ProfileName</th>\n",
       "      <th>HelpfulnessNumerator</th>\n",
       "      <th>HelpfulnessDenominator</th>\n",
       "      <th>Score</th>\n",
       "      <th>Time</th>\n",
       "      <th>Summary</th>\n",
       "      <th>Text</th>\n",
       "      <th>CleanedText</th>\n",
       "      <th>CleanedText_NoStem</th>\n",
       "    </tr>\n",
       "  </thead>\n",
       "  <tbody>\n",
       "    <tr>\n",
       "      <th>0</th>\n",
       "      <td>0</td>\n",
       "      <td>1</td>\n",
       "      <td>B001E4KFG0</td>\n",
       "      <td>A3SGXH7AUHU8GW</td>\n",
       "      <td>delmartian</td>\n",
       "      <td>1</td>\n",
       "      <td>1</td>\n",
       "      <td>Positive</td>\n",
       "      <td>1303862400</td>\n",
       "      <td>Good Quality Dog Food</td>\n",
       "      <td>I have bought several of the Vitality canned d...</td>\n",
       "      <td>b'bought sever vital can dog food product foun...</td>\n",
       "      <td>b'bought several vitality canned dog food prod...</td>\n",
       "    </tr>\n",
       "    <tr>\n",
       "      <th>1</th>\n",
       "      <td>1</td>\n",
       "      <td>2</td>\n",
       "      <td>B00813GRG4</td>\n",
       "      <td>A1D87F6ZCVE5NK</td>\n",
       "      <td>dll pa</td>\n",
       "      <td>0</td>\n",
       "      <td>0</td>\n",
       "      <td>Negative</td>\n",
       "      <td>1346976000</td>\n",
       "      <td>Not as Advertised</td>\n",
       "      <td>Product arrived labeled as Jumbo Salted Peanut...</td>\n",
       "      <td>b'product arriv label jumbo salt peanut peanut...</td>\n",
       "      <td>b'product arrived labeled jumbo salted peanuts...</td>\n",
       "    </tr>\n",
       "    <tr>\n",
       "      <th>2</th>\n",
       "      <td>2</td>\n",
       "      <td>3</td>\n",
       "      <td>B000LQOCH0</td>\n",
       "      <td>ABXLMWJIXXAIN</td>\n",
       "      <td>Natalia Corres \"Natalia Corres\"</td>\n",
       "      <td>1</td>\n",
       "      <td>1</td>\n",
       "      <td>Positive</td>\n",
       "      <td>1219017600</td>\n",
       "      <td>\"Delight\" says it all</td>\n",
       "      <td>This is a confection that has been around a fe...</td>\n",
       "      <td>b'confect around centuri light pillowi citrus ...</td>\n",
       "      <td>b'confection around centuries light pillowy ci...</td>\n",
       "    </tr>\n",
       "    <tr>\n",
       "      <th>3</th>\n",
       "      <td>3</td>\n",
       "      <td>4</td>\n",
       "      <td>B000UA0QIQ</td>\n",
       "      <td>A395BORC6FGVXV</td>\n",
       "      <td>Karl</td>\n",
       "      <td>3</td>\n",
       "      <td>3</td>\n",
       "      <td>Negative</td>\n",
       "      <td>1307923200</td>\n",
       "      <td>Cough Medicine</td>\n",
       "      <td>If you are looking for the secret ingredient i...</td>\n",
       "      <td>b'look secret ingredi robitussin believ found ...</td>\n",
       "      <td>b'looking secret ingredient robitussin believe...</td>\n",
       "    </tr>\n",
       "    <tr>\n",
       "      <th>4</th>\n",
       "      <td>4</td>\n",
       "      <td>5</td>\n",
       "      <td>B006K2ZZ7K</td>\n",
       "      <td>A1UQRSCLF8GW1T</td>\n",
       "      <td>Michael D. Bigham \"M. Wassir\"</td>\n",
       "      <td>0</td>\n",
       "      <td>0</td>\n",
       "      <td>Positive</td>\n",
       "      <td>1350777600</td>\n",
       "      <td>Great taffy</td>\n",
       "      <td>Great taffy at a great price.  There was a wid...</td>\n",
       "      <td>b'great taffi great price wide assort yummi ta...</td>\n",
       "      <td>b'great taffy great price wide assortment yumm...</td>\n",
       "    </tr>\n",
       "  </tbody>\n",
       "</table>\n",
       "</div>"
      ],
      "text/plain": [
       "   index  Id   ProductId          UserId                      ProfileName  \\\n",
       "0      0   1  B001E4KFG0  A3SGXH7AUHU8GW                       delmartian   \n",
       "1      1   2  B00813GRG4  A1D87F6ZCVE5NK                           dll pa   \n",
       "2      2   3  B000LQOCH0   ABXLMWJIXXAIN  Natalia Corres \"Natalia Corres\"   \n",
       "3      3   4  B000UA0QIQ  A395BORC6FGVXV                             Karl   \n",
       "4      4   5  B006K2ZZ7K  A1UQRSCLF8GW1T    Michael D. Bigham \"M. Wassir\"   \n",
       "\n",
       "   HelpfulnessNumerator  HelpfulnessDenominator     Score        Time  \\\n",
       "0                     1                       1  Positive  1303862400   \n",
       "1                     0                       0  Negative  1346976000   \n",
       "2                     1                       1  Positive  1219017600   \n",
       "3                     3                       3  Negative  1307923200   \n",
       "4                     0                       0  Positive  1350777600   \n",
       "\n",
       "                 Summary                                               Text  \\\n",
       "0  Good Quality Dog Food  I have bought several of the Vitality canned d...   \n",
       "1      Not as Advertised  Product arrived labeled as Jumbo Salted Peanut...   \n",
       "2  \"Delight\" says it all  This is a confection that has been around a fe...   \n",
       "3         Cough Medicine  If you are looking for the secret ingredient i...   \n",
       "4            Great taffy  Great taffy at a great price.  There was a wid...   \n",
       "\n",
       "                                         CleanedText  \\\n",
       "0  b'bought sever vital can dog food product foun...   \n",
       "1  b'product arriv label jumbo salt peanut peanut...   \n",
       "2  b'confect around centuri light pillowi citrus ...   \n",
       "3  b'look secret ingredi robitussin believ found ...   \n",
       "4  b'great taffi great price wide assort yummi ta...   \n",
       "\n",
       "                                  CleanedText_NoStem  \n",
       "0  b'bought several vitality canned dog food prod...  \n",
       "1  b'product arrived labeled jumbo salted peanuts...  \n",
       "2  b'confection around centuries light pillowy ci...  \n",
       "3  b'looking secret ingredient robitussin believe...  \n",
       "4  b'great taffy great price wide assortment yumm...  "
      ]
     },
     "execution_count": 6,
     "metadata": {
      "tags": []
     },
     "output_type": "execute_result"
    }
   ],
   "source": [
    "df.head()"
   ]
  },
  {
   "cell_type": "code",
   "execution_count": 7,
   "metadata": {
    "colab": {
     "autoexec": {
      "startup": false,
      "wait_interval": 0
     },
     "base_uri": "https://localhost:8080/",
     "height": 287
    },
    "colab_type": "code",
    "executionInfo": {
     "elapsed": 1066,
     "status": "ok",
     "timestamp": 1532421260734,
     "user": {
      "displayName": "Vijay Bhati",
      "photoUrl": "//lh6.googleusercontent.com/-8eiDzCxazcQ/AAAAAAAAAAI/AAAAAAAAETg/em_yQO7VCzk/s50-c-k-no/photo.jpg",
      "userId": "111311313461951215577"
     },
     "user_tz": -330
    },
    "id": "xKbCIld65nuC",
    "outputId": "a74952b5-7d1e-4af7-da9c-dea940c45eb2"
   },
   "outputs": [
    {
     "data": {
      "text/html": [
       "<div>\n",
       "<style scoped>\n",
       "    .dataframe tbody tr th:only-of-type {\n",
       "        vertical-align: middle;\n",
       "    }\n",
       "\n",
       "    .dataframe tbody tr th {\n",
       "        vertical-align: top;\n",
       "    }\n",
       "\n",
       "    .dataframe thead th {\n",
       "        text-align: right;\n",
       "    }\n",
       "</style>\n",
       "<table border=\"1\" class=\"dataframe\">\n",
       "  <thead>\n",
       "    <tr style=\"text-align: right;\">\n",
       "      <th></th>\n",
       "      <th>index</th>\n",
       "      <th>Id</th>\n",
       "      <th>HelpfulnessNumerator</th>\n",
       "      <th>HelpfulnessDenominator</th>\n",
       "      <th>Time</th>\n",
       "    </tr>\n",
       "  </thead>\n",
       "  <tbody>\n",
       "    <tr>\n",
       "      <th>count</th>\n",
       "      <td>364171.000000</td>\n",
       "      <td>364171.000000</td>\n",
       "      <td>364171.000000</td>\n",
       "      <td>364171.000000</td>\n",
       "      <td>3.641710e+05</td>\n",
       "    </tr>\n",
       "    <tr>\n",
       "      <th>mean</th>\n",
       "      <td>241825.377603</td>\n",
       "      <td>261814.561014</td>\n",
       "      <td>1.739021</td>\n",
       "      <td>2.186841</td>\n",
       "      <td>1.296135e+09</td>\n",
       "    </tr>\n",
       "    <tr>\n",
       "      <th>std</th>\n",
       "      <td>154519.869452</td>\n",
       "      <td>166958.768333</td>\n",
       "      <td>6.723921</td>\n",
       "      <td>7.348482</td>\n",
       "      <td>4.864772e+07</td>\n",
       "    </tr>\n",
       "    <tr>\n",
       "      <th>min</th>\n",
       "      <td>0.000000</td>\n",
       "      <td>1.000000</td>\n",
       "      <td>0.000000</td>\n",
       "      <td>0.000000</td>\n",
       "      <td>9.393408e+08</td>\n",
       "    </tr>\n",
       "    <tr>\n",
       "      <th>25%</th>\n",
       "      <td>104427.500000</td>\n",
       "      <td>113379.500000</td>\n",
       "      <td>0.000000</td>\n",
       "      <td>0.000000</td>\n",
       "      <td>1.270858e+09</td>\n",
       "    </tr>\n",
       "    <tr>\n",
       "      <th>50%</th>\n",
       "      <td>230033.000000</td>\n",
       "      <td>249445.000000</td>\n",
       "      <td>0.000000</td>\n",
       "      <td>1.000000</td>\n",
       "      <td>1.311379e+09</td>\n",
       "    </tr>\n",
       "    <tr>\n",
       "      <th>75%</th>\n",
       "      <td>376763.500000</td>\n",
       "      <td>407408.500000</td>\n",
       "      <td>2.000000</td>\n",
       "      <td>2.000000</td>\n",
       "      <td>1.332893e+09</td>\n",
       "    </tr>\n",
       "    <tr>\n",
       "      <th>max</th>\n",
       "      <td>525813.000000</td>\n",
       "      <td>568454.000000</td>\n",
       "      <td>866.000000</td>\n",
       "      <td>878.000000</td>\n",
       "      <td>1.351210e+09</td>\n",
       "    </tr>\n",
       "  </tbody>\n",
       "</table>\n",
       "</div>"
      ],
      "text/plain": [
       "               index             Id  HelpfulnessNumerator  \\\n",
       "count  364171.000000  364171.000000         364171.000000   \n",
       "mean   241825.377603  261814.561014              1.739021   \n",
       "std    154519.869452  166958.768333              6.723921   \n",
       "min         0.000000       1.000000              0.000000   \n",
       "25%    104427.500000  113379.500000              0.000000   \n",
       "50%    230033.000000  249445.000000              0.000000   \n",
       "75%    376763.500000  407408.500000              2.000000   \n",
       "max    525813.000000  568454.000000            866.000000   \n",
       "\n",
       "       HelpfulnessDenominator          Time  \n",
       "count           364171.000000  3.641710e+05  \n",
       "mean                 2.186841  1.296135e+09  \n",
       "std                  7.348482  4.864772e+07  \n",
       "min                  0.000000  9.393408e+08  \n",
       "25%                  0.000000  1.270858e+09  \n",
       "50%                  1.000000  1.311379e+09  \n",
       "75%                  2.000000  1.332893e+09  \n",
       "max                878.000000  1.351210e+09  "
      ]
     },
     "execution_count": 7,
     "metadata": {
      "tags": []
     },
     "output_type": "execute_result"
    }
   ],
   "source": [
    "df.describe()"
   ]
  },
  {
   "cell_type": "code",
   "execution_count": 8,
   "metadata": {
    "colab": {
     "autoexec": {
      "startup": false,
      "wait_interval": 0
     },
     "base_uri": "https://localhost:8080/",
     "height": 34
    },
    "colab_type": "code",
    "executionInfo": {
     "elapsed": 1012,
     "status": "ok",
     "timestamp": 1532421262178,
     "user": {
      "displayName": "Vijay Bhati",
      "photoUrl": "//lh6.googleusercontent.com/-8eiDzCxazcQ/AAAAAAAAAAI/AAAAAAAAETg/em_yQO7VCzk/s50-c-k-no/photo.jpg",
      "userId": "111311313461951215577"
     },
     "user_tz": -330
    },
    "id": "iin0meXc5nuG",
    "outputId": "a3669c23-a9eb-4c95-8ad6-d19980fc771a"
   },
   "outputs": [
    {
     "data": {
      "text/plain": [
       "(364171, 13)"
      ]
     },
     "execution_count": 8,
     "metadata": {
      "tags": []
     },
     "output_type": "execute_result"
    }
   ],
   "source": [
    "df.shape"
   ]
  },
  {
   "cell_type": "code",
   "execution_count": 9,
   "metadata": {
    "colab": {
     "autoexec": {
      "startup": false,
      "wait_interval": 0
     },
     "base_uri": "https://localhost:8080/",
     "height": 34
    },
    "colab_type": "code",
    "executionInfo": {
     "elapsed": 1195,
     "status": "ok",
     "timestamp": 1532421263864,
     "user": {
      "displayName": "Vijay Bhati",
      "photoUrl": "//lh6.googleusercontent.com/-8eiDzCxazcQ/AAAAAAAAAAI/AAAAAAAAETg/em_yQO7VCzk/s50-c-k-no/photo.jpg",
      "userId": "111311313461951215577"
     },
     "user_tz": -330
    },
    "id": "2fr1nADq5nuL",
    "outputId": "cbf92acd-f096-42af-934e-740a3571f1c4"
   },
   "outputs": [
    {
     "data": {
      "text/plain": [
       "364171"
      ]
     },
     "execution_count": 9,
     "metadata": {
      "tags": []
     },
     "output_type": "execute_result"
    }
   ],
   "source": [
    "df['Score'].size"
   ]
  },
  {
   "cell_type": "code",
   "execution_count": 10,
   "metadata": {
    "colab": {
     "autoexec": {
      "startup": false,
      "wait_interval": 0
     },
     "base_uri": "https://localhost:8080/",
     "height": 534
    },
    "colab_type": "code",
    "executionInfo": {
     "elapsed": 2064,
     "status": "ok",
     "timestamp": 1532421266386,
     "user": {
      "displayName": "Vijay Bhati",
      "photoUrl": "//lh6.googleusercontent.com/-8eiDzCxazcQ/AAAAAAAAAAI/AAAAAAAAETg/em_yQO7VCzk/s50-c-k-no/photo.jpg",
      "userId": "111311313461951215577"
     },
     "user_tz": -330
    },
    "id": "YAAttNxM5nuP",
    "outputId": "24cc1bd0-2dc0-46db-8e0f-3cdff99cd038"
   },
   "outputs": [
    {
     "data": {
      "text/html": [
       "<div>\n",
       "<style scoped>\n",
       "    .dataframe tbody tr th:only-of-type {\n",
       "        vertical-align: middle;\n",
       "    }\n",
       "\n",
       "    .dataframe tbody tr th {\n",
       "        vertical-align: top;\n",
       "    }\n",
       "\n",
       "    .dataframe thead th {\n",
       "        text-align: right;\n",
       "    }\n",
       "</style>\n",
       "<table border=\"1\" class=\"dataframe\">\n",
       "  <thead>\n",
       "    <tr style=\"text-align: right;\">\n",
       "      <th></th>\n",
       "      <th>index</th>\n",
       "      <th>Id</th>\n",
       "      <th>ProductId</th>\n",
       "      <th>UserId</th>\n",
       "      <th>ProfileName</th>\n",
       "      <th>HelpfulnessNumerator</th>\n",
       "      <th>HelpfulnessDenominator</th>\n",
       "      <th>Score</th>\n",
       "      <th>Time</th>\n",
       "      <th>Summary</th>\n",
       "      <th>Text</th>\n",
       "      <th>CleanedText</th>\n",
       "      <th>CleanedText_NoStem</th>\n",
       "    </tr>\n",
       "  </thead>\n",
       "  <tbody>\n",
       "    <tr>\n",
       "      <th>169281</th>\n",
       "      <td>212472</td>\n",
       "      <td>230285</td>\n",
       "      <td>B00004RYGX</td>\n",
       "      <td>A344SMIA5JECGM</td>\n",
       "      <td>Vincent P. Ross</td>\n",
       "      <td>1</td>\n",
       "      <td>2</td>\n",
       "      <td>Positive</td>\n",
       "      <td>944438400</td>\n",
       "      <td>A modern day fairy tale</td>\n",
       "      <td>A twist of rumplestiskin captured on film, sta...</td>\n",
       "      <td>b'twist rumplestiskin captur film star michael...</td>\n",
       "      <td>b'twist rumplestiskin captured film starring m...</td>\n",
       "    </tr>\n",
       "    <tr>\n",
       "      <th>169267</th>\n",
       "      <td>212458</td>\n",
       "      <td>230269</td>\n",
       "      <td>B00004RYGX</td>\n",
       "      <td>A1B2IZU1JLZA6</td>\n",
       "      <td>Wes</td>\n",
       "      <td>19</td>\n",
       "      <td>23</td>\n",
       "      <td>Negative</td>\n",
       "      <td>948240000</td>\n",
       "      <td>WARNING: CLAMSHELL EDITION IS EDITED TV VERSION</td>\n",
       "      <td>I, myself always enjoyed this movie, it's very...</td>\n",
       "      <td>b'alway enjoy movi funni entertain didnt hesit...</td>\n",
       "      <td>b'always enjoyed movie funny entertaining didn...</td>\n",
       "    </tr>\n",
       "    <tr>\n",
       "      <th>104684</th>\n",
       "      <td>121041</td>\n",
       "      <td>131217</td>\n",
       "      <td>B00004RAMX</td>\n",
       "      <td>A5NQLNC6QPGSI</td>\n",
       "      <td>Kim Nason</td>\n",
       "      <td>7</td>\n",
       "      <td>8</td>\n",
       "      <td>Positive</td>\n",
       "      <td>965001600</td>\n",
       "      <td>End your Gopher Problems</td>\n",
       "      <td>I have just recently purchased the Woodstream ...</td>\n",
       "      <td>b'recent purchas woodstream corp gopher trap w...</td>\n",
       "      <td>b'recently purchased woodstream corp gopher tr...</td>\n",
       "    </tr>\n",
       "    <tr>\n",
       "      <th>169341</th>\n",
       "      <td>212532</td>\n",
       "      <td>230347</td>\n",
       "      <td>B00004RYGX</td>\n",
       "      <td>A1FJOY14X3MUHE</td>\n",
       "      <td>Justin Howard</td>\n",
       "      <td>2</td>\n",
       "      <td>2</td>\n",
       "      <td>Positive</td>\n",
       "      <td>966297600</td>\n",
       "      <td>A fresh, original film from master storyteller...</td>\n",
       "      <td>This is such a great film, I don't even know h...</td>\n",
       "      <td>b'great film dont even know sum first complet ...</td>\n",
       "      <td>b'great film dont even know sum first complete...</td>\n",
       "    </tr>\n",
       "    <tr>\n",
       "      <th>117351</th>\n",
       "      <td>138018</td>\n",
       "      <td>149790</td>\n",
       "      <td>B00004S1C6</td>\n",
       "      <td>A1IU7S4HCK1XK0</td>\n",
       "      <td>Joanna Daneman</td>\n",
       "      <td>25</td>\n",
       "      <td>27</td>\n",
       "      <td>Positive</td>\n",
       "      <td>982800000</td>\n",
       "      <td>Make your own Martha Stewart style cakes and c...</td>\n",
       "      <td>I don't know why anyone would ever use those l...</td>\n",
       "      <td>b'dont know anyon would ever use littl liquid ...</td>\n",
       "      <td>b'dont know anyone would ever use little liqui...</td>\n",
       "    </tr>\n",
       "  </tbody>\n",
       "</table>\n",
       "</div>"
      ],
      "text/plain": [
       "         index      Id   ProductId          UserId      ProfileName  \\\n",
       "169281  212472  230285  B00004RYGX  A344SMIA5JECGM  Vincent P. Ross   \n",
       "169267  212458  230269  B00004RYGX   A1B2IZU1JLZA6              Wes   \n",
       "104684  121041  131217  B00004RAMX   A5NQLNC6QPGSI        Kim Nason   \n",
       "169341  212532  230347  B00004RYGX  A1FJOY14X3MUHE    Justin Howard   \n",
       "117351  138018  149790  B00004S1C6  A1IU7S4HCK1XK0   Joanna Daneman   \n",
       "\n",
       "        HelpfulnessNumerator  HelpfulnessDenominator     Score       Time  \\\n",
       "169281                     1                       2  Positive  944438400   \n",
       "169267                    19                      23  Negative  948240000   \n",
       "104684                     7                       8  Positive  965001600   \n",
       "169341                     2                       2  Positive  966297600   \n",
       "117351                    25                      27  Positive  982800000   \n",
       "\n",
       "                                                  Summary  \\\n",
       "169281                            A modern day fairy tale   \n",
       "169267    WARNING: CLAMSHELL EDITION IS EDITED TV VERSION   \n",
       "104684                           End your Gopher Problems   \n",
       "169341  A fresh, original film from master storyteller...   \n",
       "117351  Make your own Martha Stewart style cakes and c...   \n",
       "\n",
       "                                                     Text  \\\n",
       "169281  A twist of rumplestiskin captured on film, sta...   \n",
       "169267  I, myself always enjoyed this movie, it's very...   \n",
       "104684  I have just recently purchased the Woodstream ...   \n",
       "169341  This is such a great film, I don't even know h...   \n",
       "117351  I don't know why anyone would ever use those l...   \n",
       "\n",
       "                                              CleanedText  \\\n",
       "169281  b'twist rumplestiskin captur film star michael...   \n",
       "169267  b'alway enjoy movi funni entertain didnt hesit...   \n",
       "104684  b'recent purchas woodstream corp gopher trap w...   \n",
       "169341  b'great film dont even know sum first complet ...   \n",
       "117351  b'dont know anyon would ever use littl liquid ...   \n",
       "\n",
       "                                       CleanedText_NoStem  \n",
       "169281  b'twist rumplestiskin captured film starring m...  \n",
       "169267  b'always enjoyed movie funny entertaining didn...  \n",
       "104684  b'recently purchased woodstream corp gopher tr...  \n",
       "169341  b'great film dont even know sum first complete...  \n",
       "117351  b'dont know anyone would ever use little liqui...  "
      ]
     },
     "execution_count": 10,
     "metadata": {
      "tags": []
     },
     "output_type": "execute_result"
    }
   ],
   "source": [
    "# Taking Sample Datapoints\n",
    "n_samples = 40000\n",
    "df_sample = df.sample(n_samples)\n",
    "df_sample.sort_values('Time', inplace=True) #Sorting with respect to time\n",
    "df_sample.head()"
   ]
  },
  {
   "cell_type": "code",
   "execution_count": 0,
   "metadata": {
    "colab": {
     "autoexec": {
      "startup": false,
      "wait_interval": 0
     }
    },
    "colab_type": "code",
    "id": "BcuyEz5q5nuU"
   },
   "outputs": [],
   "source": [
    "def polarity(x):\n",
    "    if x == \"Positive\":\n",
    "        return 0\n",
    "    else:\n",
    "        return 1\n",
    "df_sample['Score'] = df_sample['Score'].map(polarity)"
   ]
  },
  {
   "cell_type": "code",
   "execution_count": 0,
   "metadata": {
    "colab": {
     "autoexec": {
      "startup": false,
      "wait_interval": 0
     }
    },
    "colab_type": "code",
    "id": "d9OBg7jV7toj"
   },
   "outputs": [],
   "source": [
    "def plot_confusion_matrix_(y_true, y_pred, labels):\n",
    "    cm = confusion_matrix(y_true, y_pred, labels=labels)\n",
    "    df_cm = pd.DataFrame(cm, index = labels,\n",
    "                  columns = labels)\n",
    "    # convert to percentage\n",
    "    df_cm = df_cm.divide(df_cm.sum(axis=1), axis='index') * 100\n",
    "    sns.heatmap(df_cm, annot=True, fmt='.1f');\n",
    "    plt.show()"
   ]
  },
  {
   "cell_type": "markdown",
   "metadata": {
    "colab_type": "text",
    "id": "pHEGnJ7s5nuX"
   },
   "source": [
    "# Applying the Decision Tree on the different Vectorizing Techniques\n",
    "\n",
    "\n",
    "## Bag of Word(BOW)"
   ]
  },
  {
   "cell_type": "markdown",
   "metadata": {
    "colab_type": "text",
    "id": "jFwzDUT35nuX"
   },
   "source": [
    "<img src=\"https://cdn-images-1.medium.com/max/1600/0*Yclq0kqMAwCQcIV_.jpg\">"
   ]
  },
  {
   "cell_type": "code",
   "execution_count": 0,
   "metadata": {
    "colab": {
     "autoexec": {
      "startup": false,
      "wait_interval": 0
     }
    },
    "colab_type": "code",
    "id": "1sUdRiFo5nuY"
   },
   "outputs": [],
   "source": [
    "from sklearn.feature_extraction.text import CountVectorizer\n",
    "from sklearn.model_selection import train_test_split\n",
    "from sklearn import preprocessing\n",
    "\n",
    "#Breaking into Train and test\n",
    "X_train, X_test, y_train, y_test = train_test_split(df_sample['CleanedText'].values,df_sample['Score'].values,test_size=0.3,shuffle=False)\n",
    "\n",
    "bi_gram = CountVectorizer() \n",
    "X_train = bi_gram.fit_transform(X_train)\n",
    "X_train = preprocessing.normalize(X_train)\n",
    "\n",
    "X_test = bi_gram.transform(X_test)\n",
    "X_test = preprocessing.normalize(X_test)"
   ]
  },
  {
   "cell_type": "code",
   "execution_count": 0,
   "metadata": {
    "colab": {
     "autoexec": {
      "startup": false,
      "wait_interval": 0
     },
     "base_uri": "https://localhost:8080/",
     "height": 34
    },
    "colab_type": "code",
    "id": "f6tettpep8up",
    "outputId": "77a7d58e-57a8-4a07-b443-8e1a6db6dc38"
   },
   "outputs": [
    {
     "name": "stdout",
     "output_type": "stream",
     "text": [
      "Fitting 10 folds for each of 43 candidates, totalling 430 fits\n"
     ]
    }
   ],
   "source": [
    "# GridSearch\n",
    "from sklearn.model_selection import GridSearchCV\n",
    "from sklearn.model_selection import TimeSeriesSplit\n",
    "\n",
    "clf = DecisionTreeClassifier()\n",
    "param_grid = {'max_depth': np.concatenate((np.arange(1, 20), np.arange(20, 500, 20)))} # params we need to try on classifier\n",
    "tscv = TimeSeriesSplit(n_splits=10) # For time based splitting\n",
    "gsv = GridSearchCV(clf,param_grid,cv=tscv,verbose=1,n_jobs=-1)\n",
    "gsv.fit(X_train,y_train)\n",
    "print(\"Best HyperParameter: \",gsv.best_params_)\n",
    "print(\"Best Accuracy: %.2f%%\"%(gsv.best_score_*100))"
   ]
  },
  {
   "cell_type": "code",
   "execution_count": 15,
   "metadata": {
    "colab": {
     "autoexec": {
      "startup": false,
      "wait_interval": 0
     },
     "base_uri": "https://localhost:8080/",
     "height": 158
    },
    "colab_type": "code",
    "executionInfo": {
     "elapsed": 2214,
     "status": "ok",
     "timestamp": 1532422455027,
     "user": {
      "displayName": "Vijay Bhati",
      "photoUrl": "//lh6.googleusercontent.com/-8eiDzCxazcQ/AAAAAAAAAAI/AAAAAAAAETg/em_yQO7VCzk/s50-c-k-no/photo.jpg",
      "userId": "111311313461951215577"
     },
     "user_tz": -330
    },
    "id": "UWov8dGA5nud",
    "outputId": "7edab0f8-f69b-4140-87c1-e47778dcb5d6"
   },
   "outputs": [
    {
     "name": "stdout",
     "output_type": "stream",
     "text": [
      "                 Classification Report Test Data\n",
      "             precision    recall  f1-score   support\n",
      "\n",
      "          0       0.86      0.98      0.92      9873\n",
      "          1       0.74      0.24      0.36      2127\n",
      "\n",
      "avg / total       0.84      0.85      0.82     12000\n",
      "\n"
     ]
    }
   ],
   "source": [
    "from sklearn.metrics import classification_report\n",
    "from sklearn.metrics import accuracy_score\n",
    "from sklearn.metrics import confusion_matrix\n",
    "\n",
    "print(\"                 Classification Report Test Data\")\n",
    "print(classification_report(y_test, gsv.predict(X_test)))"
   ]
  },
  {
   "cell_type": "code",
   "execution_count": 16,
   "metadata": {
    "colab": {
     "autoexec": {
      "startup": false,
      "wait_interval": 0
     },
     "base_uri": "https://localhost:8080/",
     "height": 392
    },
    "colab_type": "code",
    "executionInfo": {
     "elapsed": 1939,
     "status": "ok",
     "timestamp": 1532422458510,
     "user": {
      "displayName": "Vijay Bhati",
      "photoUrl": "//lh6.googleusercontent.com/-8eiDzCxazcQ/AAAAAAAAAAI/AAAAAAAAETg/em_yQO7VCzk/s50-c-k-no/photo.jpg",
      "userId": "111311313461951215577"
     },
     "user_tz": -330
    },
    "id": "Yt7-vqD35nuj",
    "outputId": "84a7e8dd-7ec8-483a-b659-bf58827fcbd7"
   },
   "outputs": [
    {
     "data": {
      "image/png": "[encoded data removed]",
      "text/plain": [
       "<matplotlib.figure.Figure at 0x7f8db2727898>"
      ]
     },
     "metadata": {
      "tags": []
     },
     "output_type": "display_data"
    }
   ],
   "source": [
    "# Plot Accuracy - Depth \n",
    "mean_score = gsv.cv_results_['mean_test_score']\n",
    "std_score = gsv.cv_results_['std_test_score']\n",
    "plt.figure(figsize=(10, 6))\n",
    "plt.plot(param_grid['max_depth'], mean_score, label='Accuracy')\n",
    "plt.fill_between(param_grid['max_depth'], mean_score + std_score, mean_score - std_score, alpha=0.1, label='± 1 std. dev')\n",
    "plt.ylabel('Accuracy')\n",
    "plt.xlabel('Depth')\n",
    "plt.legend()\n",
    "plt.xscale('log')"
   ]
  },
  {
   "cell_type": "code",
   "execution_count": 17,
   "metadata": {
    "colab": {
     "autoexec": {
      "startup": false,
      "wait_interval": 0
     },
     "base_uri": "https://localhost:8080/",
     "height": 368
    },
    "colab_type": "code",
    "executionInfo": {
     "elapsed": 3090,
     "status": "ok",
     "timestamp": 1532422462686,
     "user": {
      "displayName": "Vijay Bhati",
      "photoUrl": "//lh6.googleusercontent.com/-8eiDzCxazcQ/AAAAAAAAAAI/AAAAAAAAETg/em_yQO7VCzk/s50-c-k-no/photo.jpg",
      "userId": "111311313461951215577"
     },
     "user_tz": -330
    },
    "id": "vwBabSbE8FrL",
    "outputId": "56e30130-4172-4116-fc8a-c2b00f6b9daf"
   },
   "outputs": [
    {
     "data": {
      "text/plain": [
       "<matplotlib.axes._subplots.AxesSubplot at 0x7f8dad6c1400>"
      ]
     },
     "execution_count": 17,
     "metadata": {
      "tags": []
     },
     "output_type": "execute_result"
    },
    {
     "data": {
      "image/png": "[encoded data removed]",
      "text/plain": [
       "<matplotlib.figure.Figure at 0x7f8db1f11320>"
      ]
     },
     "metadata": {
      "tags": []
     },
     "output_type": "display_data"
    }
   ],
   "source": [
    "pred = gsv.predict(X_test)\n",
    "df_cm = pd.DataFrame(confusion_matrix(y_test, pred), range(2),range(2))\n",
    "sns.set(font_scale=1.4)\n",
    "sns.heatmap(df_cm, annot=True,annot_kws={\"size\": 16}, fmt='g')"
   ]
  },
  {
   "cell_type": "code",
   "execution_count": 18,
   "metadata": {
    "colab": {
     "autoexec": {
      "startup": false,
      "wait_interval": 0
     },
     "base_uri": "https://localhost:8080/",
     "height": 751
    },
    "colab_type": "code",
    "executionInfo": {
     "elapsed": 3190,
     "status": "ok",
     "timestamp": 1532422465967,
     "user": {
      "displayName": "Vijay Bhati",
      "photoUrl": "//lh6.googleusercontent.com/-8eiDzCxazcQ/AAAAAAAAAAI/AAAAAAAAETg/em_yQO7VCzk/s50-c-k-no/photo.jpg",
      "userId": "111311313461951215577"
     },
     "user_tz": -330
    },
    "id": "lseom1K7-CCH",
    "outputId": "f96bbf6d-c669-4d3c-abdb-51e17e2072fd"
   },
   "outputs": [
    {
     "data": {
      "image/png": "[encoded data removed]",
      "text/plain": [
       "<matplotlib.figure.Figure at 0x7f8dabd34cf8>"
      ]
     },
     "metadata": {
      "tags": []
     },
     "output_type": "display_data"
    }
   ],
   "source": [
    "from matplotlib import pyplot\n",
    "importances = gsv.best_estimator_.feature_importances_\n",
    "indices = np.argsort(importances)[::-1][:30]\n",
    "names = bi_gram.get_feature_names()\n",
    "sns.set(rc={'figure.figsize':(15,12)})\n",
    "plt.figure()\n",
    "plt.title(\"Feature Importance\")\n",
    "plt.bar(range(30), importances[indices], color='g')\n",
    "names = np.array(names)\n",
    "plt.xticks(range(30), names[indices], rotation=90)\n",
    "plt.show()"
   ]
  },
  {
   "cell_type": "markdown",
   "metadata": {
    "colab_type": "text",
    "id": "ESF55Tz65nun"
   },
   "source": [
    "# Tf-Idf Features"
   ]
  },
  {
   "cell_type": "code",
   "execution_count": 0,
   "metadata": {
    "colab": {
     "autoexec": {
      "startup": false,
      "wait_interval": 0
     }
    },
    "colab_type": "code",
    "id": "ELXO6DAW5nuo"
   },
   "outputs": [],
   "source": [
    "X_train, X_test, y_train, y_test = train_test_split(df_sample['CleanedText'].values,df_sample['Score'].values,test_size=0.3,shuffle=False)"
   ]
  },
  {
   "cell_type": "code",
   "execution_count": 20,
   "metadata": {
    "colab": {
     "autoexec": {
      "startup": false,
      "wait_interval": 0
     },
     "base_uri": "https://localhost:8080/",
     "height": 52
    },
    "colab_type": "code",
    "executionInfo": {
     "elapsed": 9426,
     "status": "ok",
     "timestamp": 1532422478045,
     "user": {
      "displayName": "Vijay Bhati",
      "photoUrl": "//lh6.googleusercontent.com/-8eiDzCxazcQ/AAAAAAAAAAI/AAAAAAAAETg/em_yQO7VCzk/s50-c-k-no/photo.jpg",
      "userId": "111311313461951215577"
     },
     "user_tz": -330
    },
    "id": "mnRmq4q75nur",
    "outputId": "c61d7346-ca74-46d1-fcef-b9aab40b1164"
   },
   "outputs": [
    {
     "name": "stdout",
     "output_type": "stream",
     "text": [
      "Train Data Size:  (28000, 504790)\n",
      "Test Data Size:  (12000, 504790)\n"
     ]
    }
   ],
   "source": [
    "tfidf = TfidfVectorizer(ngram_range=(1,2))\n",
    "X_train = tfidf.fit_transform(X_train)\n",
    "\n",
    "X_train = preprocessing.normalize(X_train)\n",
    "print(\"Train Data Size: \",X_train.shape)\n",
    "X_test = tfidf.transform(X_test)\n",
    "\n",
    "X_test = preprocessing.normalize(X_test)\n",
    "print(\"Test Data Size: \",X_test.shape)"
   ]
  },
  {
   "cell_type": "code",
   "execution_count": 21,
   "metadata": {
    "colab": {
     "autoexec": {
      "startup": false,
      "wait_interval": 0
     },
     "base_uri": "https://localhost:8080/",
     "height": 34
    },
    "colab_type": "code",
    "executionInfo": {
     "elapsed": 107742,
     "status": "ok",
     "timestamp": 1532422585835,
     "user": {
      "displayName": "Vijay Bhati",
      "photoUrl": "//lh6.googleusercontent.com/-8eiDzCxazcQ/AAAAAAAAAAI/AAAAAAAAETg/em_yQO7VCzk/s50-c-k-no/photo.jpg",
      "userId": "111311313461951215577"
     },
     "user_tz": -330
    },
    "id": "_gM5jXl_5nuv",
    "outputId": "be7bc0b2-15cf-4c1f-9846-f635503f5879"
   },
   "outputs": [
    {
     "name": "stdout",
     "output_type": "stream",
     "text": [
      "Accuracy: 0.8293333333333334\n"
     ]
    }
   ],
   "source": [
    "clf = DecisionTreeClassifier()\n",
    "clf.fit(X_train, y_train)\n",
    "\n",
    "print('Accuracy:', clf.score(X_test, y_test))"
   ]
  },
  {
   "cell_type": "code",
   "execution_count": 22,
   "metadata": {
    "colab": {
     "autoexec": {
      "startup": false,
      "wait_interval": 0
     },
     "base_uri": "https://localhost:8080/",
     "height": 123
    },
    "colab_type": "code",
    "executionInfo": {
     "elapsed": 4482254,
     "status": "ok",
     "timestamp": 1532427068964,
     "user": {
      "displayName": "Vijay Bhati",
      "photoUrl": "//lh6.googleusercontent.com/-8eiDzCxazcQ/AAAAAAAAAAI/AAAAAAAAETg/em_yQO7VCzk/s50-c-k-no/photo.jpg",
      "userId": "111311313461951215577"
     },
     "user_tz": -330
    },
    "id": "vJ91PESG5nu1",
    "outputId": "a815fef8-7a33-4410-86ab-f0cae349380d"
   },
   "outputs": [
    {
     "name": "stdout",
     "output_type": "stream",
     "text": [
      "Fitting 10 folds for each of 29 candidates, totalling 290 fits\n"
     ]
    },
    {
     "name": "stderr",
     "output_type": "stream",
     "text": [
      "[Parallel(n_jobs=-1)]: Done  46 tasks      | elapsed:  3.5min\n",
      "[Parallel(n_jobs=-1)]: Done 196 tasks      | elapsed: 23.5min\n",
      "[Parallel(n_jobs=-1)]: Done 290 out of 290 | elapsed: 74.5min finished\n"
     ]
    },
    {
     "name": "stdout",
     "output_type": "stream",
     "text": [
      "Best HyperParameter:  {'max_depth': 9}\n",
      "Best Accuracy: 86.43%\n"
     ]
    }
   ],
   "source": [
    "# GridSearch\n",
    "from sklearn.model_selection import GridSearchCV\n",
    "from sklearn.model_selection import TimeSeriesSplit\n",
    "\n",
    "clf = DecisionTreeClassifier()\n",
    "param_grid = {'max_depth': np.concatenate((np.arange(1, 20), np.arange(20, 500, 50)))} # params we need to try on classifier\n",
    "tscv = TimeSeriesSplit(n_splits=10) # For time based splitting\n",
    "gsv = GridSearchCV(clf,param_grid,cv=tscv,verbose=1,n_jobs=-1)\n",
    "gsv.fit(X_train,y_train)\n",
    "print(\"Best HyperParameter: \",gsv.best_params_)\n",
    "print(\"Best Accuracy: %.2f%%\"%(gsv.best_score_*100))"
   ]
  },
  {
   "cell_type": "code",
   "execution_count": 23,
   "metadata": {
    "colab": {
     "autoexec": {
      "startup": false,
      "wait_interval": 0
     },
     "base_uri": "https://localhost:8080/",
     "height": 158
    },
    "colab_type": "code",
    "executionInfo": {
     "elapsed": 1447,
     "status": "ok",
     "timestamp": 1532427070513,
     "user": {
      "displayName": "Vijay Bhati",
      "photoUrl": "//lh6.googleusercontent.com/-8eiDzCxazcQ/AAAAAAAAAAI/AAAAAAAAETg/em_yQO7VCzk/s50-c-k-no/photo.jpg",
      "userId": "111311313461951215577"
     },
     "user_tz": -330
    },
    "id": "wUIrDdI05nu7",
    "outputId": "03f7d186-2551-4ac3-8fdb-ed873d2b70ba"
   },
   "outputs": [
    {
     "name": "stdout",
     "output_type": "stream",
     "text": [
      "                 Classification Report Test Data\n",
      "             precision    recall  f1-score   support\n",
      "\n",
      "          0       0.86      0.98      0.92      9873\n",
      "          1       0.76      0.26      0.38      2127\n",
      "\n",
      "avg / total       0.84      0.85      0.82     12000\n",
      "\n"
     ]
    }
   ],
   "source": [
    "from sklearn.metrics import classification_report\n",
    "from sklearn.metrics import accuracy_score\n",
    "from sklearn.metrics import confusion_matrix\n",
    "\n",
    "print(\"                 Classification Report Test Data\")\n",
    "print(classification_report(y_test, gsv.predict(X_test)))"
   ]
  },
  {
   "cell_type": "code",
   "execution_count": 24,
   "metadata": {
    "colab": {
     "autoexec": {
      "startup": false,
      "wait_interval": 0
     },
     "base_uri": "https://localhost:8080/",
     "height": 392
    },
    "colab_type": "code",
    "executionInfo": {
     "elapsed": 1836,
     "status": "ok",
     "timestamp": 1532427073011,
     "user": {
      "displayName": "Vijay Bhati",
      "photoUrl": "//lh6.googleusercontent.com/-8eiDzCxazcQ/AAAAAAAAAAI/AAAAAAAAETg/em_yQO7VCzk/s50-c-k-no/photo.jpg",
      "userId": "111311313461951215577"
     },
     "user_tz": -330
    },
    "id": "_MRP2Avz5nu_",
    "outputId": "ec80414f-a0a5-4a2a-de80-e871e9603a7e"
   },
   "outputs": [
    {
     "data": {
      "image/png": "[encoded data removed]",
      "text/plain": [
       "<matplotlib.figure.Figure at 0x7f8da5005f98>"
      ]
     },
     "metadata": {
      "tags": []
     },
     "output_type": "display_data"
    }
   ],
   "source": [
    "# Plot Accuracy - Depth \n",
    "mean_score = gsv.cv_results_['mean_test_score']\n",
    "std_score = gsv.cv_results_['std_test_score']\n",
    "plt.figure(figsize=(10, 6))\n",
    "plt.plot(param_grid['max_depth'], mean_score, label='Accuracy')\n",
    "plt.fill_between(param_grid['max_depth'], mean_score + std_score, mean_score - std_score, alpha=0.1, label='± 1 std. dev')\n",
    "plt.ylabel('Accuracy')\n",
    "plt.xlabel('Depth')\n",
    "plt.legend()\n",
    "plt.xscale('log')"
   ]
  },
  {
   "cell_type": "code",
   "execution_count": 25,
   "metadata": {
    "colab": {
     "autoexec": {
      "startup": false,
      "wait_interval": 0
     },
     "base_uri": "https://localhost:8080/",
     "height": 368
    },
    "colab_type": "code",
    "executionInfo": {
     "elapsed": 1797,
     "status": "ok",
     "timestamp": 1532427075182,
     "user": {
      "displayName": "Vijay Bhati",
      "photoUrl": "//lh6.googleusercontent.com/-8eiDzCxazcQ/AAAAAAAAAAI/AAAAAAAAETg/em_yQO7VCzk/s50-c-k-no/photo.jpg",
      "userId": "111311313461951215577"
     },
     "user_tz": -330
    },
    "id": "nmQanWFD8Izz",
    "outputId": "6bb1dfd5-7e6e-4d3d-8bd6-a55c62b91119"
   },
   "outputs": [
    {
     "data": {
      "text/plain": [
       "<matplotlib.axes._subplots.AxesSubplot at 0x7f8da4c16cf8>"
      ]
     },
     "execution_count": 25,
     "metadata": {
      "tags": []
     },
     "output_type": "execute_result"
    },
    {
     "data": {
      "image/png": "[encoded data removed]",
      "text/plain": [
       "<matplotlib.figure.Figure at 0x7f8dad413eb8>"
      ]
     },
     "metadata": {
      "tags": []
     },
     "output_type": "display_data"
    }
   ],
   "source": [
    "pred = gsv.predict(X_test)\n",
    "df_cm = pd.DataFrame(confusion_matrix(y_test, pred), range(2),range(2))\n",
    "sns.set(font_scale=1.4)\n",
    "sns.heatmap(df_cm, annot=True,annot_kws={\"size\": 16}, fmt='g')"
   ]
  },
  {
   "cell_type": "markdown",
   "metadata": {
    "colab_type": "text",
    "id": "da2TkBsk5nvG"
   },
   "source": [
    "# Avg Word2Vec"
   ]
  },
  {
   "cell_type": "code",
   "execution_count": 0,
   "metadata": {
    "colab": {
     "autoexec": {
      "startup": false,
      "wait_interval": 0
     }
    },
    "colab_type": "code",
    "id": "5IsaHwy95nvG"
   },
   "outputs": [],
   "source": [
    "list_corpus = df_sample[\"Text\"].tolist()\n",
    "list_labels = df_sample[\"Score\"].tolist()"
   ]
  },
  {
   "cell_type": "code",
   "execution_count": 27,
   "metadata": {
    "colab": {
     "autoexec": {
      "startup": false,
      "wait_interval": 0
     },
     "base_uri": "https://localhost:8080/",
     "height": 212
    },
    "colab_type": "code",
    "executionInfo": {
     "elapsed": 190490,
     "status": "ok",
     "timestamp": 1532427267855,
     "user": {
      "displayName": "Vijay Bhati",
      "photoUrl": "//lh6.googleusercontent.com/-8eiDzCxazcQ/AAAAAAAAAAI/AAAAAAAAETg/em_yQO7VCzk/s50-c-k-no/photo.jpg",
      "userId": "111311313461951215577"
     },
     "user_tz": -330
    },
    "id": "mHo_MSSJ5nvI",
    "outputId": "ee374d8a-8fc5-48d2-d806-8d0d29391562"
   },
   "outputs": [
    {
     "name": "stdout",
     "output_type": "stream",
     "text": [
      "--2018-07-24 10:11:19--  https://s3.amazonaws.com/dl4j-distribution/GoogleNews-vectors-negative300.bin.gz\n",
      "Resolving s3.amazonaws.com (s3.amazonaws.com)... 52.216.129.125\n",
      "Connecting to s3.amazonaws.com (s3.amazonaws.com)|52.216.129.125|:443... connected.\n",
      "HTTP request sent, awaiting response... 200 OK\n",
      "Length: 1647046227 (1.5G) [application/x-gzip]\n",
      "Saving to: ‘GoogleNews-vectors-negative300.bin.gz’\n",
      "\n",
      "300.bin.gz           89%[================>   ]   1.37G  16.9MB/s    eta 6s     GoogleNews-vectors- 100%[===================>]   1.53G  18.1MB/s    in 54s     \n",
      "\n",
      "2018-07-24 10:12:13 (29.3 MB/s) - ‘GoogleNews-vectors-negative300.bin.gz’ saved [1647046227/1647046227]\n",
      "\n"
     ]
    }
   ],
   "source": [
    "from gensim.models import KeyedVectors\n",
    "!wget -c \"https://s3.amazonaws.com/dl4j-distribution/GoogleNews-vectors-negative300.bin.gz\"\n",
    "w2v_model_google = KeyedVectors.load_word2vec_format('GoogleNews-vectors-negative300.bin.gz', binary=True)"
   ]
  },
  {
   "cell_type": "code",
   "execution_count": 0,
   "metadata": {
    "colab": {
     "autoexec": {
      "startup": false,
      "wait_interval": 0
     }
    },
    "colab_type": "code",
    "id": "m8A69qAa5nvL"
   },
   "outputs": [],
   "source": [
    "def get_average_word2vec(tokens_list, vector, generate_missing=False, k=300):\n",
    "    if len(tokens_list)<1:\n",
    "        return np.zeros(k)\n",
    "    if generate_missing:\n",
    "        vectorized = [vector[word] if word in vector else np.random.rand(k) for word in tokens_list]\n",
    "    else:\n",
    "        vectorized = [vector[word] if word in vector else np.zeros(k) for word in tokens_list]\n",
    "    length = len(vectorized)\n",
    "    summed = np.sum(vectorized, axis=0)\n",
    "    averaged = np.divide(summed, length)\n",
    "    return averaged\n",
    "\n",
    "def get_word2vec_embeddings(vectors, clean_questions, generate_missing=False):\n",
    "    embeddings = clean_questions['CleanedText'].apply(lambda x: get_average_word2vec(x, vectors, \n",
    "                                                                                generate_missing=generate_missing))\n",
    "    return list(embeddings)"
   ]
  },
  {
   "cell_type": "code",
   "execution_count": 0,
   "metadata": {
    "colab": {
     "autoexec": {
      "startup": false,
      "wait_interval": 0
     }
    },
    "colab_type": "code",
    "id": "OcgCpzlj5nvM"
   },
   "outputs": [],
   "source": [
    "embeddings = get_word2vec_embeddings(w2v_model_google, df_sample)\n",
    "X_sample, _, y_sample, _ = train_test_split(embeddings, list_labels, test_size=0.3)\n",
    "X_train, X_test, y_train, y_test = train_test_split(X_sample, y_sample)"
   ]
  },
  {
   "cell_type": "code",
   "execution_count": 30,
   "metadata": {
    "colab": {
     "autoexec": {
      "startup": false,
      "wait_interval": 0
     },
     "base_uri": "https://localhost:8080/",
     "height": 34
    },
    "colab_type": "code",
    "executionInfo": {
     "elapsed": 2017,
     "status": "ok",
     "timestamp": 1532427301432,
     "user": {
      "displayName": "Vijay Bhati",
      "photoUrl": "//lh6.googleusercontent.com/-8eiDzCxazcQ/AAAAAAAAAAI/AAAAAAAAETg/em_yQO7VCzk/s50-c-k-no/photo.jpg",
      "userId": "111311313461951215577"
     },
     "user_tz": -330
    },
    "id": "liwDMnMl5nvP",
    "outputId": "0d905aa0-a54d-4480-fe74-3f414c70babc"
   },
   "outputs": [
    {
     "name": "stdout",
     "output_type": "stream",
     "text": [
      "Accuracy: 0.8504285714285714\n"
     ]
    }
   ],
   "source": [
    "clf = DecisionTreeClassifier()\n",
    "clf.fit(X_train, y_train)\n",
    "\n",
    "print('Accuracy:', clf.score(X_test, y_test))"
   ]
  },
  {
   "cell_type": "code",
   "execution_count": 31,
   "metadata": {
    "colab": {
     "autoexec": {
      "startup": false,
      "wait_interval": 0
     },
     "base_uri": "https://localhost:8080/",
     "height": 123
    },
    "colab_type": "code",
    "executionInfo": {
     "elapsed": 118740,
     "status": "ok",
     "timestamp": 1532427420533,
     "user": {
      "displayName": "Vijay Bhati",
      "photoUrl": "//lh6.googleusercontent.com/-8eiDzCxazcQ/AAAAAAAAAAI/AAAAAAAAETg/em_yQO7VCzk/s50-c-k-no/photo.jpg",
      "userId": "111311313461951215577"
     },
     "user_tz": -330
    },
    "id": "OPtOThVB5nvR",
    "outputId": "7208b724-3006-427b-ab6e-47bb7a8f8b8e"
   },
   "outputs": [
    {
     "name": "stdout",
     "output_type": "stream",
     "text": [
      "Fitting 10 folds for each of 20 candidates, totalling 200 fits\n"
     ]
    },
    {
     "name": "stderr",
     "output_type": "stream",
     "text": [
      "[Parallel(n_jobs=-1)]: Done  46 tasks      | elapsed:   27.8s\n",
      "[Parallel(n_jobs=-1)]: Done 196 tasks      | elapsed:  1.9min\n",
      "[Parallel(n_jobs=-1)]: Done 200 out of 200 | elapsed:  1.9min finished\n"
     ]
    },
    {
     "name": "stdout",
     "output_type": "stream",
     "text": [
      "Best HyperParameter:  {'max_depth': 1}\n",
      "Best Accuracy: 84.40%\n"
     ]
    }
   ],
   "source": [
    "# GridSearch\n",
    "from sklearn.model_selection import GridSearchCV\n",
    "from sklearn.model_selection import TimeSeriesSplit\n",
    "\n",
    "clf = DecisionTreeClassifier()\n",
    "param_grid = {'max_depth': np.concatenate((np.arange(1, 20), np.arange(20, 50, 50)))} # params we need to try on classifier\n",
    "tscv = TimeSeriesSplit(n_splits=10) # For time based splitting\n",
    "gsv = GridSearchCV(clf,param_grid,cv=tscv,verbose=1,n_jobs=-1)\n",
    "gsv.fit(X_train,y_train)\n",
    "print(\"Best HyperParameter: \",gsv.best_params_)\n",
    "print(\"Best Accuracy: %.2f%%\"%(gsv.best_score_*100))"
   ]
  },
  {
   "cell_type": "code",
   "execution_count": 32,
   "metadata": {
    "colab": {
     "autoexec": {
      "startup": false,
      "wait_interval": 0
     },
     "base_uri": "https://localhost:8080/",
     "height": 214
    },
    "colab_type": "code",
    "executionInfo": {
     "elapsed": 1033,
     "status": "ok",
     "timestamp": 1532427421855,
     "user": {
      "displayName": "Vijay Bhati",
      "photoUrl": "//lh6.googleusercontent.com/-8eiDzCxazcQ/AAAAAAAAAAI/AAAAAAAAETg/em_yQO7VCzk/s50-c-k-no/photo.jpg",
      "userId": "111311313461951215577"
     },
     "user_tz": -330
    },
    "id": "mNuMaLb_5nvT",
    "outputId": "5f0a11a3-5191-4fa2-979b-e83c33f66eb7"
   },
   "outputs": [
    {
     "name": "stdout",
     "output_type": "stream",
     "text": [
      "                 Classification Report Test Data\n",
      "             precision    recall  f1-score   support\n",
      "\n",
      "          0       0.85      1.00      0.92      5953\n",
      "          1       0.00      0.00      0.00      1047\n",
      "\n",
      "avg / total       0.72      0.85      0.78      7000\n",
      "\n"
     ]
    },
    {
     "name": "stderr",
     "output_type": "stream",
     "text": [
      "/usr/local/lib/python3.6/dist-packages/sklearn/metrics/classification.py:1135: UndefinedMetricWarning: Precision and F-score are ill-defined and being set to 0.0 in labels with no predicted samples.\n",
      "  'precision', 'predicted', average, warn_for)\n"
     ]
    }
   ],
   "source": [
    "print(\"                 Classification Report Test Data\")\n",
    "print(classification_report(y_test, gsv.predict(X_test)))"
   ]
  },
  {
   "cell_type": "code",
   "execution_count": 33,
   "metadata": {
    "colab": {
     "autoexec": {
      "startup": false,
      "wait_interval": 0
     },
     "base_uri": "https://localhost:8080/",
     "height": 401
    },
    "colab_type": "code",
    "executionInfo": {
     "elapsed": 1754,
     "status": "ok",
     "timestamp": 1532427424006,
     "user": {
      "displayName": "Vijay Bhati",
      "photoUrl": "//lh6.googleusercontent.com/-8eiDzCxazcQ/AAAAAAAAAAI/AAAAAAAAETg/em_yQO7VCzk/s50-c-k-no/photo.jpg",
      "userId": "111311313461951215577"
     },
     "user_tz": -330
    },
    "id": "5quWxRL-5nvX",
    "outputId": "8650e582-5d8c-4d23-b4f8-341391d16fbb"
   },
   "outputs": [
    {
     "data": {
      "image/png": "[encoded data removed]",
      "text/plain": [
       "<matplotlib.figure.Figure at 0x7f8d62faeeb8>"
      ]
     },
     "metadata": {
      "tags": []
     },
     "output_type": "display_data"
    }
   ],
   "source": [
    "# Plot Accuracy - Depth \n",
    "mean_score = gsv.cv_results_['mean_test_score']\n",
    "std_score = gsv.cv_results_['std_test_score']\n",
    "plt.figure(figsize=(10, 6))\n",
    "plt.plot(param_grid['max_depth'], mean_score, label='Accuracy')\n",
    "plt.fill_between(param_grid['max_depth'], mean_score + std_score, mean_score - std_score, alpha=0.1, label='± 1 std. dev')\n",
    "plt.ylabel('Accuracy')\n",
    "plt.xlabel('Depth')\n",
    "plt.legend()\n",
    "plt.xscale('log')"
   ]
  },
  {
   "cell_type": "code",
   "execution_count": 34,
   "metadata": {
    "colab": {
     "autoexec": {
      "startup": false,
      "wait_interval": 0
     },
     "base_uri": "https://localhost:8080/",
     "height": 368
    },
    "colab_type": "code",
    "executionInfo": {
     "elapsed": 1919,
     "status": "ok",
     "timestamp": 1532427426216,
     "user": {
      "displayName": "Vijay Bhati",
      "photoUrl": "//lh6.googleusercontent.com/-8eiDzCxazcQ/AAAAAAAAAAI/AAAAAAAAETg/em_yQO7VCzk/s50-c-k-no/photo.jpg",
      "userId": "111311313461951215577"
     },
     "user_tz": -330
    },
    "id": "Iepi68cK8MVR",
    "outputId": "862f1b55-99e1-457b-faa6-f2856de5d083"
   },
   "outputs": [
    {
     "data": {
      "text/plain": [
       "<matplotlib.axes._subplots.AxesSubplot at 0x7f8d62b96c88>"
      ]
     },
     "execution_count": 34,
     "metadata": {
      "tags": []
     },
     "output_type": "execute_result"
    },
    {
     "data": {
      "image/png": "[encoded data removed]",
      "text/plain": [
       "<matplotlib.figure.Figure at 0x7f8d62b567b8>"
      ]
     },
     "metadata": {
      "tags": []
     },
     "output_type": "display_data"
    }
   ],
   "source": [
    "pred = gsv.predict(X_test)\n",
    "df_cm = pd.DataFrame(confusion_matrix(y_test, pred), range(2),range(2))\n",
    "sns.set(font_scale=1.4)\n",
    "sns.heatmap(df_cm, annot=True,annot_kws={\"size\": 16}, fmt='g')"
   ]
  },
  {
   "cell_type": "markdown",
   "metadata": {
    "colab_type": "text",
    "id": "R5mnJvvp5nvc"
   },
   "source": [
    "# Tf-IDF Word2vec"
   ]
  },
  {
   "cell_type": "code",
   "execution_count": 35,
   "metadata": {
    "colab": {
     "autoexec": {
      "startup": false,
      "wait_interval": 0
     },
     "base_uri": "https://localhost:8080/",
     "height": 34
    },
    "colab_type": "code",
    "executionInfo": {
     "elapsed": 2951,
     "status": "ok",
     "timestamp": 1532427429300,
     "user": {
      "displayName": "Vijay Bhati",
      "photoUrl": "//lh6.googleusercontent.com/-8eiDzCxazcQ/AAAAAAAAAAI/AAAAAAAAETg/em_yQO7VCzk/s50-c-k-no/photo.jpg",
      "userId": "111311313461951215577"
     },
     "user_tz": -330
    },
    "id": "sq5GFusn5nvc",
    "outputId": "eb3d88b7-f0cc-4d77-9872-468b8eae56a2"
   },
   "outputs": [
    {
     "name": "stdout",
     "output_type": "stream",
     "text": [
      "(5000, 152256)\n"
     ]
    }
   ],
   "source": [
    "n_samples = 5000\n",
    "df_sample_new = df_sample.sample(n_samples)\n",
    "df_sample_new.sort_values('Time',inplace=True) \n",
    "\n",
    "from sklearn.feature_extraction.text import TfidfVectorizer\n",
    "tfidf = TfidfVectorizer(ngram_range=(1,2)) # Using bi-grams\n",
    "tfidf_vec_new = tfidf.fit_transform(df_sample_new['CleanedText_NoStem'].values)\n",
    "print(tfidf_vec_new.shape)\n",
    "features = tfidf.get_feature_names()"
   ]
  },
  {
   "cell_type": "code",
   "execution_count": 36,
   "metadata": {
    "colab": {
     "autoexec": {
      "startup": false,
      "wait_interval": 0
     },
     "base_uri": "https://localhost:8080/",
     "height": 52
    },
    "colab_type": "code",
    "executionInfo": {
     "elapsed": 1161836,
     "status": "ok",
     "timestamp": 1532428591309,
     "user": {
      "displayName": "Vijay Bhati",
      "photoUrl": "//lh6.googleusercontent.com/-8eiDzCxazcQ/AAAAAAAAAAI/AAAAAAAAETg/em_yQO7VCzk/s50-c-k-no/photo.jpg",
      "userId": "111311313461951215577"
     },
     "user_tz": -330
    },
    "id": "grD-3G225nvg",
    "outputId": "89814e5f-f2a8-40f6-9e0c-34d0e3e47677"
   },
   "outputs": [
    {
     "name": "stderr",
     "output_type": "stream",
     "text": [
      "/usr/local/lib/python3.6/dist-packages/ipykernel_launcher.py:11: DeprecationWarning: Call to deprecated `wv` (Attribute will be removed in 4.0.0, use self instead).\n",
      "  # This is added back by InteractiveShellApp.init_path()\n"
     ]
    }
   ],
   "source": [
    "tfidf_w2v_vec_google = []\n",
    "review = 0\n",
    "\n",
    "for sent in df_sample_new['CleanedText_NoStem'].values:\n",
    "    cnt = 0 \n",
    "    weighted_sum  = 0\n",
    "    sent_vec = np.zeros(300)\n",
    "    sent = sent.decode(\"utf-8\") \n",
    "    for word in sent.split():\n",
    "        try:\n",
    "            wvec = w2v_model_google.wv[word] \n",
    "            tfidf_vec = tfidf_vec_new[review,features.index(word)]\n",
    "            sent_vec += (wvec * tfidf_vec)\n",
    "            weighted_sum += tfidf_vec\n",
    "        except:\n",
    "            pass\n",
    "    sent_vec /= weighted_sum\n",
    "    tfidf_w2v_vec_google.append(sent_vec)\n",
    "    review += 1\n",
    "tfidf_w2v_vec_google = np.array(tfidf_w2v_vec_google)"
   ]
  },
  {
   "cell_type": "code",
   "execution_count": 0,
   "metadata": {
    "colab": {
     "autoexec": {
      "startup": false,
      "wait_interval": 0
     }
    },
    "colab_type": "code",
    "id": "tjJTdqUK5nvj"
   },
   "outputs": [],
   "source": [
    "tfidfw2v_vecs_norm = preprocessing.normalize(tfidf_w2v_vec_google)"
   ]
  },
  {
   "cell_type": "code",
   "execution_count": 0,
   "metadata": {
    "colab": {
     "autoexec": {
      "startup": false,
      "wait_interval": 0
     }
    },
    "colab_type": "code",
    "id": "fq69Aslq5nvm"
   },
   "outputs": [],
   "source": [
    "X_sample, _, y_sample, _  = train_test_split(tfidfw2v_vecs_norm, df_sample_new['Score'], test_size=0.3)\n",
    "X_train, X_test, y_train, y_test = train_test_split(X_sample, y_sample)"
   ]
  },
  {
   "cell_type": "code",
   "execution_count": 39,
   "metadata": {
    "colab": {
     "autoexec": {
      "startup": false,
      "wait_interval": 0
     },
     "base_uri": "https://localhost:8080/",
     "height": 34
    },
    "colab_type": "code",
    "executionInfo": {
     "elapsed": 3195,
     "status": "ok",
     "timestamp": 1532428599048,
     "user": {
      "displayName": "Vijay Bhati",
      "photoUrl": "//lh6.googleusercontent.com/-8eiDzCxazcQ/AAAAAAAAAAI/AAAAAAAAETg/em_yQO7VCzk/s50-c-k-no/photo.jpg",
      "userId": "111311313461951215577"
     },
     "user_tz": -330
    },
    "id": "QXX-SHGn5nvo",
    "outputId": "3cda8eb4-4c51-4c00-98fa-c03d5d3ab116"
   },
   "outputs": [
    {
     "name": "stdout",
     "output_type": "stream",
     "text": [
      "Accuracy: 0.7611428571428571\n"
     ]
    }
   ],
   "source": [
    "clf = DecisionTreeClassifier()\n",
    "clf.fit(X_train, y_train)\n",
    "\n",
    "print('Accuracy:', clf.score(X_test, y_test))"
   ]
  },
  {
   "cell_type": "code",
   "execution_count": 40,
   "metadata": {
    "colab": {
     "autoexec": {
      "startup": false,
      "wait_interval": 0
     },
     "base_uri": "https://localhost:8080/",
     "height": 105
    },
    "colab_type": "code",
    "executionInfo": {
     "elapsed": 59003,
     "status": "ok",
     "timestamp": 1532428658855,
     "user": {
      "displayName": "Vijay Bhati",
      "photoUrl": "//lh6.googleusercontent.com/-8eiDzCxazcQ/AAAAAAAAAAI/AAAAAAAAETg/em_yQO7VCzk/s50-c-k-no/photo.jpg",
      "userId": "111311313461951215577"
     },
     "user_tz": -330
    },
    "id": "z_v_K5iO5nvq",
    "outputId": "273a1787-0101-4bff-9e7b-037809c6be1e"
   },
   "outputs": [
    {
     "name": "stdout",
     "output_type": "stream",
     "text": [
      "Fitting 10 folds for each of 20 candidates, totalling 200 fits\n"
     ]
    },
    {
     "name": "stderr",
     "output_type": "stream",
     "text": [
      "[Parallel(n_jobs=-1)]: Done  98 tasks      | elapsed:   16.9s\n",
      "[Parallel(n_jobs=-1)]: Done 200 out of 200 | elapsed:   56.6s finished\n"
     ]
    },
    {
     "name": "stdout",
     "output_type": "stream",
     "text": [
      "Best HyperParameter:  {'max_depth': 1}\n",
      "Best Accuracy: 83.40%\n"
     ]
    }
   ],
   "source": [
    "# GridSearch\n",
    "from sklearn.model_selection import GridSearchCV\n",
    "from sklearn.model_selection import TimeSeriesSplit\n",
    "\n",
    "clf = DecisionTreeClassifier()\n",
    "param_grid = {'max_depth': np.concatenate((np.arange(1, 20), np.arange(20, 50, 50)))} # params we need to try on classifier\n",
    "tscv = TimeSeriesSplit(n_splits=10) # For time based splitting\n",
    "gsv = GridSearchCV(clf,param_grid,cv=tscv,verbose=1,n_jobs=-1)\n",
    "gsv.fit(X_train,y_train)\n",
    "print(\"Best HyperParameter: \",gsv.best_params_)\n",
    "print(\"Best Accuracy: %.2f%%\"%(gsv.best_score_*100))"
   ]
  },
  {
   "cell_type": "code",
   "execution_count": 41,
   "metadata": {
    "colab": {
     "autoexec": {
      "startup": false,
      "wait_interval": 0
     },
     "base_uri": "https://localhost:8080/",
     "height": 214
    },
    "colab_type": "code",
    "executionInfo": {
     "elapsed": 1161,
     "status": "ok",
     "timestamp": 1532428660106,
     "user": {
      "displayName": "Vijay Bhati",
      "photoUrl": "//lh6.googleusercontent.com/-8eiDzCxazcQ/AAAAAAAAAAI/AAAAAAAAETg/em_yQO7VCzk/s50-c-k-no/photo.jpg",
      "userId": "111311313461951215577"
     },
     "user_tz": -330
    },
    "id": "jJvtV3sM5nvt",
    "outputId": "2632ad62-1417-44a7-864a-f1d4c9931953"
   },
   "outputs": [
    {
     "name": "stdout",
     "output_type": "stream",
     "text": [
      "                 Classification Report Test Data\n",
      "             precision    recall  f1-score   support\n",
      "\n",
      "          0       0.86      1.00      0.92       752\n",
      "          1       0.00      0.00      0.00       123\n",
      "\n",
      "avg / total       0.74      0.86      0.79       875\n",
      "\n"
     ]
    },
    {
     "name": "stderr",
     "output_type": "stream",
     "text": [
      "/usr/local/lib/python3.6/dist-packages/sklearn/metrics/classification.py:1135: UndefinedMetricWarning: Precision and F-score are ill-defined and being set to 0.0 in labels with no predicted samples.\n",
      "  'precision', 'predicted', average, warn_for)\n"
     ]
    }
   ],
   "source": [
    "print(\"                 Classification Report Test Data\")\n",
    "print(classification_report(y_test, gsv.predict(X_test)))"
   ]
  },
  {
   "cell_type": "code",
   "execution_count": 42,
   "metadata": {
    "colab": {
     "autoexec": {
      "startup": false,
      "wait_interval": 0
     },
     "base_uri": "https://localhost:8080/",
     "height": 401
    },
    "colab_type": "code",
    "executionInfo": {
     "elapsed": 1712,
     "status": "ok",
     "timestamp": 1532428662543,
     "user": {
      "displayName": "Vijay Bhati",
      "photoUrl": "//lh6.googleusercontent.com/-8eiDzCxazcQ/AAAAAAAAAAI/AAAAAAAAETg/em_yQO7VCzk/s50-c-k-no/photo.jpg",
      "userId": "111311313461951215577"
     },
     "user_tz": -330
    },
    "id": "2ioJo4ou5nvw",
    "outputId": "cad4bfc4-221e-4507-9012-2f6ddd09d42e"
   },
   "outputs": [
    {
     "data": {
      "image/png": "[encoded data removed]",
      "text/plain": [
       "<matplotlib.figure.Figure at 0x7f8db2992f28>"
      ]
     },
     "metadata": {
      "tags": []
     },
     "output_type": "display_data"
    }
   ],
   "source": [
    "# Plot Accuracy - Depth \n",
    "mean_score = gsv.cv_results_['mean_test_score']\n",
    "std_score = gsv.cv_results_['std_test_score']\n",
    "plt.figure(figsize=(10, 6))\n",
    "plt.plot(param_grid['max_depth'], mean_score, label='Accuracy')\n",
    "plt.fill_between(param_grid['max_depth'], mean_score + std_score, mean_score - std_score, alpha=0.1, label='± 1 std. dev')\n",
    "plt.ylabel('Accuracy')\n",
    "plt.xlabel('Depth')\n",
    "plt.legend()\n",
    "plt.xscale('log')"
   ]
  },
  {
   "cell_type": "code",
   "execution_count": 43,
   "metadata": {
    "colab": {
     "autoexec": {
      "startup": false,
      "wait_interval": 0
     },
     "base_uri": "https://localhost:8080/",
     "height": 373
    },
    "colab_type": "code",
    "executionInfo": {
     "elapsed": 991,
     "status": "ok",
     "timestamp": 1532428664824,
     "user": {
      "displayName": "Vijay Bhati",
      "photoUrl": "//lh6.googleusercontent.com/-8eiDzCxazcQ/AAAAAAAAAAI/AAAAAAAAETg/em_yQO7VCzk/s50-c-k-no/photo.jpg",
      "userId": "111311313461951215577"
     },
     "user_tz": -330
    },
    "id": "Sy29CdZg8wlg",
    "outputId": "eb885c1a-0b17-4378-fe42-cd300db38dee"
   },
   "outputs": [
    {
     "data": {
      "text/plain": [
       "<matplotlib.axes._subplots.AxesSubplot at 0x7f8d62bff9e8>"
      ]
     },
     "execution_count": 43,
     "metadata": {
      "tags": []
     },
     "output_type": "execute_result"
    },
    {
     "data": {
      "image/png": "[encoded data removed]",
      "text/plain": [
       "<matplotlib.figure.Figure at 0x7f8d62af9cc0>"
      ]
     },
     "metadata": {
      "tags": []
     },
     "output_type": "display_data"
    }
   ],
   "source": [
    "pred = gsv.predict(X_test)\n",
    "df_cm = pd.DataFrame(confusion_matrix(y_test, pred), range(2),range(2))\n",
    "sns.set(font_scale=1.4)\n",
    "sns.heatmap(df_cm, annot=True,annot_kws={\"size\": 16}, fmt='g')"
   ]
  },
  {
   "cell_type": "code",
   "execution_count": 44,
   "metadata": {
    "colab": {
     "autoexec": {
      "startup": false,
      "wait_interval": 0
     },
     "base_uri": "https://localhost:8080/",
     "height": 768
    },
    "colab_type": "code",
    "executionInfo": {
     "elapsed": 1824,
     "status": "ok",
     "timestamp": 1532428667677,
     "user": {
      "displayName": "Vijay Bhati",
      "photoUrl": "//lh6.googleusercontent.com/-8eiDzCxazcQ/AAAAAAAAAAI/AAAAAAAAETg/em_yQO7VCzk/s50-c-k-no/photo.jpg",
      "userId": "111311313461951215577"
     },
     "user_tz": -330
    },
    "id": "vA2Jz17o-U5X",
    "outputId": "19a2b514-f296-4738-b6e2-f4a10c2b4854"
   },
   "outputs": [
    {
     "data": {
      "image/png": "[encoded data removed]",
      "text/plain": [
       "<matplotlib.figure.Figure at 0x7f8d62b5c550>"
      ]
     },
     "metadata": {
      "tags": []
     },
     "output_type": "display_data"
    }
   ],
   "source": [
    "from matplotlib import pyplot\n",
    "importances = gsv.best_estimator_.feature_importances_\n",
    "indices = np.argsort(importances)[::-1][:30]\n",
    "names = bi_gram.get_feature_names()\n",
    "sns.set(rc={'figure.figsize':(15,12)})\n",
    "plt.figure()\n",
    "plt.title(\"Feature Importance\")\n",
    "plt.bar(range(30), importances[indices], color='r')\n",
    "names = np.array(names)\n",
    "plt.xticks(range(30), names[indices], rotation=90)\n",
    "plt.show()"
   ]
  },
  {
   "attachments": {},
   "cell_type": "markdown",
   "metadata": {
    "colab_type": "text",
    "id": "cyQ6T34W5IcT"
   },
   "source": [
    "<img src=\"DT1.png\">"
   ]
  },
  {
   "cell_type": "markdown",
   "metadata": {
    "colab_type": "text",
    "id": "uYRzBK-65nv4"
   },
   "source": [
    "# Conclusion:\n",
    "* Decision Trees on bi-gram, tfidf, avgword2vec and tfidfword2vec using depth 430 as max_depth\n",
    "* TF-IDF Featurizatiom(max_depth=9) gave the best accuracy of 86.43 and F1-Score of 0.82"
   ]
  },
  {
   "cell_type": "code",
   "execution_count": 0,
   "metadata": {
    "colab": {
     "autoexec": {
      "startup": false,
      "wait_interval": 0
     }
    },
    "colab_type": "code",
    "id": "-uhlreO15nv6"
   },
   "outputs": [],
   "source": []
  }
 ],
 "metadata": {
  "colab": {
   "collapsed_sections": [
    "ESF55Tz65nun",
    "da2TkBsk5nvG",
    "uYRzBK-65nv4"
   ],
   "default_view": {},
   "name": "Decision Tree to Amazon reviews dataset.ipynb",
   "provenance": [],
   "version": "0.3.2",
   "views": {}
  },
  "kernelspec": {
   "display_name": "Python 3",
   "language": "python",
   "name": "python3"
  },
  "language_info": {
   "codemirror_mode": {
    "name": "ipython",
    "version": 3
   },
   "file_extension": ".py",
   "mimetype": "text/x-python",
   "name": "python",
   "nbconvert_exporter": "python",
   "pygments_lexer": "ipython3",
   "version": "3.6.4"
  }
 },
 "nbformat": 4,
 "nbformat_minor": 1
}
